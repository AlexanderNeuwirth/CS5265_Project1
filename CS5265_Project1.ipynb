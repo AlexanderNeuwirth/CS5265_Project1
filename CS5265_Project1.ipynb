{
  "nbformat": 4,
  "nbformat_minor": 0,
  "metadata": {
    "colab": {
      "provenance": [],
      "include_colab_link": true
    },
    "kernelspec": {
      "name": "python3",
      "display_name": "Python 3"
    },
    "language_info": {
      "name": "python"
    }
  },
  "cells": [
    {
      "cell_type": "markdown",
      "metadata": {
        "id": "view-in-github",
        "colab_type": "text"
      },
      "source": [
        "<a href=\"https://colab.research.google.com/github/AlexanderNeuwirth/CS5265_Project1/blob/main/CS5265_Project1.ipynb\" target=\"_parent\"><img src=\"https://colab.research.google.com/assets/colab-badge.svg\" alt=\"Open In Colab\"/></a>"
      ]
    },
    {
      "cell_type": "markdown",
      "source": [
        "# Project 1 Definition\n",
        "Created for CS5265 at Vanderbilt University\n",
        "\n",
        "## Background\n",
        "\n",
        "How much can be inferred about a product's nutritional attributes from what you can easily see on the product listing?\n",
        "\n",
        "In other words, can you predict nutritional factors from brand, serving size, key words in the product title, and common ingredients?\n",
        "\n",
        "This type of problem is of particular interest in a healthcare setting, where understanding a product in context of its nutritional components is necessary to make food purchasing decisions that are safe for specific medical needs. I often use similar data in my day-to-day work on healthcare procurement systems. It's interesting and potentially useful to explore possible relationships between different products, ingredients, and brands, and their corresponding nutritional features.\n",
        "\n",
        "Due to wide available of government datasets and recipe sites with easily scraped online datasets, a fair amount of work has been done in this area. \n",
        "\n",
        "Random forest has been successfully applied to [predict processed vs unprocessed food](https://www.medrxiv.org/content/10.1101/2021.05.22.21257615v2.full), primarily from ingredient lists.\n",
        "\n",
        "In Norway, large amounts of missing data in government databases led at least one group to attempt nutrition extraction [purely from natural language product descriptions](https://static1.squarespace.com/static/606f36b890215d7048ddaac0/t/62ed22f1ad65d913278ca3cb/1659708147387/PREDICTING+A+FOOD+PRODUCT%E2%80%99S+MISSING+NUTRITIONAL+VALUES+USING+MACHINE+LEARNING.pdf). Their method suffers in cases with poor quality descriptions, and has no mechanism to weight by token importance, but outperforms simple imputation methods.\n",
        "\n",
        "Even nutrition prediction from raw images has seen [some success](https://arxiv.org/pdf/2011.01082.pdf?from=article_link), with confirmation by at least one [subsquent review experiment](https://www.ncbi.nlm.nih.gov/pmc/articles/PMC8787663/) that prepared new samples with known nutrition details.\n",
        "\n",
        "No published method seems to approach this problem using simple feature engineering on the description and ingredient list, seeking to predict nutrient attributes. That is the gap I seek to investigate in this work.\n",
        "\n",
        "## Project Description\n",
        "\n",
        "This project will attempt to perform binary classification on whether products meet a \"low fat\" dietary classification using only those higher-level features like brand, serving size, key words in the product title, and common ingredients.\n",
        "\n",
        "This project uses the [USDA Branded Food Products Dataset](https://data.nal.usda.gov/dataset/usda-branded-food-products-database). This data contains detailed ingredient listings, serving amounts, and nutrient quantities for about 250,000 branded and private-label food products sold in the United States. All entries are laboratory results with thorough human review and are held to high data quality standards by law, as the precise values inform many clinical and regulatory policy enforcement.\n",
        "\n",
        "Some raw data fields include:\n",
        "* **Product Title**: A text description\n",
        "* **Serving Size**: Continuous-valued numerical usage quantity (normalized to either grams or milliliters)\n",
        "* **Nutritionals**: Continuous-valued numerical nutrient quantities (by weight)\n",
        "* **Ingredients**: A comma-separated list of ingredients (as strings)\n",
        "\n",
        "Some easily derived processed data fields could include:\n",
        "* **Total Calories**: by summing simple benchmark multipliers of carbs, proteins, and fats\n",
        "* **Low Fat**: by thresholding fat total against the conventional threshold of 3 grams per serving\n",
        "* **Binary \"Contains Ingredient\" Features**: by filtering on the presence of common ingredient strings in the string ingredient column\n",
        "\n",
        "If successful in this task and similar binary classification tasks of interest, it may be appropriate to attempt regression on more complex target variables (like calorie count, grams of fat, or grams of fiber).\n",
        "\n",
        "Example Input Features:\n",
        "* Serving size (continuous)\n",
        "* Brand (categorical)\n",
        "* Key terms extracted from description (e.g. \"Healthy\", \"Diet\", \"Organic\") (binary)\n",
        "* Presence of specific ingredient terms, extracted from ingredient list (e.g. \"Butter\", \"Corn Syrup\", \"Sugar\"\n",
        "\n",
        "Example Output Features:\n",
        "* Low-Fat (binary classification)\n",
        "* *(Aspirational)* Calorie count (integer regression)\n",
        "\n",
        "## Performance Metric\n",
        "For the initial goal of binary low-fat classification, an appropriate performance metric is simple percent accuracy.\n",
        "If accuracy is low, precision and recall will be useful metrics to determine any bias in the error. If classes are heavily unbalanced (e.g. there are relatively few low-fat products) it may be appropriate to use an accuracy metric that reflects both precision and recall, like F1 score.\n",
        "\n",
        "Mathematical formulations of all of the above metrics are provided below, where T and F stand for \"True\" and \"False\", and P and N stand for \"Positive\" and \"Negative.\"\n",
        "\n",
        "$$Accuracy = \\frac{TP+TN}{TP+TN+FP+FN}$$\n",
        "$$Precision = \\frac{TP}{TP+FP}$$\n",
        "$$Recall = \\frac{TP}{TP+FN}$$\n",
        "$$F1 = \\frac{2*Precision*Recall}{Precision+Recall} = \\frac{2*TP}{2*TP+FP+FN}$$\n",
        "\n",
        "\n",
        "For the stretch goal of calorie count regression, an appropriate performance metric may be mean absolute error (MAE). (Given below where x is the actual value, y is the predicted value, and D is the number of data points being evaluated.)\n",
        "\n",
        "$$\\sum_{i=1}^{D}|x_i-y_i|$$\n",
        "\n",
        "This would be easily interpretable as how far off the model's predictions are from the actual number of calories (as opposed to mean squared error, which would be less readily interpretable.)"
      ],
      "metadata": {
        "id": "TlkqA71qz-NG"
      }
    },
    {
      "cell_type": "markdown",
      "source": [
        "## Basic EDA\n",
        "Key questions:\n",
        "\n",
        "1. Are full macronutrient details available for each product in the data? If not, what % of coverage do we have?\n",
        "2. Are units standardized for both servings and nutrients? If not, how difficult will standardization be?\n",
        "3. How much diversity of manufacturer/brand types exists in the data? Including count, frequent terms, and general recognizability of names in a random sample.\n",
        "4. What range of serving sizes exists in the data? What are the extreme outliers?"
      ],
      "metadata": {
        "id": "MTHed3vQMZ-c"
      }
    },
    {
      "cell_type": "markdown",
      "source": [
        "### Google Drive Connection"
      ],
      "metadata": {
        "id": "y1nnQ2D4uVSZ"
      }
    },
    {
      "cell_type": "code",
      "source": [
        "from google.colab import drive\n",
        "drive.mount('/content/drive')\n",
        "!ls drive/MyDrive/food_nutrition_data/"
      ],
      "metadata": {
        "id": "Pq8bxRt4tIO3",
        "outputId": "4d5a8662-8e3a-451d-d63f-e0f031814140",
        "colab": {
          "base_uri": "https://localhost:8080/"
        }
      },
      "execution_count": 1,
      "outputs": [
        {
          "output_type": "stream",
          "name": "stdout",
          "text": [
            "Drive already mounted at /content/drive; to attempt to forcibly remount, call drive.mount(\"/content/drive\", force_remount=True).\n",
            "BFPD_Doc.pdf\t\t\t Nutrients.csv\tServing_size.csv\n",
            "Derivation_Code_Description.csv  Products.csv\n"
          ]
        }
      ]
    },
    {
      "cell_type": "markdown",
      "source": [
        "### Data Loading"
      ],
      "metadata": {
        "id": "BZNJGik5uYhE"
      }
    },
    {
      "cell_type": "code",
      "source": [
        "import pandas as pd\n",
        "\n",
        "products_df = pd.read_csv(\"drive/MyDrive/food_nutrition_data/Products.csv\", low_memory=False)\n",
        "nutrients_df = pd.read_csv(\"drive/MyDrive/food_nutrition_data/Nutrients.csv\", low_memory=False)\n",
        "servings_df = pd.read_csv(\"drive/MyDrive/food_nutrition_data/Serving_size.csv\", low_memory=False)"
      ],
      "metadata": {
        "id": "vzGTLGkXt-3Z"
      },
      "execution_count": 2,
      "outputs": []
    },
    {
      "cell_type": "markdown",
      "source": [
        "### Nutrient Joining"
      ],
      "metadata": {
        "id": "RY4AB_7avqVG"
      }
    },
    {
      "cell_type": "code",
      "source": [
        "coverage = products_df.NDB_Number.isin(nutrients_df.NDB_No).value_counts()\n",
        "print(f\"{round(coverage[1]*100/coverage.sum(), 2)}% of products have some nutrient info\")"
      ],
      "metadata": {
        "id": "VJGumpGIu3sj",
        "outputId": "3d98948c-51c4-4a47-c476-3dd523cae872",
        "colab": {
          "base_uri": "https://localhost:8080/"
        }
      },
      "execution_count": 3,
      "outputs": [
        {
          "output_type": "stream",
          "name": "stdout",
          "text": [
            "99.48% of products have some nutrient info\n"
          ]
        }
      ]
    },
    {
      "cell_type": "code",
      "source": [
        "# Verify that each nutrient code corresponds to a unique name\n",
        "print(nutrients_df.groupby(\"Nutrient_Code\").Nutrient_name.nunique().value_counts())"
      ],
      "metadata": {
        "id": "U9hkMYpmwm2H",
        "outputId": "f6ed0f47-bbb8-452e-a793-e04f4a1a439c",
        "colab": {
          "base_uri": "https://localhost:8080/"
        }
      },
      "execution_count": 4,
      "outputs": [
        {
          "output_type": "stream",
          "name": "stdout",
          "text": [
            "1    95\n",
            "Name: Nutrient_name, dtype: int64\n"
          ]
        }
      ]
    },
    {
      "cell_type": "code",
      "source": [
        "# Find nutrients that appear at least ~10% of the time\n",
        "occurence_counts = nutrients_df.Nutrient_name.value_counts()\n",
        "occurence_counts[(occurence_counts > nutrients_df.NDB_No.nunique() * 0.1)]"
      ],
      "metadata": {
        "id": "Vm6QTINvyQHj",
        "outputId": "221ba56c-ac1b-4b6e-9208-6c692490f3c6",
        "colab": {
          "base_uri": "https://localhost:8080/"
        }
      },
      "execution_count": 5,
      "outputs": [
        {
          "output_type": "execute_result",
          "data": {
            "text/plain": [
              "Carbohydrate, by difference           237635\n",
              "Total lipid (fat)                     237559\n",
              "Protein                               237432\n",
              "Sodium, Na                            236887\n",
              "Energy                                228500\n",
              "Sugars, total                         223394\n",
              "Fatty acids, total saturated          205694\n",
              "Cholesterol                           202966\n",
              "Fiber, total dietary                  198171\n",
              "Iron, Fe                              196981\n",
              "Calcium, Ca                           196065\n",
              "Fatty acids, total trans              194801\n",
              "Vitamin C, total ascorbic acid        178809\n",
              "Vitamin A, IU                         174501\n",
              "Potassium, K                           53337\n",
              "Fatty acids, total monounsaturated     33822\n",
              "Fatty acids, total polyunsaturated     33799\n",
              "Vitamin D                              27668\n",
              "Name: Nutrient_name, dtype: int64"
            ]
          },
          "metadata": {},
          "execution_count": 5
        }
      ]
    },
    {
      "cell_type": "code",
      "source": [
        "# Drop nutrients that don't occur that often. These seem to be manually entered, and many apply to only a handful of products\n",
        "nutrients_to_drop = occurence_counts[(occurence_counts < nutrients_df.NDB_No.nunique() * 0.1)].index\n",
        "nutrients_df = nutrients_df[~nutrients_df.Nutrient_name.isin(nutrients_to_drop)]"
      ],
      "metadata": {
        "id": "c18ySKQH0AR9"
      },
      "execution_count": 6,
      "outputs": []
    },
    {
      "cell_type": "code",
      "source": [
        "# Verify that we don't need to normalize output UOMs since they are consistent for a given nutrient (no mixing mg and g)\n",
        "print(f\"Maximium unique units of measure per nutrient: {nutrients_df.groupby('Nutrient_name').Output_uom.nunique().max()}\")"
      ],
      "metadata": {
        "id": "UuLAFSMj1ltO",
        "outputId": "d574283c-e60c-4d75-93bf-09e0d099d093",
        "colab": {
          "base_uri": "https://localhost:8080/"
        }
      },
      "execution_count": 7,
      "outputs": [
        {
          "output_type": "stream",
          "name": "stdout",
          "text": [
            "Maximium unique units of measure per nutrient: 1\n"
          ]
        }
      ]
    },
    {
      "cell_type": "code",
      "source": [
        "# Roll up nutrients df of product-nutrient pairs into nutrient feature columns\n",
        "nutrients_pivot = nutrients_df.pivot_table(values='Output_value', index=nutrients_df['NDB_No'], columns='Nutrient_name', aggfunc='first')\n",
        "nutrients_pivot.head()"
      ],
      "metadata": {
        "id": "kQkteWEcxzLu",
        "outputId": "52d7b66e-b2b7-4414-faa6-440f7300bb77",
        "colab": {
          "base_uri": "https://localhost:8080/",
          "height": 334
        }
      },
      "execution_count": 8,
      "outputs": [
        {
          "output_type": "execute_result",
          "data": {
            "text/plain": [
              "Nutrient_name  Calcium, Ca  Carbohydrate, by difference  Cholesterol  Energy  \\\n",
              "NDB_No                                                                         \n",
              "45001524              50.0                        35.00         25.0   200.0   \n",
              "45001528               0.0                        43.24          0.0   162.0   \n",
              "45001529               0.0                        41.18          0.0   176.0   \n",
              "45001530               0.0                        34.29          0.0   143.0   \n",
              "45001531               0.0                        45.95          0.0   189.0   \n",
              "\n",
              "Nutrient_name  Fatty acids, total monounsaturated  \\\n",
              "NDB_No                                              \n",
              "45001524                                      NaN   \n",
              "45001528                                      NaN   \n",
              "45001529                                      NaN   \n",
              "45001530                                      NaN   \n",
              "45001531                                      NaN   \n",
              "\n",
              "Nutrient_name  Fatty acids, total polyunsaturated  \\\n",
              "NDB_No                                              \n",
              "45001524                                      NaN   \n",
              "45001528                                      NaN   \n",
              "45001529                                      NaN   \n",
              "45001530                                      NaN   \n",
              "45001531                                      NaN   \n",
              "\n",
              "Nutrient_name  Fatty acids, total saturated  Fatty acids, total trans  \\\n",
              "NDB_No                                                                  \n",
              "45001524                               3.75                       0.0   \n",
              "45001528                               0.00                       0.0   \n",
              "45001529                               0.00                       0.0   \n",
              "45001530                               0.00                       0.0   \n",
              "45001531                               0.00                       0.0   \n",
              "\n",
              "Nutrient_name  Fiber, total dietary  Iron, Fe  Potassium, K  Protein  \\\n",
              "NDB_No                                                                 \n",
              "45001524                        0.0       0.0           NaN      2.5   \n",
              "45001528                        0.0       0.0           NaN      0.0   \n",
              "45001529                        0.0       0.0           NaN      0.0   \n",
              "45001530                        0.0       0.0           NaN      0.0   \n",
              "45001531                        0.0       0.0           NaN      0.0   \n",
              "\n",
              "Nutrient_name  Sodium, Na  Sugars, total  Total lipid (fat)  Vitamin A, IU  \\\n",
              "NDB_No                                                                       \n",
              "45001524             75.0          30.00               6.25            0.0   \n",
              "45001528            703.0          37.84               0.00          270.0   \n",
              "45001529            676.0          35.29               0.00            0.0   \n",
              "45001530            971.0          28.57               0.00            0.0   \n",
              "45001531            757.0          43.24               0.00            0.0   \n",
              "\n",
              "Nutrient_name  Vitamin C, total ascorbic acid  Vitamin D  \n",
              "NDB_No                                                    \n",
              "45001524                                  3.0        NaN  \n",
              "45001528                                  9.7        NaN  \n",
              "45001529                                  0.0        NaN  \n",
              "45001530                                  0.0        NaN  \n",
              "45001531                                  0.0        NaN  "
            ],
            "text/html": [
              "\n",
              "  <div id=\"df-195a03cb-e403-415c-8124-355bc1b93402\">\n",
              "    <div class=\"colab-df-container\">\n",
              "      <div>\n",
              "<style scoped>\n",
              "    .dataframe tbody tr th:only-of-type {\n",
              "        vertical-align: middle;\n",
              "    }\n",
              "\n",
              "    .dataframe tbody tr th {\n",
              "        vertical-align: top;\n",
              "    }\n",
              "\n",
              "    .dataframe thead th {\n",
              "        text-align: right;\n",
              "    }\n",
              "</style>\n",
              "<table border=\"1\" class=\"dataframe\">\n",
              "  <thead>\n",
              "    <tr style=\"text-align: right;\">\n",
              "      <th>Nutrient_name</th>\n",
              "      <th>Calcium, Ca</th>\n",
              "      <th>Carbohydrate, by difference</th>\n",
              "      <th>Cholesterol</th>\n",
              "      <th>Energy</th>\n",
              "      <th>Fatty acids, total monounsaturated</th>\n",
              "      <th>Fatty acids, total polyunsaturated</th>\n",
              "      <th>Fatty acids, total saturated</th>\n",
              "      <th>Fatty acids, total trans</th>\n",
              "      <th>Fiber, total dietary</th>\n",
              "      <th>Iron, Fe</th>\n",
              "      <th>Potassium, K</th>\n",
              "      <th>Protein</th>\n",
              "      <th>Sodium, Na</th>\n",
              "      <th>Sugars, total</th>\n",
              "      <th>Total lipid (fat)</th>\n",
              "      <th>Vitamin A, IU</th>\n",
              "      <th>Vitamin C, total ascorbic acid</th>\n",
              "      <th>Vitamin D</th>\n",
              "    </tr>\n",
              "    <tr>\n",
              "      <th>NDB_No</th>\n",
              "      <th></th>\n",
              "      <th></th>\n",
              "      <th></th>\n",
              "      <th></th>\n",
              "      <th></th>\n",
              "      <th></th>\n",
              "      <th></th>\n",
              "      <th></th>\n",
              "      <th></th>\n",
              "      <th></th>\n",
              "      <th></th>\n",
              "      <th></th>\n",
              "      <th></th>\n",
              "      <th></th>\n",
              "      <th></th>\n",
              "      <th></th>\n",
              "      <th></th>\n",
              "      <th></th>\n",
              "    </tr>\n",
              "  </thead>\n",
              "  <tbody>\n",
              "    <tr>\n",
              "      <th>45001524</th>\n",
              "      <td>50.0</td>\n",
              "      <td>35.00</td>\n",
              "      <td>25.0</td>\n",
              "      <td>200.0</td>\n",
              "      <td>NaN</td>\n",
              "      <td>NaN</td>\n",
              "      <td>3.75</td>\n",
              "      <td>0.0</td>\n",
              "      <td>0.0</td>\n",
              "      <td>0.0</td>\n",
              "      <td>NaN</td>\n",
              "      <td>2.5</td>\n",
              "      <td>75.0</td>\n",
              "      <td>30.00</td>\n",
              "      <td>6.25</td>\n",
              "      <td>0.0</td>\n",
              "      <td>3.0</td>\n",
              "      <td>NaN</td>\n",
              "    </tr>\n",
              "    <tr>\n",
              "      <th>45001528</th>\n",
              "      <td>0.0</td>\n",
              "      <td>43.24</td>\n",
              "      <td>0.0</td>\n",
              "      <td>162.0</td>\n",
              "      <td>NaN</td>\n",
              "      <td>NaN</td>\n",
              "      <td>0.00</td>\n",
              "      <td>0.0</td>\n",
              "      <td>0.0</td>\n",
              "      <td>0.0</td>\n",
              "      <td>NaN</td>\n",
              "      <td>0.0</td>\n",
              "      <td>703.0</td>\n",
              "      <td>37.84</td>\n",
              "      <td>0.00</td>\n",
              "      <td>270.0</td>\n",
              "      <td>9.7</td>\n",
              "      <td>NaN</td>\n",
              "    </tr>\n",
              "    <tr>\n",
              "      <th>45001529</th>\n",
              "      <td>0.0</td>\n",
              "      <td>41.18</td>\n",
              "      <td>0.0</td>\n",
              "      <td>176.0</td>\n",
              "      <td>NaN</td>\n",
              "      <td>NaN</td>\n",
              "      <td>0.00</td>\n",
              "      <td>0.0</td>\n",
              "      <td>0.0</td>\n",
              "      <td>0.0</td>\n",
              "      <td>NaN</td>\n",
              "      <td>0.0</td>\n",
              "      <td>676.0</td>\n",
              "      <td>35.29</td>\n",
              "      <td>0.00</td>\n",
              "      <td>0.0</td>\n",
              "      <td>0.0</td>\n",
              "      <td>NaN</td>\n",
              "    </tr>\n",
              "    <tr>\n",
              "      <th>45001530</th>\n",
              "      <td>0.0</td>\n",
              "      <td>34.29</td>\n",
              "      <td>0.0</td>\n",
              "      <td>143.0</td>\n",
              "      <td>NaN</td>\n",
              "      <td>NaN</td>\n",
              "      <td>0.00</td>\n",
              "      <td>0.0</td>\n",
              "      <td>0.0</td>\n",
              "      <td>0.0</td>\n",
              "      <td>NaN</td>\n",
              "      <td>0.0</td>\n",
              "      <td>971.0</td>\n",
              "      <td>28.57</td>\n",
              "      <td>0.00</td>\n",
              "      <td>0.0</td>\n",
              "      <td>0.0</td>\n",
              "      <td>NaN</td>\n",
              "    </tr>\n",
              "    <tr>\n",
              "      <th>45001531</th>\n",
              "      <td>0.0</td>\n",
              "      <td>45.95</td>\n",
              "      <td>0.0</td>\n",
              "      <td>189.0</td>\n",
              "      <td>NaN</td>\n",
              "      <td>NaN</td>\n",
              "      <td>0.00</td>\n",
              "      <td>0.0</td>\n",
              "      <td>0.0</td>\n",
              "      <td>0.0</td>\n",
              "      <td>NaN</td>\n",
              "      <td>0.0</td>\n",
              "      <td>757.0</td>\n",
              "      <td>43.24</td>\n",
              "      <td>0.00</td>\n",
              "      <td>0.0</td>\n",
              "      <td>0.0</td>\n",
              "      <td>NaN</td>\n",
              "    </tr>\n",
              "  </tbody>\n",
              "</table>\n",
              "</div>\n",
              "      <button class=\"colab-df-convert\" onclick=\"convertToInteractive('df-195a03cb-e403-415c-8124-355bc1b93402')\"\n",
              "              title=\"Convert this dataframe to an interactive table.\"\n",
              "              style=\"display:none;\">\n",
              "        \n",
              "  <svg xmlns=\"http://www.w3.org/2000/svg\" height=\"24px\"viewBox=\"0 0 24 24\"\n",
              "       width=\"24px\">\n",
              "    <path d=\"M0 0h24v24H0V0z\" fill=\"none\"/>\n",
              "    <path d=\"M18.56 5.44l.94 2.06.94-2.06 2.06-.94-2.06-.94-.94-2.06-.94 2.06-2.06.94zm-11 1L8.5 8.5l.94-2.06 2.06-.94-2.06-.94L8.5 2.5l-.94 2.06-2.06.94zm10 10l.94 2.06.94-2.06 2.06-.94-2.06-.94-.94-2.06-.94 2.06-2.06.94z\"/><path d=\"M17.41 7.96l-1.37-1.37c-.4-.4-.92-.59-1.43-.59-.52 0-1.04.2-1.43.59L10.3 9.45l-7.72 7.72c-.78.78-.78 2.05 0 2.83L4 21.41c.39.39.9.59 1.41.59.51 0 1.02-.2 1.41-.59l7.78-7.78 2.81-2.81c.8-.78.8-2.07 0-2.86zM5.41 20L4 18.59l7.72-7.72 1.47 1.35L5.41 20z\"/>\n",
              "  </svg>\n",
              "      </button>\n",
              "      \n",
              "  <style>\n",
              "    .colab-df-container {\n",
              "      display:flex;\n",
              "      flex-wrap:wrap;\n",
              "      gap: 12px;\n",
              "    }\n",
              "\n",
              "    .colab-df-convert {\n",
              "      background-color: #E8F0FE;\n",
              "      border: none;\n",
              "      border-radius: 50%;\n",
              "      cursor: pointer;\n",
              "      display: none;\n",
              "      fill: #1967D2;\n",
              "      height: 32px;\n",
              "      padding: 0 0 0 0;\n",
              "      width: 32px;\n",
              "    }\n",
              "\n",
              "    .colab-df-convert:hover {\n",
              "      background-color: #E2EBFA;\n",
              "      box-shadow: 0px 1px 2px rgba(60, 64, 67, 0.3), 0px 1px 3px 1px rgba(60, 64, 67, 0.15);\n",
              "      fill: #174EA6;\n",
              "    }\n",
              "\n",
              "    [theme=dark] .colab-df-convert {\n",
              "      background-color: #3B4455;\n",
              "      fill: #D2E3FC;\n",
              "    }\n",
              "\n",
              "    [theme=dark] .colab-df-convert:hover {\n",
              "      background-color: #434B5C;\n",
              "      box-shadow: 0px 1px 3px 1px rgba(0, 0, 0, 0.15);\n",
              "      filter: drop-shadow(0px 1px 2px rgba(0, 0, 0, 0.3));\n",
              "      fill: #FFFFFF;\n",
              "    }\n",
              "  </style>\n",
              "\n",
              "      <script>\n",
              "        const buttonEl =\n",
              "          document.querySelector('#df-195a03cb-e403-415c-8124-355bc1b93402 button.colab-df-convert');\n",
              "        buttonEl.style.display =\n",
              "          google.colab.kernel.accessAllowed ? 'block' : 'none';\n",
              "\n",
              "        async function convertToInteractive(key) {\n",
              "          const element = document.querySelector('#df-195a03cb-e403-415c-8124-355bc1b93402');\n",
              "          const dataTable =\n",
              "            await google.colab.kernel.invokeFunction('convertToInteractive',\n",
              "                                                     [key], {});\n",
              "          if (!dataTable) return;\n",
              "\n",
              "          const docLinkHtml = 'Like what you see? Visit the ' +\n",
              "            '<a target=\"_blank\" href=https://colab.research.google.com/notebooks/data_table.ipynb>data table notebook</a>'\n",
              "            + ' to learn more about interactive tables.';\n",
              "          element.innerHTML = '';\n",
              "          dataTable['output_type'] = 'display_data';\n",
              "          await google.colab.output.renderOutput(dataTable, element);\n",
              "          const docLink = document.createElement('div');\n",
              "          docLink.innerHTML = docLinkHtml;\n",
              "          element.appendChild(docLink);\n",
              "        }\n",
              "      </script>\n",
              "    </div>\n",
              "  </div>\n",
              "  "
            ]
          },
          "metadata": {},
          "execution_count": 8
        }
      ]
    },
    {
      "cell_type": "code",
      "source": [
        "# Merge nutrient columns to original product data\n",
        "df = pd.merge(products_df, nutrients_pivot, left_on=\"NDB_Number\", right_on=\"NDB_No\", how=\"left\")"
      ],
      "metadata": {
        "id": "CvRh2bGV2xCf"
      },
      "execution_count": 9,
      "outputs": []
    },
    {
      "cell_type": "markdown",
      "source": [
        "### Serving Size Joining"
      ],
      "metadata": {
        "id": "B4ecGdsJr8dm"
      }
    },
    {
      "cell_type": "code",
      "source": [
        "# Verify servings lines are unique (we don't need to deal with conflicts, etc)\n",
        "print(f\"Max unique serving definitions per product: \" +\n",
        "      f\"{servings_df.NDB_No.value_counts().max()}\")"
      ],
      "metadata": {
        "id": "H3u4YdX2r3Yk",
        "outputId": "47c41c55-689d-4ada-cf12-994cdc5471a1",
        "colab": {
          "base_uri": "https://localhost:8080/"
        }
      },
      "execution_count": 10,
      "outputs": [
        {
          "output_type": "stream",
          "name": "stdout",
          "text": [
            "Max unique serving definitions per product: 1\n"
          ]
        }
      ]
    },
    {
      "cell_type": "code",
      "source": [
        "df = pd.merge(df, servings_df, left_on=\"NDB_Number\", right_on=\"NDB_No\", how=\"left\")"
      ],
      "metadata": {
        "id": "3fsbHC6wsQSh"
      },
      "execution_count": 11,
      "outputs": []
    },
    {
      "cell_type": "code",
      "source": [
        "df.head()"
      ],
      "metadata": {
        "id": "FsT_zCZUsoEX",
        "outputId": "192ab203-7b6f-492b-f57c-e912c4281324",
        "colab": {
          "base_uri": "https://localhost:8080/",
          "height": 595
        }
      },
      "execution_count": 12,
      "outputs": [
        {
          "output_type": "execute_result",
          "data": {
            "text/plain": [
              "   NDB_Number                   long_name data_source       gtin_upc  \\\n",
              "0    45001524     MOCHI ICE CREAM BONBONS          LI   019022128593   \n",
              "1    45001528     CHIPOTLE BARBECUE SAUCE          LI  5051379043735   \n",
              "2    45001529  HOT & SPICY BARBECUE SAUCE          LI  5051379009434   \n",
              "3    45001530              BARBECUE SAUCE          LI  5051379019969   \n",
              "4    45001531              BARBECUE SAUCE          LI  5051379009526   \n",
              "\n",
              "        manufacturer        date_modified       date_available  \\\n",
              "0  G. T. Japan, Inc.  2017-11-15 19:19:38  2017-11-15 19:19:38   \n",
              "1       FRESH & EASY  2018-04-26 17:23:31  2018-04-26 17:23:31   \n",
              "2       FRESH & EASY  2018-04-26 18:17:37  2018-04-26 18:17:37   \n",
              "3       FRESH & EASY  2018-04-26 17:24:00  2018-04-26 17:24:00   \n",
              "4       FRESH & EASY  2018-04-26 17:47:41  2018-04-26 17:47:41   \n",
              "\n",
              "                                 ingredients_english  Calcium, Ca  \\\n",
              "0  ICE CREAM INGREDIENTS: MILK, CREAM, SUGAR, STR...         50.0   \n",
              "1  WATER, SUGAR, TOMATO PASTE, MOLASSES, DISTILLE...          0.0   \n",
              "2  SUGAR, WATER, DISTILLED VINEGAR, TOMATO PASTE,...          0.0   \n",
              "3  TOMATO PUREE (WATER, TOMATO PASTE), SUGAR, DIS...          0.0   \n",
              "4  SUGAR, DISTILLED VINEGAR, WATER, TOMATO PASTE,...          0.0   \n",
              "\n",
              "   Carbohydrate, by difference  ...  Total lipid (fat)  Vitamin A, IU  \\\n",
              "0                        35.00  ...               6.25            0.0   \n",
              "1                        43.24  ...               0.00          270.0   \n",
              "2                        41.18  ...               0.00            0.0   \n",
              "3                        34.29  ...               0.00            0.0   \n",
              "4                        45.95  ...               0.00            0.0   \n",
              "\n",
              "   Vitamin C, total ascorbic acid  Vitamin D      NDB_No  Serving_Size  \\\n",
              "0                             3.0        NaN  45001524.0          40.0   \n",
              "1                             9.7        NaN  45001528.0          37.0   \n",
              "2                             0.0        NaN  45001529.0          34.0   \n",
              "3                             0.0        NaN  45001530.0          35.0   \n",
              "4                             0.0        NaN  45001531.0          37.0   \n",
              "\n",
              "   Serving_Size_UOM  Household_Serving_Size  Household_Serving_Size_UOM  \\\n",
              "0                 g                     1.0                       PIECE   \n",
              "1                 g                     2.0                        Tbsp   \n",
              "2                 g                     2.0                        Tbsp   \n",
              "3                 g                     2.0                        Tbsp   \n",
              "4                 g                     2.0                        Tbsp   \n",
              "\n",
              "   Preparation_State  \n",
              "0                NaN  \n",
              "1                NaN  \n",
              "2                NaN  \n",
              "3                NaN  \n",
              "4                NaN  \n",
              "\n",
              "[5 rows x 32 columns]"
            ],
            "text/html": [
              "\n",
              "  <div id=\"df-66960f58-85f1-479d-9603-37706c21e1b9\">\n",
              "    <div class=\"colab-df-container\">\n",
              "      <div>\n",
              "<style scoped>\n",
              "    .dataframe tbody tr th:only-of-type {\n",
              "        vertical-align: middle;\n",
              "    }\n",
              "\n",
              "    .dataframe tbody tr th {\n",
              "        vertical-align: top;\n",
              "    }\n",
              "\n",
              "    .dataframe thead th {\n",
              "        text-align: right;\n",
              "    }\n",
              "</style>\n",
              "<table border=\"1\" class=\"dataframe\">\n",
              "  <thead>\n",
              "    <tr style=\"text-align: right;\">\n",
              "      <th></th>\n",
              "      <th>NDB_Number</th>\n",
              "      <th>long_name</th>\n",
              "      <th>data_source</th>\n",
              "      <th>gtin_upc</th>\n",
              "      <th>manufacturer</th>\n",
              "      <th>date_modified</th>\n",
              "      <th>date_available</th>\n",
              "      <th>ingredients_english</th>\n",
              "      <th>Calcium, Ca</th>\n",
              "      <th>Carbohydrate, by difference</th>\n",
              "      <th>...</th>\n",
              "      <th>Total lipid (fat)</th>\n",
              "      <th>Vitamin A, IU</th>\n",
              "      <th>Vitamin C, total ascorbic acid</th>\n",
              "      <th>Vitamin D</th>\n",
              "      <th>NDB_No</th>\n",
              "      <th>Serving_Size</th>\n",
              "      <th>Serving_Size_UOM</th>\n",
              "      <th>Household_Serving_Size</th>\n",
              "      <th>Household_Serving_Size_UOM</th>\n",
              "      <th>Preparation_State</th>\n",
              "    </tr>\n",
              "  </thead>\n",
              "  <tbody>\n",
              "    <tr>\n",
              "      <th>0</th>\n",
              "      <td>45001524</td>\n",
              "      <td>MOCHI ICE CREAM BONBONS</td>\n",
              "      <td>LI</td>\n",
              "      <td>019022128593</td>\n",
              "      <td>G. T. Japan, Inc.</td>\n",
              "      <td>2017-11-15 19:19:38</td>\n",
              "      <td>2017-11-15 19:19:38</td>\n",
              "      <td>ICE CREAM INGREDIENTS: MILK, CREAM, SUGAR, STR...</td>\n",
              "      <td>50.0</td>\n",
              "      <td>35.00</td>\n",
              "      <td>...</td>\n",
              "      <td>6.25</td>\n",
              "      <td>0.0</td>\n",
              "      <td>3.0</td>\n",
              "      <td>NaN</td>\n",
              "      <td>45001524.0</td>\n",
              "      <td>40.0</td>\n",
              "      <td>g</td>\n",
              "      <td>1.0</td>\n",
              "      <td>PIECE</td>\n",
              "      <td>NaN</td>\n",
              "    </tr>\n",
              "    <tr>\n",
              "      <th>1</th>\n",
              "      <td>45001528</td>\n",
              "      <td>CHIPOTLE BARBECUE SAUCE</td>\n",
              "      <td>LI</td>\n",
              "      <td>5051379043735</td>\n",
              "      <td>FRESH &amp; EASY</td>\n",
              "      <td>2018-04-26 17:23:31</td>\n",
              "      <td>2018-04-26 17:23:31</td>\n",
              "      <td>WATER, SUGAR, TOMATO PASTE, MOLASSES, DISTILLE...</td>\n",
              "      <td>0.0</td>\n",
              "      <td>43.24</td>\n",
              "      <td>...</td>\n",
              "      <td>0.00</td>\n",
              "      <td>270.0</td>\n",
              "      <td>9.7</td>\n",
              "      <td>NaN</td>\n",
              "      <td>45001528.0</td>\n",
              "      <td>37.0</td>\n",
              "      <td>g</td>\n",
              "      <td>2.0</td>\n",
              "      <td>Tbsp</td>\n",
              "      <td>NaN</td>\n",
              "    </tr>\n",
              "    <tr>\n",
              "      <th>2</th>\n",
              "      <td>45001529</td>\n",
              "      <td>HOT &amp; SPICY BARBECUE SAUCE</td>\n",
              "      <td>LI</td>\n",
              "      <td>5051379009434</td>\n",
              "      <td>FRESH &amp; EASY</td>\n",
              "      <td>2018-04-26 18:17:37</td>\n",
              "      <td>2018-04-26 18:17:37</td>\n",
              "      <td>SUGAR, WATER, DISTILLED VINEGAR, TOMATO PASTE,...</td>\n",
              "      <td>0.0</td>\n",
              "      <td>41.18</td>\n",
              "      <td>...</td>\n",
              "      <td>0.00</td>\n",
              "      <td>0.0</td>\n",
              "      <td>0.0</td>\n",
              "      <td>NaN</td>\n",
              "      <td>45001529.0</td>\n",
              "      <td>34.0</td>\n",
              "      <td>g</td>\n",
              "      <td>2.0</td>\n",
              "      <td>Tbsp</td>\n",
              "      <td>NaN</td>\n",
              "    </tr>\n",
              "    <tr>\n",
              "      <th>3</th>\n",
              "      <td>45001530</td>\n",
              "      <td>BARBECUE SAUCE</td>\n",
              "      <td>LI</td>\n",
              "      <td>5051379019969</td>\n",
              "      <td>FRESH &amp; EASY</td>\n",
              "      <td>2018-04-26 17:24:00</td>\n",
              "      <td>2018-04-26 17:24:00</td>\n",
              "      <td>TOMATO PUREE (WATER, TOMATO PASTE), SUGAR, DIS...</td>\n",
              "      <td>0.0</td>\n",
              "      <td>34.29</td>\n",
              "      <td>...</td>\n",
              "      <td>0.00</td>\n",
              "      <td>0.0</td>\n",
              "      <td>0.0</td>\n",
              "      <td>NaN</td>\n",
              "      <td>45001530.0</td>\n",
              "      <td>35.0</td>\n",
              "      <td>g</td>\n",
              "      <td>2.0</td>\n",
              "      <td>Tbsp</td>\n",
              "      <td>NaN</td>\n",
              "    </tr>\n",
              "    <tr>\n",
              "      <th>4</th>\n",
              "      <td>45001531</td>\n",
              "      <td>BARBECUE SAUCE</td>\n",
              "      <td>LI</td>\n",
              "      <td>5051379009526</td>\n",
              "      <td>FRESH &amp; EASY</td>\n",
              "      <td>2018-04-26 17:47:41</td>\n",
              "      <td>2018-04-26 17:47:41</td>\n",
              "      <td>SUGAR, DISTILLED VINEGAR, WATER, TOMATO PASTE,...</td>\n",
              "      <td>0.0</td>\n",
              "      <td>45.95</td>\n",
              "      <td>...</td>\n",
              "      <td>0.00</td>\n",
              "      <td>0.0</td>\n",
              "      <td>0.0</td>\n",
              "      <td>NaN</td>\n",
              "      <td>45001531.0</td>\n",
              "      <td>37.0</td>\n",
              "      <td>g</td>\n",
              "      <td>2.0</td>\n",
              "      <td>Tbsp</td>\n",
              "      <td>NaN</td>\n",
              "    </tr>\n",
              "  </tbody>\n",
              "</table>\n",
              "<p>5 rows × 32 columns</p>\n",
              "</div>\n",
              "      <button class=\"colab-df-convert\" onclick=\"convertToInteractive('df-66960f58-85f1-479d-9603-37706c21e1b9')\"\n",
              "              title=\"Convert this dataframe to an interactive table.\"\n",
              "              style=\"display:none;\">\n",
              "        \n",
              "  <svg xmlns=\"http://www.w3.org/2000/svg\" height=\"24px\"viewBox=\"0 0 24 24\"\n",
              "       width=\"24px\">\n",
              "    <path d=\"M0 0h24v24H0V0z\" fill=\"none\"/>\n",
              "    <path d=\"M18.56 5.44l.94 2.06.94-2.06 2.06-.94-2.06-.94-.94-2.06-.94 2.06-2.06.94zm-11 1L8.5 8.5l.94-2.06 2.06-.94-2.06-.94L8.5 2.5l-.94 2.06-2.06.94zm10 10l.94 2.06.94-2.06 2.06-.94-2.06-.94-.94-2.06-.94 2.06-2.06.94z\"/><path d=\"M17.41 7.96l-1.37-1.37c-.4-.4-.92-.59-1.43-.59-.52 0-1.04.2-1.43.59L10.3 9.45l-7.72 7.72c-.78.78-.78 2.05 0 2.83L4 21.41c.39.39.9.59 1.41.59.51 0 1.02-.2 1.41-.59l7.78-7.78 2.81-2.81c.8-.78.8-2.07 0-2.86zM5.41 20L4 18.59l7.72-7.72 1.47 1.35L5.41 20z\"/>\n",
              "  </svg>\n",
              "      </button>\n",
              "      \n",
              "  <style>\n",
              "    .colab-df-container {\n",
              "      display:flex;\n",
              "      flex-wrap:wrap;\n",
              "      gap: 12px;\n",
              "    }\n",
              "\n",
              "    .colab-df-convert {\n",
              "      background-color: #E8F0FE;\n",
              "      border: none;\n",
              "      border-radius: 50%;\n",
              "      cursor: pointer;\n",
              "      display: none;\n",
              "      fill: #1967D2;\n",
              "      height: 32px;\n",
              "      padding: 0 0 0 0;\n",
              "      width: 32px;\n",
              "    }\n",
              "\n",
              "    .colab-df-convert:hover {\n",
              "      background-color: #E2EBFA;\n",
              "      box-shadow: 0px 1px 2px rgba(60, 64, 67, 0.3), 0px 1px 3px 1px rgba(60, 64, 67, 0.15);\n",
              "      fill: #174EA6;\n",
              "    }\n",
              "\n",
              "    [theme=dark] .colab-df-convert {\n",
              "      background-color: #3B4455;\n",
              "      fill: #D2E3FC;\n",
              "    }\n",
              "\n",
              "    [theme=dark] .colab-df-convert:hover {\n",
              "      background-color: #434B5C;\n",
              "      box-shadow: 0px 1px 3px 1px rgba(0, 0, 0, 0.15);\n",
              "      filter: drop-shadow(0px 1px 2px rgba(0, 0, 0, 0.3));\n",
              "      fill: #FFFFFF;\n",
              "    }\n",
              "  </style>\n",
              "\n",
              "      <script>\n",
              "        const buttonEl =\n",
              "          document.querySelector('#df-66960f58-85f1-479d-9603-37706c21e1b9 button.colab-df-convert');\n",
              "        buttonEl.style.display =\n",
              "          google.colab.kernel.accessAllowed ? 'block' : 'none';\n",
              "\n",
              "        async function convertToInteractive(key) {\n",
              "          const element = document.querySelector('#df-66960f58-85f1-479d-9603-37706c21e1b9');\n",
              "          const dataTable =\n",
              "            await google.colab.kernel.invokeFunction('convertToInteractive',\n",
              "                                                     [key], {});\n",
              "          if (!dataTable) return;\n",
              "\n",
              "          const docLinkHtml = 'Like what you see? Visit the ' +\n",
              "            '<a target=\"_blank\" href=https://colab.research.google.com/notebooks/data_table.ipynb>data table notebook</a>'\n",
              "            + ' to learn more about interactive tables.';\n",
              "          element.innerHTML = '';\n",
              "          dataTable['output_type'] = 'display_data';\n",
              "          await google.colab.output.renderOutput(dataTable, element);\n",
              "          const docLink = document.createElement('div');\n",
              "          docLink.innerHTML = docLinkHtml;\n",
              "          element.appendChild(docLink);\n",
              "        }\n",
              "      </script>\n",
              "    </div>\n",
              "  </div>\n",
              "  "
            ]
          },
          "metadata": {},
          "execution_count": 12
        }
      ]
    },
    {
      "cell_type": "markdown",
      "source": [
        "### EDA Question 1: Missing Macronutrients"
      ],
      "metadata": {
        "id": "N28h852mq16o"
      }
    },
    {
      "cell_type": "code",
      "source": [
        "missing_fat = df[\"Total lipid (fat)\"].isna()\n",
        "missing_protein = df[\"Protein\"].isna()\n",
        "missing_carbs = df[\"Carbohydrate, by difference\"].isna()"
      ],
      "metadata": {
        "id": "7FkJZqd8x_3S"
      },
      "execution_count": 13,
      "outputs": []
    },
    {
      "cell_type": "code",
      "source": [
        "# Confirming that \"0\" data points exist - the NAs likely account for actual\n",
        "# missing data, not \"fat free\" data\n",
        "(df[\"Total lipid (fat)\"] == 0).sum()"
      ],
      "metadata": {
        "id": "h1uZPsgTt9e9",
        "outputId": "150dfc7a-5a85-46a9-b740-6bafc3462193",
        "colab": {
          "base_uri": "https://localhost:8080/"
        }
      },
      "execution_count": 14,
      "outputs": [
        {
          "output_type": "execute_result",
          "data": {
            "text/plain": [
              "75947"
            ]
          },
          "metadata": {},
          "execution_count": 14
        }
      ]
    },
    {
      "cell_type": "code",
      "source": [
        "def format_percent(s):\n",
        "  return (f\"{round((s.sum()*100)/len(df), 2)}%\")\n",
        "\n",
        "print(f'{format_percent(missing_fat)} are missing fat data')\n",
        "print(f'{format_percent(missing_protein)} are missing protein data')\n",
        "print(f'{format_percent(missing_carbs)} are missing carbs data')\n",
        "\n",
        "print(f'{format_percent((missing_fat | missing_protein | missing_carbs))} are missing at least one type')\n",
        "print(f'{format_percent((missing_fat & missing_protein & missing_carbs))} are missing all types')"
      ],
      "metadata": {
        "id": "5pyo1tFXofav",
        "outputId": "da6d549f-b120-4404-9172-562d5935c850",
        "colab": {
          "base_uri": "https://localhost:8080/"
        }
      },
      "execution_count": 15,
      "outputs": [
        {
          "output_type": "stream",
          "name": "stdout",
          "text": [
            "0.64% are missing fat data\n",
            "0.69% are missing protein data\n",
            "0.61% are missing carbs data\n",
            "0.83% are missing at least one type\n",
            "0.54% are missing all types\n"
          ]
        }
      ]
    },
    {
      "cell_type": "code",
      "source": [
        "import matplotlib.pyplot as plt\n",
        "from matplotlib_venn import venn3\n",
        "\n",
        "set1 = set(df[missing_fat].index)\n",
        "set2 = set(df[missing_protein].index)\n",
        "set3 = set(df[missing_carbs].index)\n",
        "\n",
        "venn3([set1, set2, set3], ('Missing Fat Data', 'Missing Protein Data', 'Missing Carbs Data'))\n",
        "plt.title(\"Missing Core Nutrient Data (0.83% of the 239,089 Total Data Points)\")\n",
        "plt.show()"
      ],
      "metadata": {
        "id": "-Ve7IbhawTkc",
        "outputId": "758e82b6-98c7-4200-f15c-c0f63cd38337",
        "colab": {
          "base_uri": "https://localhost:8080/",
          "height": 269
        }
      },
      "execution_count": 16,
      "outputs": [
        {
          "output_type": "display_data",
          "data": {
            "text/plain": [
              "<Figure size 432x288 with 1 Axes>"
            ],
            "image/png": "[encoded data removed]"
          },
          "metadata": {}
        }
      ]
    },
    {
      "cell_type": "markdown",
      "source": [
        "### EDA Question 2: Unit Standardization"
      ],
      "metadata": {
        "id": "ayXjk2Ouq7fH"
      }
    },
    {
      "cell_type": "code",
      "source": [
        "# We actually already needed to investigate this when joining the nutrient data,\n",
        "# to make sure it was appropriate to roll up the values into columns without\n",
        "# normalizing into units of measure.\n",
        "print(f\"Maximium unique units of measure per nutrient: \" +\n",
        "      f\"{nutrients_df.groupby('Nutrient_name').Output_uom.nunique().max()}\")"
      ],
      "metadata": {
        "id": "0U3TitdNrTCZ",
        "outputId": "c928967c-6bfc-475f-dd6e-cf28dc4178d1",
        "colab": {
          "base_uri": "https://localhost:8080/"
        }
      },
      "execution_count": 17,
      "outputs": [
        {
          "output_type": "stream",
          "name": "stdout",
          "text": [
            "Maximium unique units of measure per nutrient: 1\n"
          ]
        }
      ]
    },
    {
      "cell_type": "code",
      "source": [
        "# Now to check if servings are standardized..\n",
        "df.Serving_Size_UOM.value_counts().plot(kind=\"bar\")\n",
        "plt.xticks(rotation=0)\n",
        "plt.xlabel(\"Unit of Measure\")\n",
        "plt.ylabel(\"Total Occurences\")"
      ],
      "metadata": {
        "id": "wvBqFjb_rxSL",
        "outputId": "652ee7a6-467e-4180-fbae-2a111a173c91",
        "colab": {
          "base_uri": "https://localhost:8080/",
          "height": 296
        }
      },
      "execution_count": 18,
      "outputs": [
        {
          "output_type": "execute_result",
          "data": {
            "text/plain": [
              "Text(0, 0.5, 'Total Occurences')"
            ]
          },
          "metadata": {},
          "execution_count": 18
        },
        {
          "output_type": "display_data",
          "data": {
            "text/plain": [
              "<Figure size 432x288 with 1 Axes>"
            ],
            "image/png": "[encoded data removed]"
          },
          "metadata": {
            "needs_background": "light"
          }
        }
      ]
    },
    {
      "cell_type": "code",
      "source": [
        "percent_grams = round(df.Serving_Size_UOM.value_counts()[0]/df.Serving_Size_UOM.count()*100, 2)\n",
        "print(f\"{percent_grams}% of products have serving size in grams\")"
      ],
      "metadata": {
        "id": "GSilyYmsu_k-",
        "outputId": "c33fa6ef-6447-43c4-cb1a-9f6a5c4e8db6",
        "colab": {
          "base_uri": "https://localhost:8080/"
        }
      },
      "execution_count": 19,
      "outputs": [
        {
          "output_type": "stream",
          "name": "stdout",
          "text": [
            "87.0% of products have serving size in grams\n"
          ]
        }
      ]
    },
    {
      "cell_type": "code",
      "source": [
        "# Let's look at a sample of products in ml to see if we can use the density\n",
        "# of water as a good approximation to convert them to grams...\n",
        "df[df.Serving_Size_UOM == \"ml\"].long_name.sample(25)"
      ],
      "metadata": {
        "id": "Ib-NnAxPvVfm",
        "outputId": "34e7bd5c-63df-4fb5-e86c-ff475fc7f37d",
        "colab": {
          "base_uri": "https://localhost:8080/"
        }
      },
      "execution_count": 20,
      "outputs": [
        {
          "output_type": "execute_result",
          "data": {
            "text/plain": [
              "79610               BEST YET, REFRESHING SODA, BLACK CHERRY\n",
              "148389    KELLOGG SPECIAL K BREAKFAST SHAKE RED BERRIES ...\n",
              "148179                   WALDEN FARMS, HONEY DIJON DRESSING\n",
              "213211                          UNSWEETENED SPARKLING WATER\n",
              "137843                     CHAI BLACK TEA LATTE CONCENTRATE\n",
              "185803           MINUTE MAID, 100% JUICE, APPLE WHITE GRAPE\n",
              "70500                              SPARKLING WATER BEVERAGE\n",
              "166118                   16 HOUR COLD BREW SENCHA GREEN TEA\n",
              "166282                            SPARKLING PROBIOTIC DRINK\n",
              "132356    COLUMBIA GORGE ORGANIC, SATISFIERS, LEMONADE, ...\n",
              "136397                                  REFRESH JUICE DRINK\n",
              "147996                                           100% JUICE\n",
              "132255                      SAM'S CHOICE, TZATZIKI DRESSING\n",
              "128771                     CALIFORNIA FRENCH STYLE DRESSING\n",
              "92899                                     ORGANIC OLIVE OIL\n",
              "180591                                       FRUIT SMOOTHIE\n",
              "176947                                        FAT FREE MILK\n",
              "144486                                                BROTH\n",
              "173117                                  VERMONT MAPLE SYRUP\n",
              "58924                          PRICE RITE, SODA, GINGER ALE\n",
              "146092    365 EVERYDAY VALUE, ORGANIC LIQUID STEVIA EXTRACT\n",
              "144374    365 EVERYDAY VALUE, ORGANIC 100% JUICE, CONCOR...\n",
              "59023                                                  SODA\n",
              "180399          COCONUT WATER WITH GINGER, LIME, & TURMERIC\n",
              "230496    Propel Kiwi Strawberry Water Beverage 16.9 Flu...\n",
              "Name: long_name, dtype: object"
            ]
          },
          "metadata": {},
          "execution_count": 20
        }
      ]
    },
    {
      "cell_type": "markdown",
      "source": [
        "Water has a density of 1 g/ml\n",
        "\n",
        "Based on web searches:\n",
        "* Whole milk has a density of about 1.04 g/ml\n",
        "* Eggnog has a density of about 1.07 g/ml\n",
        "* Salsa has a density of about 1.2 g/ml\n",
        "* Honey has a density of about 1.3 g/ml\n",
        "* Oil has a density of about 0.7 g/ml\n",
        "\n",
        "I was unable to find anything more extreme than these examples in any of several searches, so we could assume a 1 ml = 1 g conversion with only about 30% error in most reasonable cases"
      ],
      "metadata": {
        "id": "Obi8J-xEwhcz"
      }
    },
    {
      "cell_type": "markdown",
      "source": [
        "### EDA Question 3: Diversity of Manufacturer/Brand Types"
      ],
      "metadata": {
        "id": "I_J2_kPcxoXL"
      }
    },
    {
      "cell_type": "code",
      "source": [
        "# Random sample to get a sense of typical values.\n",
        "# Many organizations are instantly recognizable.\n",
        "df.manufacturer.sample(25)"
      ],
      "metadata": {
        "id": "gaK1E64Vxu7L",
        "outputId": "d1b62b7c-444f-426e-e1c5-968b0045c31f",
        "colab": {
          "base_uri": "https://localhost:8080/"
        }
      },
      "execution_count": 21,
      "outputs": [
        {
          "output_type": "execute_result",
          "data": {
            "text/plain": [
              "217573         Bimbo Bakeries USA, Inc.\n",
              "117318       Marlow Candy & Nut Company\n",
              "37251                           MIFROMA\n",
              "71538             Late July Snacks, LLC\n",
              "89966                 Tops Markets, LLC\n",
              "141199             Lee Kum Kee Co. Ltd.\n",
              "222425                          NOSTIMO\n",
              "235632                        JIM DANDY\n",
              "187956              The Kellogg Company\n",
              "32034              Pulmuone U.S.A. Inc.\n",
              "121105            Wal-Mart Stores, Inc.\n",
              "173513                     Hy-Vee, Inc.\n",
              "164423              RIPE LIQUID PRODUCE\n",
              "162355       Vermont Smoke & Cure, Inc.\n",
              "135614         Bernatello's Pizza, Inc.\n",
              "89200                   Herr Foods Inc.\n",
              "8096                 Weis Markets, Inc.\n",
              "80895                  Queen City Candy\n",
              "30219             Wal-Mart Stores, Inc.\n",
              "187626                        Iga, Inc.\n",
              "74710          Pinnacle Foods Group LLC\n",
              "116831                    Target Stores\n",
              "15194     Lactalis American Group, Inc.\n",
              "116776         Hormel Foods Corporation\n",
              "78307                          ROUNDY'S\n",
              "Name: manufacturer, dtype: object"
            ]
          },
          "metadata": {},
          "execution_count": 21
        }
      ]
    },
    {
      "cell_type": "code",
      "source": [
        "# The top manufacturers: all big-label retail food grocers (Wal-Mart, Meijer, Kroger),\n",
        "# manufacturers/distributors (General Mills, Supervalu), and GPOs (Topco)\n",
        "df.manufacturer.value_counts().head(10)"
      ],
      "metadata": {
        "id": "QD0By6Isy91A",
        "outputId": "6a0ba36b-416d-4bbd-9779-1eb3cced0ba7",
        "colab": {
          "base_uri": "https://localhost:8080/"
        }
      },
      "execution_count": 22,
      "outputs": [
        {
          "output_type": "execute_result",
          "data": {
            "text/plain": [
              "Wal-Mart Stores, Inc.       4546\n",
              "Meijer, Inc.                3855\n",
              "Target Stores               3771\n",
              "The Kroger Co.              3476\n",
              "Safeway, Inc.               3194\n",
              "Topco Associates, Inc.      2905\n",
              "Supervalu, Inc.             2771\n",
              "Hy-Vee, Inc.                2667\n",
              "Weis Markets, Inc.          2207\n",
              "GENERAL MILLS SALES INC.    1966\n",
              "Name: manufacturer, dtype: int64"
            ]
          },
          "metadata": {},
          "execution_count": 22
        }
      ]
    },
    {
      "cell_type": "code",
      "source": [
        "# normalize case and remove special characters\n",
        "clean_manufacturer_names = df.manufacturer.str.replace(\"[^a-zA-Z ]\", \"\", regex=True).str.lower()\n",
        "# collapse multiple spaces\n",
        "clean_manufacturer_names = clean_manufacturer_names.str.replace(\"\\s+\", \" \", regex=True)\n",
        "# split into token lists\n",
        "clean_manufacturer_tokens = clean_manufacturer_names.str.split(' ', expand=True).stack()"
      ],
      "metadata": {
        "id": "Bmfn-hNFyHPj"
      },
      "execution_count": 23,
      "outputs": []
    },
    {
      "cell_type": "code",
      "source": [
        "clean_manufacturer_tokens.value_counts().head(10)"
      ],
      "metadata": {
        "id": "8EoOejXByp7C",
        "outputId": "20db7972-1b84-4d05-acb4-9f8f0a186883",
        "colab": {
          "base_uri": "https://localhost:8080/"
        }
      },
      "execution_count": 24,
      "outputs": [
        {
          "output_type": "execute_result",
          "data": {
            "text/plain": [
              "inc        106187\n",
              "foods       28118\n",
              "company     22667\n",
              "llc         18818\n",
              "co          14268\n",
              "stores      12276\n",
              "the         11544\n",
              "food        10304\n",
              "markets      8630\n",
              "usa          6791\n",
              "dtype: int64"
            ]
          },
          "metadata": {},
          "execution_count": 24
        }
      ]
    },
    {
      "cell_type": "code",
      "source": [
        "from wordcloud import WordCloud\n",
        "wordcloud = WordCloud(\n",
        "    width = 1600, height = 1600, background_color ='white', min_font_size = 10)\n",
        "wordcloud.generate_from_frequencies(clean_manufacturer_tokens.value_counts())\n",
        "fig=plt.figure(figsize=(12,8), dpi=100, facecolor='w', edgecolor='k')\n",
        "plt.imshow(wordcloud, interpolation=\"bilinear\")\n",
        "plt.axis(\"off\")\n",
        "plt.show()"
      ],
      "metadata": {
        "id": "_3qPlYoE3Tlm",
        "outputId": "f55a37e0-15de-4ca9-c43f-d21d713cced4",
        "colab": {
          "base_uri": "https://localhost:8080/",
          "height": 640
        }
      },
      "execution_count": 25,
      "outputs": [
        {
          "output_type": "display_data",
          "data": {
            "text/plain": [
              "<Figure size 1200x800 with 1 Axes>"
            ],
            "image/png": "[encoded data removed]"
          },
          "metadata": {}
        }
      ]
    },
    {
      "cell_type": "markdown",
      "source": [
        "### EDA Question 4: Serving Size Range and Outliers"
      ],
      "metadata": {
        "id": "2r0JGCYN4JxJ"
      }
    },
    {
      "cell_type": "code",
      "source": [
        "# Boxplot: By-weight products\n",
        "g_sizes = df[df.Serving_Size_UOM == 'g'].Serving_Size.dropna()\n",
        "plt.boxplot(g_sizes)\n",
        "plt.ylabel(\"Serving Size, grams\")\n",
        "\n",
        "# Simple summary stats\n",
        "g_sizes.describe()"
      ],
      "metadata": {
        "id": "nAVB091x4Paf",
        "outputId": "d859231c-2d83-49be-ca7d-eee716a39677",
        "colab": {
          "base_uri": "https://localhost:8080/",
          "height": 421
        }
      },
      "execution_count": 26,
      "outputs": [
        {
          "output_type": "execute_result",
          "data": {
            "text/plain": [
              "count    206950.000000\n",
              "mean         61.227138\n",
              "std          58.474537\n",
              "min           0.015000\n",
              "25%          28.000000\n",
              "50%          40.000000\n",
              "75%          85.000000\n",
              "max        2808.000000\n",
              "Name: Serving_Size, dtype: float64"
            ]
          },
          "metadata": {},
          "execution_count": 26
        },
        {
          "output_type": "display_data",
          "data": {
            "text/plain": [
              "<Figure size 432x288 with 1 Axes>"
            ],
            "image/png": "[encoded data removed]"
          },
          "metadata": {
            "needs_background": "light"
          }
        }
      ]
    },
    {
      "cell_type": "code",
      "source": [
        "# Boxplot: By-volume products\n",
        "ml_sizes = df[df.Serving_Size_UOM == 'ml'].Serving_Size.dropna()\n",
        "plt.boxplot(ml_sizes)\n",
        "plt.ylabel(\"Serving Size, milliliters\")\n",
        "\n",
        "# Simple summary stats\n",
        "ml_sizes.describe()"
      ],
      "metadata": {
        "id": "7jdsapHX5IZi",
        "outputId": "04bd7c81-3f80-4c59-904f-e1f0d62444a7",
        "colab": {
          "base_uri": "https://localhost:8080/",
          "height": 421
        }
      },
      "execution_count": 27,
      "outputs": [
        {
          "output_type": "execute_result",
          "data": {
            "text/plain": [
              "count    30925.000000\n",
              "mean       202.599058\n",
              "std        141.815038\n",
              "min          0.120000\n",
              "25%         30.000000\n",
              "50%        240.000000\n",
              "75%        240.000000\n",
              "max       3750.000000\n",
              "Name: Serving_Size, dtype: float64"
            ]
          },
          "metadata": {},
          "execution_count": 27
        },
        {
          "output_type": "display_data",
          "data": {
            "text/plain": [
              "<Figure size 432x288 with 1 Axes>"
            ],
            "image/png": "[encoded data removed]"
          },
          "metadata": {
            "needs_background": "light"
          }
        }
      ]
    },
    {
      "cell_type": "code",
      "source": [
        "# Largest serving sizes\n",
        "df.sort_values(\"Serving_Size\", ascending=False).head(15)"
      ],
      "metadata": {
        "colab": {
          "base_uri": "https://localhost:8080/",
          "height": 1000
        },
        "id": "S_I1mU56y4OS",
        "outputId": "892a695d-9440-4ce6-a402-e28097b6a83a"
      },
      "execution_count": 28,
      "outputs": [
        {
          "output_type": "execute_result",
          "data": {
            "text/plain": [
              "        NDB_Number                                          long_name  \\\n",
              "200374    45330005                           ORGANIC CHOPPED TOMATOES   \n",
              "56039     45133744                       ACT II Butter Lovers Popcorn   \n",
              "55598     45130180                       ACT II Butter Lovers Popcorn   \n",
              "99287     45187513          SWEET ACTION, ICE CREAM, VEGAN STRAWBERRY   \n",
              "99288     45187514  SWEET ACTION ICE CREAM, ICE CREAM, VEGAN COCON...   \n",
              "83685     45169021  SWEET ACTION ICE CREAM, ICE CREAM, VEGAN COFFE...   \n",
              "99157     45187353           SWEET ACTION, ICE CREAM, VEGAN MINT CHIP   \n",
              "83745     45169100       SWEET ACTION, ICE CREAM, VEGAN CINNAMON ROLL   \n",
              "99286     45187512     SWEET ACTION, ICE CREAM, VEGAN COOKIES + CREAM   \n",
              "83509     45168774              SWEET ACTION, ICE CREAM, VANILLA BEAN   \n",
              "35631     45084268                RIGATONI, ENRICHED MACARONI PRODUCT   \n",
              "106062    45195179                                     DICED POTATOES   \n",
              "70028     45152162                               TOPS, PURIFIED WATER   \n",
              "210505    45346005          PURIFIED WATER ENHANCED WITH ELECTROLYTES   \n",
              "233146    45370300  SIMILAC PRO-ADVANCE HMO NEWBORN READY TO FEED ...   \n",
              "\n",
              "       data_source        gtin_upc                   manufacturer  \\\n",
              "200374          LI    677294998186                 ORGANICO BELLO   \n",
              "56039         GDSN  00076150232530             ConAgra Foods Inc.   \n",
              "55598         GDSN  00076150232547             ConAgra Foods Inc.   \n",
              "99287           LI    751570510498                Sculatti I.F.S.   \n",
              "99288           LI    751570510511                Sculatti I.F.S.   \n",
              "83685           LI    751570510467                Sculatti I.F.S.   \n",
              "99157           LI    700621453444  Disk Technologies Corporation   \n",
              "83745           LI    799491898615                 Reese Orchards   \n",
              "99286           LI    751570510474                Sculatti I.F.S.   \n",
              "83509           LI    700621453383  Disk Technologies Corporation   \n",
              "35631           LI    041318300444          Schnuck Markets, Inc.   \n",
              "106062          LI    033757826302       Citadel Enterprises Inc.   \n",
              "70028           LI    070784150093              Tops Markets, LLC   \n",
              "210505          LI     07078415007              Tops Markets, LLC   \n",
              "233146        GDSN  00070074576015               Abbott Nutrition   \n",
              "\n",
              "              date_modified       date_available  \\\n",
              "200374  2017-10-13 18:14:18  2017-10-13 18:14:18   \n",
              "56039   2018-02-12 15:49:47  2018-04-26 10:20:47   \n",
              "55598   2017-11-30 14:43:32  2018-04-26 10:20:47   \n",
              "99287   2017-07-14 18:37:31  2017-07-14 18:37:31   \n",
              "99288   2017-07-14 18:37:31  2017-07-14 18:37:31   \n",
              "83685   2017-07-14 18:01:22  2017-07-14 18:01:22   \n",
              "99157   2018-01-20 03:51:49  2018-01-20 03:51:49   \n",
              "83745   2017-07-14 18:01:51  2017-07-14 18:01:51   \n",
              "99286   2017-10-31 14:57:51  2017-10-31 14:57:51   \n",
              "83509   2017-07-14 18:00:41  2017-07-14 18:00:41   \n",
              "35631   2017-08-12 10:08:11  2017-08-12 10:08:11   \n",
              "106062  2018-02-03 11:42:30  2018-02-03 11:42:30   \n",
              "70028   2018-01-20 04:32:36  2018-01-20 04:32:36   \n",
              "210505  2018-03-03 07:48:57  2018-03-03 07:48:57   \n",
              "233146  2018-02-27 15:33:39  2018-04-26 10:17:52   \n",
              "\n",
              "                                      ingredients_english  Calcium, Ca  \\\n",
              "200374    ORGANIC CHOPPED TOMATOES, ORGANIC TOMATO PUREE.          1.0   \n",
              "56039   Popping Corn, Palm Oil, Salt, Less than 2% of:...          0.0   \n",
              "55598   Popping Corn, Palm Oil, Salt, Less than 2% of:...          0.0   \n",
              "99287   ORGANIC SOY MILK, ORGANIC COCONUT CREAM (COCON...          3.0   \n",
              "99288   ORGANIC SOY MILK, ORGANIC COCONUT CREAM (COCON...          4.0   \n",
              "83685   ORGANIC SOY MILK, ORGANIC COCONUT CREAM (COCON...          3.0   \n",
              "99157   ORGANIC SOY MILK, ORGANIC COCONUT CREAM (COCON...          3.0   \n",
              "83745   ORGANIC SOY MILK, ORGANIC COCONUT CREAM (COCON...          4.0   \n",
              "99286   ORGANIC SOY MILK, ORGANIC COCONUT CREAM (COCON...          3.0   \n",
              "83509   ORGANIC SOY MILK, ORGANIC COCONUT CREAM (COCON...          3.0   \n",
              "35631   DURUM SEMOLINA, NIACIN, FERROUS SULFATE (IRON)...          0.0   \n",
              "106062  POTATOES, WATER, SALT, CALCIUM CHLORIDE, DISOD...          NaN   \n",
              "70028   PURIFIED WATER, THROUGH STEAM DISTILLATION, CA...          NaN   \n",
              "210505  PURIFIED WATER THROUGH STEAM DISTILLATION CALC...          NaN   \n",
              "233146  Water, Nonfat Milk, Lactose, High Oleic Safflo...          NaN   \n",
              "\n",
              "        Carbohydrate, by difference  ...  Total lipid (fat)  Vitamin A, IU  \\\n",
              "200374                         0.19  ...               0.00            NaN   \n",
              "56039                          0.68  ...               0.14            0.0   \n",
              "55598                          0.87  ...               0.18            0.0   \n",
              "99287                          1.82  ...               0.57            5.0   \n",
              "99288                          1.82  ...               0.77            5.0   \n",
              "83685                          1.82  ...               0.67            5.0   \n",
              "99157                          1.87  ...               0.77           24.0   \n",
              "83745                          2.58  ...               0.81            5.0   \n",
              "99286                          1.87  ...               0.72            5.0   \n",
              "83509                          1.63  ...               0.67            5.0   \n",
              "35631                          2.44  ...               0.06            0.0   \n",
              "106062                         0.87  ...               0.00            0.0   \n",
              "70028                          0.00  ...               0.00            NaN   \n",
              "210505                         0.00  ...               0.00            NaN   \n",
              "233146                         7.07  ...               3.47          193.0   \n",
              "\n",
              "        Vitamin C, total ascorbic acid  Vitamin D      NDB_No  Serving_Size  \\\n",
              "200374                             0.4        0.0  45330005.0        3750.0   \n",
              "56039                              0.0        NaN  45133744.0        2808.0   \n",
              "55598                              0.0        NaN  45130180.0        2184.0   \n",
              "99287                              0.7        NaN  45187513.0        2091.0   \n",
              "99288                              0.1        NaN  45187514.0        2091.0   \n",
              "83685                              0.1        NaN  45169021.0        2091.0   \n",
              "99157                              0.1        NaN  45187353.0        2091.0   \n",
              "83745                              0.1        NaN  45169100.0        2091.0   \n",
              "99286                              0.1        NaN  45187512.0        2091.0   \n",
              "83509                              0.1        NaN  45168774.0        2091.0   \n",
              "35631                              0.0        NaN  45084268.0        1680.0   \n",
              "106062                             0.7        NaN  45195179.0        1262.0   \n",
              "70028                              NaN        NaN  45152162.0        1014.0   \n",
              "210505                             NaN        NaN  45346005.0        1014.0   \n",
              "233146                             5.8       48.0  45370300.0        1000.0   \n",
              "\n",
              "        Serving_Size_UOM  Household_Serving_Size  \\\n",
              "200374                ml                    0.50   \n",
              "56039                  g                    2.00   \n",
              "55598                  g                    2.00   \n",
              "99287                  g                    4.00   \n",
              "99288                  g                    4.00   \n",
              "83685                  g                    4.00   \n",
              "99157                  g                    4.00   \n",
              "83745                  g                    4.00   \n",
              "99286                  g                    4.00   \n",
              "83509                  g                    4.00   \n",
              "35631                 ml                    0.75   \n",
              "106062                 g                    0.50   \n",
              "70028                 ml                    1.00   \n",
              "210505                ml                    1.00   \n",
              "233146                ml                     NaN   \n",
              "\n",
              "                               Household_Serving_Size_UOM  Preparation_State  \n",
              "200374                                                cup                NaN  \n",
              "56039   tbsp (30g) unpopped (makes about 4.5 cups popped)         UNPREPARED  \n",
              "55598   tbsp (30g) unpopped (makes about 4.5 cups popped)         UNPREPARED  \n",
              "99287                                                 ONZ                NaN  \n",
              "99288                                                 ONZ                NaN  \n",
              "83685                                                 ONZ                NaN  \n",
              "99157                                                 ONZ                NaN  \n",
              "83745                                                 ONZ                NaN  \n",
              "99286                                                 ONZ                NaN  \n",
              "83509                                                 ONZ                NaN  \n",
              "35631                                                 cup                NaN  \n",
              "106062                                                cup                NaN  \n",
              "70028                                                   L                NaN  \n",
              "210505                                                  L                NaN  \n",
              "233146                                                NaN           PREPARED  \n",
              "\n",
              "[15 rows x 32 columns]"
            ],
            "text/html": [
              "\n",
              "  <div id=\"df-c22de57e-ddbf-4100-af80-7d0b748bdd88\">\n",
              "    <div class=\"colab-df-container\">\n",
              "      <div>\n",
              "<style scoped>\n",
              "    .dataframe tbody tr th:only-of-type {\n",
              "        vertical-align: middle;\n",
              "    }\n",
              "\n",
              "    .dataframe tbody tr th {\n",
              "        vertical-align: top;\n",
              "    }\n",
              "\n",
              "    .dataframe thead th {\n",
              "        text-align: right;\n",
              "    }\n",
              "</style>\n",
              "<table border=\"1\" class=\"dataframe\">\n",
              "  <thead>\n",
              "    <tr style=\"text-align: right;\">\n",
              "      <th></th>\n",
              "      <th>NDB_Number</th>\n",
              "      <th>long_name</th>\n",
              "      <th>data_source</th>\n",
              "      <th>gtin_upc</th>\n",
              "      <th>manufacturer</th>\n",
              "      <th>date_modified</th>\n",
              "      <th>date_available</th>\n",
              "      <th>ingredients_english</th>\n",
              "      <th>Calcium, Ca</th>\n",
              "      <th>Carbohydrate, by difference</th>\n",
              "      <th>...</th>\n",
              "      <th>Total lipid (fat)</th>\n",
              "      <th>Vitamin A, IU</th>\n",
              "      <th>Vitamin C, total ascorbic acid</th>\n",
              "      <th>Vitamin D</th>\n",
              "      <th>NDB_No</th>\n",
              "      <th>Serving_Size</th>\n",
              "      <th>Serving_Size_UOM</th>\n",
              "      <th>Household_Serving_Size</th>\n",
              "      <th>Household_Serving_Size_UOM</th>\n",
              "      <th>Preparation_State</th>\n",
              "    </tr>\n",
              "  </thead>\n",
              "  <tbody>\n",
              "    <tr>\n",
              "      <th>200374</th>\n",
              "      <td>45330005</td>\n",
              "      <td>ORGANIC CHOPPED TOMATOES</td>\n",
              "      <td>LI</td>\n",
              "      <td>677294998186</td>\n",
              "      <td>ORGANICO BELLO</td>\n",
              "      <td>2017-10-13 18:14:18</td>\n",
              "      <td>2017-10-13 18:14:18</td>\n",
              "      <td>ORGANIC CHOPPED TOMATOES, ORGANIC TOMATO PUREE.</td>\n",
              "      <td>1.0</td>\n",
              "      <td>0.19</td>\n",
              "      <td>...</td>\n",
              "      <td>0.00</td>\n",
              "      <td>NaN</td>\n",
              "      <td>0.4</td>\n",
              "      <td>0.0</td>\n",
              "      <td>45330005.0</td>\n",
              "      <td>3750.0</td>\n",
              "      <td>ml</td>\n",
              "      <td>0.50</td>\n",
              "      <td>cup</td>\n",
              "      <td>NaN</td>\n",
              "    </tr>\n",
              "    <tr>\n",
              "      <th>56039</th>\n",
              "      <td>45133744</td>\n",
              "      <td>ACT II Butter Lovers Popcorn</td>\n",
              "      <td>GDSN</td>\n",
              "      <td>00076150232530</td>\n",
              "      <td>ConAgra Foods Inc.</td>\n",
              "      <td>2018-02-12 15:49:47</td>\n",
              "      <td>2018-04-26 10:20:47</td>\n",
              "      <td>Popping Corn, Palm Oil, Salt, Less than 2% of:...</td>\n",
              "      <td>0.0</td>\n",
              "      <td>0.68</td>\n",
              "      <td>...</td>\n",
              "      <td>0.14</td>\n",
              "      <td>0.0</td>\n",
              "      <td>0.0</td>\n",
              "      <td>NaN</td>\n",
              "      <td>45133744.0</td>\n",
              "      <td>2808.0</td>\n",
              "      <td>g</td>\n",
              "      <td>2.00</td>\n",
              "      <td>tbsp (30g) unpopped (makes about 4.5 cups popped)</td>\n",
              "      <td>UNPREPARED</td>\n",
              "    </tr>\n",
              "    <tr>\n",
              "      <th>55598</th>\n",
              "      <td>45130180</td>\n",
              "      <td>ACT II Butter Lovers Popcorn</td>\n",
              "      <td>GDSN</td>\n",
              "      <td>00076150232547</td>\n",
              "      <td>ConAgra Foods Inc.</td>\n",
              "      <td>2017-11-30 14:43:32</td>\n",
              "      <td>2018-04-26 10:20:47</td>\n",
              "      <td>Popping Corn, Palm Oil, Salt, Less than 2% of:...</td>\n",
              "      <td>0.0</td>\n",
              "      <td>0.87</td>\n",
              "      <td>...</td>\n",
              "      <td>0.18</td>\n",
              "      <td>0.0</td>\n",
              "      <td>0.0</td>\n",
              "      <td>NaN</td>\n",
              "      <td>45130180.0</td>\n",
              "      <td>2184.0</td>\n",
              "      <td>g</td>\n",
              "      <td>2.00</td>\n",
              "      <td>tbsp (30g) unpopped (makes about 4.5 cups popped)</td>\n",
              "      <td>UNPREPARED</td>\n",
              "    </tr>\n",
              "    <tr>\n",
              "      <th>99287</th>\n",
              "      <td>45187513</td>\n",
              "      <td>SWEET ACTION, ICE CREAM, VEGAN STRAWBERRY</td>\n",
              "      <td>LI</td>\n",
              "      <td>751570510498</td>\n",
              "      <td>Sculatti I.F.S.</td>\n",
              "      <td>2017-07-14 18:37:31</td>\n",
              "      <td>2017-07-14 18:37:31</td>\n",
              "      <td>ORGANIC SOY MILK, ORGANIC COCONUT CREAM (COCON...</td>\n",
              "      <td>3.0</td>\n",
              "      <td>1.82</td>\n",
              "      <td>...</td>\n",
              "      <td>0.57</td>\n",
              "      <td>5.0</td>\n",
              "      <td>0.7</td>\n",
              "      <td>NaN</td>\n",
              "      <td>45187513.0</td>\n",
              "      <td>2091.0</td>\n",
              "      <td>g</td>\n",
              "      <td>4.00</td>\n",
              "      <td>ONZ</td>\n",
              "      <td>NaN</td>\n",
              "    </tr>\n",
              "    <tr>\n",
              "      <th>99288</th>\n",
              "      <td>45187514</td>\n",
              "      <td>SWEET ACTION ICE CREAM, ICE CREAM, VEGAN COCON...</td>\n",
              "      <td>LI</td>\n",
              "      <td>751570510511</td>\n",
              "      <td>Sculatti I.F.S.</td>\n",
              "      <td>2017-07-14 18:37:31</td>\n",
              "      <td>2017-07-14 18:37:31</td>\n",
              "      <td>ORGANIC SOY MILK, ORGANIC COCONUT CREAM (COCON...</td>\n",
              "      <td>4.0</td>\n",
              "      <td>1.82</td>\n",
              "      <td>...</td>\n",
              "      <td>0.77</td>\n",
              "      <td>5.0</td>\n",
              "      <td>0.1</td>\n",
              "      <td>NaN</td>\n",
              "      <td>45187514.0</td>\n",
              "      <td>2091.0</td>\n",
              "      <td>g</td>\n",
              "      <td>4.00</td>\n",
              "      <td>ONZ</td>\n",
              "      <td>NaN</td>\n",
              "    </tr>\n",
              "    <tr>\n",
              "      <th>83685</th>\n",
              "      <td>45169021</td>\n",
              "      <td>SWEET ACTION ICE CREAM, ICE CREAM, VEGAN COFFE...</td>\n",
              "      <td>LI</td>\n",
              "      <td>751570510467</td>\n",
              "      <td>Sculatti I.F.S.</td>\n",
              "      <td>2017-07-14 18:01:22</td>\n",
              "      <td>2017-07-14 18:01:22</td>\n",
              "      <td>ORGANIC SOY MILK, ORGANIC COCONUT CREAM (COCON...</td>\n",
              "      <td>3.0</td>\n",
              "      <td>1.82</td>\n",
              "      <td>...</td>\n",
              "      <td>0.67</td>\n",
              "      <td>5.0</td>\n",
              "      <td>0.1</td>\n",
              "      <td>NaN</td>\n",
              "      <td>45169021.0</td>\n",
              "      <td>2091.0</td>\n",
              "      <td>g</td>\n",
              "      <td>4.00</td>\n",
              "      <td>ONZ</td>\n",
              "      <td>NaN</td>\n",
              "    </tr>\n",
              "    <tr>\n",
              "      <th>99157</th>\n",
              "      <td>45187353</td>\n",
              "      <td>SWEET ACTION, ICE CREAM, VEGAN MINT CHIP</td>\n",
              "      <td>LI</td>\n",
              "      <td>700621453444</td>\n",
              "      <td>Disk Technologies Corporation</td>\n",
              "      <td>2018-01-20 03:51:49</td>\n",
              "      <td>2018-01-20 03:51:49</td>\n",
              "      <td>ORGANIC SOY MILK, ORGANIC COCONUT CREAM (COCON...</td>\n",
              "      <td>3.0</td>\n",
              "      <td>1.87</td>\n",
              "      <td>...</td>\n",
              "      <td>0.77</td>\n",
              "      <td>24.0</td>\n",
              "      <td>0.1</td>\n",
              "      <td>NaN</td>\n",
              "      <td>45187353.0</td>\n",
              "      <td>2091.0</td>\n",
              "      <td>g</td>\n",
              "      <td>4.00</td>\n",
              "      <td>ONZ</td>\n",
              "      <td>NaN</td>\n",
              "    </tr>\n",
              "    <tr>\n",
              "      <th>83745</th>\n",
              "      <td>45169100</td>\n",
              "      <td>SWEET ACTION, ICE CREAM, VEGAN CINNAMON ROLL</td>\n",
              "      <td>LI</td>\n",
              "      <td>799491898615</td>\n",
              "      <td>Reese Orchards</td>\n",
              "      <td>2017-07-14 18:01:51</td>\n",
              "      <td>2017-07-14 18:01:51</td>\n",
              "      <td>ORGANIC SOY MILK, ORGANIC COCONUT CREAM (COCON...</td>\n",
              "      <td>4.0</td>\n",
              "      <td>2.58</td>\n",
              "      <td>...</td>\n",
              "      <td>0.81</td>\n",
              "      <td>5.0</td>\n",
              "      <td>0.1</td>\n",
              "      <td>NaN</td>\n",
              "      <td>45169100.0</td>\n",
              "      <td>2091.0</td>\n",
              "      <td>g</td>\n",
              "      <td>4.00</td>\n",
              "      <td>ONZ</td>\n",
              "      <td>NaN</td>\n",
              "    </tr>\n",
              "    <tr>\n",
              "      <th>99286</th>\n",
              "      <td>45187512</td>\n",
              "      <td>SWEET ACTION, ICE CREAM, VEGAN COOKIES + CREAM</td>\n",
              "      <td>LI</td>\n",
              "      <td>751570510474</td>\n",
              "      <td>Sculatti I.F.S.</td>\n",
              "      <td>2017-10-31 14:57:51</td>\n",
              "      <td>2017-10-31 14:57:51</td>\n",
              "      <td>ORGANIC SOY MILK, ORGANIC COCONUT CREAM (COCON...</td>\n",
              "      <td>3.0</td>\n",
              "      <td>1.87</td>\n",
              "      <td>...</td>\n",
              "      <td>0.72</td>\n",
              "      <td>5.0</td>\n",
              "      <td>0.1</td>\n",
              "      <td>NaN</td>\n",
              "      <td>45187512.0</td>\n",
              "      <td>2091.0</td>\n",
              "      <td>g</td>\n",
              "      <td>4.00</td>\n",
              "      <td>ONZ</td>\n",
              "      <td>NaN</td>\n",
              "    </tr>\n",
              "    <tr>\n",
              "      <th>83509</th>\n",
              "      <td>45168774</td>\n",
              "      <td>SWEET ACTION, ICE CREAM, VANILLA BEAN</td>\n",
              "      <td>LI</td>\n",
              "      <td>700621453383</td>\n",
              "      <td>Disk Technologies Corporation</td>\n",
              "      <td>2017-07-14 18:00:41</td>\n",
              "      <td>2017-07-14 18:00:41</td>\n",
              "      <td>ORGANIC SOY MILK, ORGANIC COCONUT CREAM (COCON...</td>\n",
              "      <td>3.0</td>\n",
              "      <td>1.63</td>\n",
              "      <td>...</td>\n",
              "      <td>0.67</td>\n",
              "      <td>5.0</td>\n",
              "      <td>0.1</td>\n",
              "      <td>NaN</td>\n",
              "      <td>45168774.0</td>\n",
              "      <td>2091.0</td>\n",
              "      <td>g</td>\n",
              "      <td>4.00</td>\n",
              "      <td>ONZ</td>\n",
              "      <td>NaN</td>\n",
              "    </tr>\n",
              "    <tr>\n",
              "      <th>35631</th>\n",
              "      <td>45084268</td>\n",
              "      <td>RIGATONI, ENRICHED MACARONI PRODUCT</td>\n",
              "      <td>LI</td>\n",
              "      <td>041318300444</td>\n",
              "      <td>Schnuck Markets, Inc.</td>\n",
              "      <td>2017-08-12 10:08:11</td>\n",
              "      <td>2017-08-12 10:08:11</td>\n",
              "      <td>DURUM SEMOLINA, NIACIN, FERROUS SULFATE (IRON)...</td>\n",
              "      <td>0.0</td>\n",
              "      <td>2.44</td>\n",
              "      <td>...</td>\n",
              "      <td>0.06</td>\n",
              "      <td>0.0</td>\n",
              "      <td>0.0</td>\n",
              "      <td>NaN</td>\n",
              "      <td>45084268.0</td>\n",
              "      <td>1680.0</td>\n",
              "      <td>ml</td>\n",
              "      <td>0.75</td>\n",
              "      <td>cup</td>\n",
              "      <td>NaN</td>\n",
              "    </tr>\n",
              "    <tr>\n",
              "      <th>106062</th>\n",
              "      <td>45195179</td>\n",
              "      <td>DICED POTATOES</td>\n",
              "      <td>LI</td>\n",
              "      <td>033757826302</td>\n",
              "      <td>Citadel Enterprises Inc.</td>\n",
              "      <td>2018-02-03 11:42:30</td>\n",
              "      <td>2018-02-03 11:42:30</td>\n",
              "      <td>POTATOES, WATER, SALT, CALCIUM CHLORIDE, DISOD...</td>\n",
              "      <td>NaN</td>\n",
              "      <td>0.87</td>\n",
              "      <td>...</td>\n",
              "      <td>0.00</td>\n",
              "      <td>0.0</td>\n",
              "      <td>0.7</td>\n",
              "      <td>NaN</td>\n",
              "      <td>45195179.0</td>\n",
              "      <td>1262.0</td>\n",
              "      <td>g</td>\n",
              "      <td>0.50</td>\n",
              "      <td>cup</td>\n",
              "      <td>NaN</td>\n",
              "    </tr>\n",
              "    <tr>\n",
              "      <th>70028</th>\n",
              "      <td>45152162</td>\n",
              "      <td>TOPS, PURIFIED WATER</td>\n",
              "      <td>LI</td>\n",
              "      <td>070784150093</td>\n",
              "      <td>Tops Markets, LLC</td>\n",
              "      <td>2018-01-20 04:32:36</td>\n",
              "      <td>2018-01-20 04:32:36</td>\n",
              "      <td>PURIFIED WATER, THROUGH STEAM DISTILLATION, CA...</td>\n",
              "      <td>NaN</td>\n",
              "      <td>0.00</td>\n",
              "      <td>...</td>\n",
              "      <td>0.00</td>\n",
              "      <td>NaN</td>\n",
              "      <td>NaN</td>\n",
              "      <td>NaN</td>\n",
              "      <td>45152162.0</td>\n",
              "      <td>1014.0</td>\n",
              "      <td>ml</td>\n",
              "      <td>1.00</td>\n",
              "      <td>L</td>\n",
              "      <td>NaN</td>\n",
              "    </tr>\n",
              "    <tr>\n",
              "      <th>210505</th>\n",
              "      <td>45346005</td>\n",
              "      <td>PURIFIED WATER ENHANCED WITH ELECTROLYTES</td>\n",
              "      <td>LI</td>\n",
              "      <td>07078415007</td>\n",
              "      <td>Tops Markets, LLC</td>\n",
              "      <td>2018-03-03 07:48:57</td>\n",
              "      <td>2018-03-03 07:48:57</td>\n",
              "      <td>PURIFIED WATER THROUGH STEAM DISTILLATION CALC...</td>\n",
              "      <td>NaN</td>\n",
              "      <td>0.00</td>\n",
              "      <td>...</td>\n",
              "      <td>0.00</td>\n",
              "      <td>NaN</td>\n",
              "      <td>NaN</td>\n",
              "      <td>NaN</td>\n",
              "      <td>45346005.0</td>\n",
              "      <td>1014.0</td>\n",
              "      <td>ml</td>\n",
              "      <td>1.00</td>\n",
              "      <td>L</td>\n",
              "      <td>NaN</td>\n",
              "    </tr>\n",
              "    <tr>\n",
              "      <th>233146</th>\n",
              "      <td>45370300</td>\n",
              "      <td>SIMILAC PRO-ADVANCE HMO NEWBORN READY TO FEED ...</td>\n",
              "      <td>GDSN</td>\n",
              "      <td>00070074576015</td>\n",
              "      <td>Abbott Nutrition</td>\n",
              "      <td>2018-02-27 15:33:39</td>\n",
              "      <td>2018-04-26 10:17:52</td>\n",
              "      <td>Water, Nonfat Milk, Lactose, High Oleic Safflo...</td>\n",
              "      <td>NaN</td>\n",
              "      <td>7.07</td>\n",
              "      <td>...</td>\n",
              "      <td>3.47</td>\n",
              "      <td>193.0</td>\n",
              "      <td>5.8</td>\n",
              "      <td>48.0</td>\n",
              "      <td>45370300.0</td>\n",
              "      <td>1000.0</td>\n",
              "      <td>ml</td>\n",
              "      <td>NaN</td>\n",
              "      <td>NaN</td>\n",
              "      <td>PREPARED</td>\n",
              "    </tr>\n",
              "  </tbody>\n",
              "</table>\n",
              "<p>15 rows × 32 columns</p>\n",
              "</div>\n",
              "      <button class=\"colab-df-convert\" onclick=\"convertToInteractive('df-c22de57e-ddbf-4100-af80-7d0b748bdd88')\"\n",
              "              title=\"Convert this dataframe to an interactive table.\"\n",
              "              style=\"display:none;\">\n",
              "        \n",
              "  <svg xmlns=\"http://www.w3.org/2000/svg\" height=\"24px\"viewBox=\"0 0 24 24\"\n",
              "       width=\"24px\">\n",
              "    <path d=\"M0 0h24v24H0V0z\" fill=\"none\"/>\n",
              "    <path d=\"M18.56 5.44l.94 2.06.94-2.06 2.06-.94-2.06-.94-.94-2.06-.94 2.06-2.06.94zm-11 1L8.5 8.5l.94-2.06 2.06-.94-2.06-.94L8.5 2.5l-.94 2.06-2.06.94zm10 10l.94 2.06.94-2.06 2.06-.94-2.06-.94-.94-2.06-.94 2.06-2.06.94z\"/><path d=\"M17.41 7.96l-1.37-1.37c-.4-.4-.92-.59-1.43-.59-.52 0-1.04.2-1.43.59L10.3 9.45l-7.72 7.72c-.78.78-.78 2.05 0 2.83L4 21.41c.39.39.9.59 1.41.59.51 0 1.02-.2 1.41-.59l7.78-7.78 2.81-2.81c.8-.78.8-2.07 0-2.86zM5.41 20L4 18.59l7.72-7.72 1.47 1.35L5.41 20z\"/>\n",
              "  </svg>\n",
              "      </button>\n",
              "      \n",
              "  <style>\n",
              "    .colab-df-container {\n",
              "      display:flex;\n",
              "      flex-wrap:wrap;\n",
              "      gap: 12px;\n",
              "    }\n",
              "\n",
              "    .colab-df-convert {\n",
              "      background-color: #E8F0FE;\n",
              "      border: none;\n",
              "      border-radius: 50%;\n",
              "      cursor: pointer;\n",
              "      display: none;\n",
              "      fill: #1967D2;\n",
              "      height: 32px;\n",
              "      padding: 0 0 0 0;\n",
              "      width: 32px;\n",
              "    }\n",
              "\n",
              "    .colab-df-convert:hover {\n",
              "      background-color: #E2EBFA;\n",
              "      box-shadow: 0px 1px 2px rgba(60, 64, 67, 0.3), 0px 1px 3px 1px rgba(60, 64, 67, 0.15);\n",
              "      fill: #174EA6;\n",
              "    }\n",
              "\n",
              "    [theme=dark] .colab-df-convert {\n",
              "      background-color: #3B4455;\n",
              "      fill: #D2E3FC;\n",
              "    }\n",
              "\n",
              "    [theme=dark] .colab-df-convert:hover {\n",
              "      background-color: #434B5C;\n",
              "      box-shadow: 0px 1px 3px 1px rgba(0, 0, 0, 0.15);\n",
              "      filter: drop-shadow(0px 1px 2px rgba(0, 0, 0, 0.3));\n",
              "      fill: #FFFFFF;\n",
              "    }\n",
              "  </style>\n",
              "\n",
              "      <script>\n",
              "        const buttonEl =\n",
              "          document.querySelector('#df-c22de57e-ddbf-4100-af80-7d0b748bdd88 button.colab-df-convert');\n",
              "        buttonEl.style.display =\n",
              "          google.colab.kernel.accessAllowed ? 'block' : 'none';\n",
              "\n",
              "        async function convertToInteractive(key) {\n",
              "          const element = document.querySelector('#df-c22de57e-ddbf-4100-af80-7d0b748bdd88');\n",
              "          const dataTable =\n",
              "            await google.colab.kernel.invokeFunction('convertToInteractive',\n",
              "                                                     [key], {});\n",
              "          if (!dataTable) return;\n",
              "\n",
              "          const docLinkHtml = 'Like what you see? Visit the ' +\n",
              "            '<a target=\"_blank\" href=https://colab.research.google.com/notebooks/data_table.ipynb>data table notebook</a>'\n",
              "            + ' to learn more about interactive tables.';\n",
              "          element.innerHTML = '';\n",
              "          dataTable['output_type'] = 'display_data';\n",
              "          await google.colab.output.renderOutput(dataTable, element);\n",
              "          const docLink = document.createElement('div');\n",
              "          docLink.innerHTML = docLinkHtml;\n",
              "          element.appendChild(docLink);\n",
              "        }\n",
              "      </script>\n",
              "    </div>\n",
              "  </div>\n",
              "  "
            ]
          },
          "metadata": {},
          "execution_count": 28
        }
      ]
    },
    {
      "cell_type": "markdown",
      "source": [
        "There is clearly some bad data at the top. Careful analysis indicates that these are the result of calculation errors:\n",
        "1. Popcorn: the entries indicate that 2 tbsp of kernels yield over 2 kilograms of popped corn. This seems to be the result of a bad volume-to-weight conversion. My attempt to replicate their bad calculation leads to a similar value to the one they achieve, within about 30%.\n",
        "2. Vegan ice cream: the serving size seems to be the result of a bad conversion of the \"ONZ\" label into weight. Either ONZ means something other than ounces in this context, or the volume of the container is not fully taken up with the product.\n",
        "3. There are some other high-serving products (potatoes, etc) that seem to have been incorrectly manually converted. For example: the imperial to metric conversion is off by about a factor of ten\n",
        "\n",
        "After these few bad data points, the data is dominated by reasonable high-volume liquids like bottled water and baby formula."
      ],
      "metadata": {
        "id": "Twy2Bb8ZzA8S"
      }
    },
    {
      "cell_type": "code",
      "source": [
        "# Smallest serving sizes\n",
        "df.sort_values(\"Serving_Size\", ascending=True).head(5)"
      ],
      "metadata": {
        "id": "pVCMgxGz5WsM",
        "outputId": "e099d945-bb2e-44a7-9054-feef1a055b25",
        "colab": {
          "base_uri": "https://localhost:8080/",
          "height": 595
        }
      },
      "execution_count": 29,
      "outputs": [
        {
          "output_type": "execute_result",
          "data": {
            "text/plain": [
              "        NDB_Number                                     long_name data_source  \\\n",
              "177031    45283500                  NO CALORIE SWEETENER TABLETS          LI   \n",
              "27872     45060333                               SAFFRON THREADS          LI   \n",
              "83666     45168991  NUNATURALS, LOSWEET PREMIUM NATURAL SWEETNER          LI   \n",
              "99262     45187482      NUSTEVIA REB99 PREMIUM NATURAL SWEETENER          LI   \n",
              "163168    45268188                      STEVIA SWEETENER TABLETS          LI   \n",
              "\n",
              "            gtin_upc                    manufacturer        date_modified  \\\n",
              "177031  722776001448                         SPLENDA  2018-01-19 21:51:00   \n",
              "27872   016291441491             Morton Bassett Inc.  2017-07-27 03:37:35   \n",
              "83666   739223001876                Nunaturals, Inc.  2018-04-11 07:08:02   \n",
              "99262   739223006000                Nunaturals, Inc.  2017-07-14 18:37:23   \n",
              "163168  716123128407  United American Industries,Inc  2018-01-31 18:01:47   \n",
              "\n",
              "             date_available  \\\n",
              "177031  2018-01-19 21:51:00   \n",
              "27872   2017-07-27 03:37:35   \n",
              "83666   2018-04-11 07:08:02   \n",
              "99262   2017-07-14 18:37:23   \n",
              "163168  2018-01-31 18:01:47   \n",
              "\n",
              "                                      ingredients_english  Calcium, Ca  \\\n",
              "177031  LACTOSE (FROM MILK), SUCRALOSE, CROSCARMELLOSE...          NaN   \n",
              "27872                                                 NaN          NaN   \n",
              "83666                    LO HAN GUO (MONK FRUIT) EXTRACT.          NaN   \n",
              "99262          STEVIA EXTRACT (STEVIA REBAUDIANA) (LEAF).          NaN   \n",
              "163168     CELLULOSE, ORGANIC STEVIA LEAF EXTRACT, SILICA          NaN   \n",
              "\n",
              "        Carbohydrate, by difference  ...  Total lipid (fat)  Vitamin A, IU  \\\n",
              "177031                          0.0  ...                0.0            NaN   \n",
              "27872                           0.0  ...                0.0            NaN   \n",
              "83666                           0.0  ...                0.0            NaN   \n",
              "99262                           0.0  ...                0.0            NaN   \n",
              "163168                          0.0  ...                0.0            NaN   \n",
              "\n",
              "        Vitamin C, total ascorbic acid  Vitamin D      NDB_No  Serving_Size  \\\n",
              "177031                             NaN        NaN  45283500.0         0.015   \n",
              "27872                              NaN        NaN  45060333.0         0.025   \n",
              "83666                              NaN        NaN  45168991.0         0.035   \n",
              "99262                              NaN        NaN  45187482.0         0.035   \n",
              "163168                             NaN        NaN  45268188.0         0.043   \n",
              "\n",
              "        Serving_Size_UOM  Household_Serving_Size  \\\n",
              "177031                 g                  1.0000   \n",
              "27872                  g                  0.1250   \n",
              "83666                  g                  0.0150   \n",
              "99262                  g                  0.0156   \n",
              "163168                 g                  1.0000   \n",
              "\n",
              "                 Household_Serving_Size_UOM  Preparation_State  \n",
              "177031                               TABLET                NaN  \n",
              "27872                                   tsp                NaN  \n",
              "83666                                   tsp                NaN  \n",
              "99262                                   tsp                NaN  \n",
              "163168  TABLET (EQUAL TO 100 TSP. OF SUGAR)                NaN  \n",
              "\n",
              "[5 rows x 32 columns]"
            ],
            "text/html": [
              "\n",
              "  <div id=\"df-5347b6a4-1ae1-4878-8f21-d3c7727e8438\">\n",
              "    <div class=\"colab-df-container\">\n",
              "      <div>\n",
              "<style scoped>\n",
              "    .dataframe tbody tr th:only-of-type {\n",
              "        vertical-align: middle;\n",
              "    }\n",
              "\n",
              "    .dataframe tbody tr th {\n",
              "        vertical-align: top;\n",
              "    }\n",
              "\n",
              "    .dataframe thead th {\n",
              "        text-align: right;\n",
              "    }\n",
              "</style>\n",
              "<table border=\"1\" class=\"dataframe\">\n",
              "  <thead>\n",
              "    <tr style=\"text-align: right;\">\n",
              "      <th></th>\n",
              "      <th>NDB_Number</th>\n",
              "      <th>long_name</th>\n",
              "      <th>data_source</th>\n",
              "      <th>gtin_upc</th>\n",
              "      <th>manufacturer</th>\n",
              "      <th>date_modified</th>\n",
              "      <th>date_available</th>\n",
              "      <th>ingredients_english</th>\n",
              "      <th>Calcium, Ca</th>\n",
              "      <th>Carbohydrate, by difference</th>\n",
              "      <th>...</th>\n",
              "      <th>Total lipid (fat)</th>\n",
              "      <th>Vitamin A, IU</th>\n",
              "      <th>Vitamin C, total ascorbic acid</th>\n",
              "      <th>Vitamin D</th>\n",
              "      <th>NDB_No</th>\n",
              "      <th>Serving_Size</th>\n",
              "      <th>Serving_Size_UOM</th>\n",
              "      <th>Household_Serving_Size</th>\n",
              "      <th>Household_Serving_Size_UOM</th>\n",
              "      <th>Preparation_State</th>\n",
              "    </tr>\n",
              "  </thead>\n",
              "  <tbody>\n",
              "    <tr>\n",
              "      <th>177031</th>\n",
              "      <td>45283500</td>\n",
              "      <td>NO CALORIE SWEETENER TABLETS</td>\n",
              "      <td>LI</td>\n",
              "      <td>722776001448</td>\n",
              "      <td>SPLENDA</td>\n",
              "      <td>2018-01-19 21:51:00</td>\n",
              "      <td>2018-01-19 21:51:00</td>\n",
              "      <td>LACTOSE (FROM MILK), SUCRALOSE, CROSCARMELLOSE...</td>\n",
              "      <td>NaN</td>\n",
              "      <td>0.0</td>\n",
              "      <td>...</td>\n",
              "      <td>0.0</td>\n",
              "      <td>NaN</td>\n",
              "      <td>NaN</td>\n",
              "      <td>NaN</td>\n",
              "      <td>45283500.0</td>\n",
              "      <td>0.015</td>\n",
              "      <td>g</td>\n",
              "      <td>1.0000</td>\n",
              "      <td>TABLET</td>\n",
              "      <td>NaN</td>\n",
              "    </tr>\n",
              "    <tr>\n",
              "      <th>27872</th>\n",
              "      <td>45060333</td>\n",
              "      <td>SAFFRON THREADS</td>\n",
              "      <td>LI</td>\n",
              "      <td>016291441491</td>\n",
              "      <td>Morton Bassett Inc.</td>\n",
              "      <td>2017-07-27 03:37:35</td>\n",
              "      <td>2017-07-27 03:37:35</td>\n",
              "      <td>NaN</td>\n",
              "      <td>NaN</td>\n",
              "      <td>0.0</td>\n",
              "      <td>...</td>\n",
              "      <td>0.0</td>\n",
              "      <td>NaN</td>\n",
              "      <td>NaN</td>\n",
              "      <td>NaN</td>\n",
              "      <td>45060333.0</td>\n",
              "      <td>0.025</td>\n",
              "      <td>g</td>\n",
              "      <td>0.1250</td>\n",
              "      <td>tsp</td>\n",
              "      <td>NaN</td>\n",
              "    </tr>\n",
              "    <tr>\n",
              "      <th>83666</th>\n",
              "      <td>45168991</td>\n",
              "      <td>NUNATURALS, LOSWEET PREMIUM NATURAL SWEETNER</td>\n",
              "      <td>LI</td>\n",
              "      <td>739223001876</td>\n",
              "      <td>Nunaturals, Inc.</td>\n",
              "      <td>2018-04-11 07:08:02</td>\n",
              "      <td>2018-04-11 07:08:02</td>\n",
              "      <td>LO HAN GUO (MONK FRUIT) EXTRACT.</td>\n",
              "      <td>NaN</td>\n",
              "      <td>0.0</td>\n",
              "      <td>...</td>\n",
              "      <td>0.0</td>\n",
              "      <td>NaN</td>\n",
              "      <td>NaN</td>\n",
              "      <td>NaN</td>\n",
              "      <td>45168991.0</td>\n",
              "      <td>0.035</td>\n",
              "      <td>g</td>\n",
              "      <td>0.0150</td>\n",
              "      <td>tsp</td>\n",
              "      <td>NaN</td>\n",
              "    </tr>\n",
              "    <tr>\n",
              "      <th>99262</th>\n",
              "      <td>45187482</td>\n",
              "      <td>NUSTEVIA REB99 PREMIUM NATURAL SWEETENER</td>\n",
              "      <td>LI</td>\n",
              "      <td>739223006000</td>\n",
              "      <td>Nunaturals, Inc.</td>\n",
              "      <td>2017-07-14 18:37:23</td>\n",
              "      <td>2017-07-14 18:37:23</td>\n",
              "      <td>STEVIA EXTRACT (STEVIA REBAUDIANA) (LEAF).</td>\n",
              "      <td>NaN</td>\n",
              "      <td>0.0</td>\n",
              "      <td>...</td>\n",
              "      <td>0.0</td>\n",
              "      <td>NaN</td>\n",
              "      <td>NaN</td>\n",
              "      <td>NaN</td>\n",
              "      <td>45187482.0</td>\n",
              "      <td>0.035</td>\n",
              "      <td>g</td>\n",
              "      <td>0.0156</td>\n",
              "      <td>tsp</td>\n",
              "      <td>NaN</td>\n",
              "    </tr>\n",
              "    <tr>\n",
              "      <th>163168</th>\n",
              "      <td>45268188</td>\n",
              "      <td>STEVIA SWEETENER TABLETS</td>\n",
              "      <td>LI</td>\n",
              "      <td>716123128407</td>\n",
              "      <td>United American Industries,Inc</td>\n",
              "      <td>2018-01-31 18:01:47</td>\n",
              "      <td>2018-01-31 18:01:47</td>\n",
              "      <td>CELLULOSE, ORGANIC STEVIA LEAF EXTRACT, SILICA</td>\n",
              "      <td>NaN</td>\n",
              "      <td>0.0</td>\n",
              "      <td>...</td>\n",
              "      <td>0.0</td>\n",
              "      <td>NaN</td>\n",
              "      <td>NaN</td>\n",
              "      <td>NaN</td>\n",
              "      <td>45268188.0</td>\n",
              "      <td>0.043</td>\n",
              "      <td>g</td>\n",
              "      <td>1.0000</td>\n",
              "      <td>TABLET (EQUAL TO 100 TSP. OF SUGAR)</td>\n",
              "      <td>NaN</td>\n",
              "    </tr>\n",
              "  </tbody>\n",
              "</table>\n",
              "<p>5 rows × 32 columns</p>\n",
              "</div>\n",
              "      <button class=\"colab-df-convert\" onclick=\"convertToInteractive('df-5347b6a4-1ae1-4878-8f21-d3c7727e8438')\"\n",
              "              title=\"Convert this dataframe to an interactive table.\"\n",
              "              style=\"display:none;\">\n",
              "        \n",
              "  <svg xmlns=\"http://www.w3.org/2000/svg\" height=\"24px\"viewBox=\"0 0 24 24\"\n",
              "       width=\"24px\">\n",
              "    <path d=\"M0 0h24v24H0V0z\" fill=\"none\"/>\n",
              "    <path d=\"M18.56 5.44l.94 2.06.94-2.06 2.06-.94-2.06-.94-.94-2.06-.94 2.06-2.06.94zm-11 1L8.5 8.5l.94-2.06 2.06-.94-2.06-.94L8.5 2.5l-.94 2.06-2.06.94zm10 10l.94 2.06.94-2.06 2.06-.94-2.06-.94-.94-2.06-.94 2.06-2.06.94z\"/><path d=\"M17.41 7.96l-1.37-1.37c-.4-.4-.92-.59-1.43-.59-.52 0-1.04.2-1.43.59L10.3 9.45l-7.72 7.72c-.78.78-.78 2.05 0 2.83L4 21.41c.39.39.9.59 1.41.59.51 0 1.02-.2 1.41-.59l7.78-7.78 2.81-2.81c.8-.78.8-2.07 0-2.86zM5.41 20L4 18.59l7.72-7.72 1.47 1.35L5.41 20z\"/>\n",
              "  </svg>\n",
              "      </button>\n",
              "      \n",
              "  <style>\n",
              "    .colab-df-container {\n",
              "      display:flex;\n",
              "      flex-wrap:wrap;\n",
              "      gap: 12px;\n",
              "    }\n",
              "\n",
              "    .colab-df-convert {\n",
              "      background-color: #E8F0FE;\n",
              "      border: none;\n",
              "      border-radius: 50%;\n",
              "      cursor: pointer;\n",
              "      display: none;\n",
              "      fill: #1967D2;\n",
              "      height: 32px;\n",
              "      padding: 0 0 0 0;\n",
              "      width: 32px;\n",
              "    }\n",
              "\n",
              "    .colab-df-convert:hover {\n",
              "      background-color: #E2EBFA;\n",
              "      box-shadow: 0px 1px 2px rgba(60, 64, 67, 0.3), 0px 1px 3px 1px rgba(60, 64, 67, 0.15);\n",
              "      fill: #174EA6;\n",
              "    }\n",
              "\n",
              "    [theme=dark] .colab-df-convert {\n",
              "      background-color: #3B4455;\n",
              "      fill: #D2E3FC;\n",
              "    }\n",
              "\n",
              "    [theme=dark] .colab-df-convert:hover {\n",
              "      background-color: #434B5C;\n",
              "      box-shadow: 0px 1px 3px 1px rgba(0, 0, 0, 0.15);\n",
              "      filter: drop-shadow(0px 1px 2px rgba(0, 0, 0, 0.3));\n",
              "      fill: #FFFFFF;\n",
              "    }\n",
              "  </style>\n",
              "\n",
              "      <script>\n",
              "        const buttonEl =\n",
              "          document.querySelector('#df-5347b6a4-1ae1-4878-8f21-d3c7727e8438 button.colab-df-convert');\n",
              "        buttonEl.style.display =\n",
              "          google.colab.kernel.accessAllowed ? 'block' : 'none';\n",
              "\n",
              "        async function convertToInteractive(key) {\n",
              "          const element = document.querySelector('#df-5347b6a4-1ae1-4878-8f21-d3c7727e8438');\n",
              "          const dataTable =\n",
              "            await google.colab.kernel.invokeFunction('convertToInteractive',\n",
              "                                                     [key], {});\n",
              "          if (!dataTable) return;\n",
              "\n",
              "          const docLinkHtml = 'Like what you see? Visit the ' +\n",
              "            '<a target=\"_blank\" href=https://colab.research.google.com/notebooks/data_table.ipynb>data table notebook</a>'\n",
              "            + ' to learn more about interactive tables.';\n",
              "          element.innerHTML = '';\n",
              "          dataTable['output_type'] = 'display_data';\n",
              "          await google.colab.output.renderOutput(dataTable, element);\n",
              "          const docLink = document.createElement('div');\n",
              "          docLink.innerHTML = docLinkHtml;\n",
              "          element.appendChild(docLink);\n",
              "        }\n",
              "      </script>\n",
              "    </div>\n",
              "  </div>\n",
              "  "
            ]
          },
          "metadata": {},
          "execution_count": 29
        }
      ]
    },
    {
      "cell_type": "markdown",
      "source": [
        "The extreme lows seem rather unremarkable: sweeteners, seasonings, etc., that would be expected to have an extremely low serving size."
      ],
      "metadata": {
        "id": "taR9jBr5xylx"
      }
    },
    {
      "cell_type": "code",
      "source": [
        "# Sample of typical serving sizes\n",
        "df[[\"long_name\", \"Serving_Size\", \"Serving_Size_UOM\"]].sample(10)"
      ],
      "metadata": {
        "colab": {
          "base_uri": "https://localhost:8080/",
          "height": 363
        },
        "id": "E59COGkVwEfn",
        "outputId": "848436ec-ed84-4a43-8ac3-f083c7c7c8a4"
      },
      "execution_count": 30,
      "outputs": [
        {
          "output_type": "execute_result",
          "data": {
            "text/plain": [
              "                                         long_name  Serving_Size  \\\n",
              "36239                   PITTED PRUNES, DRIED PLUMS          40.0   \n",
              "99969                                      HAVARTI          28.0   \n",
              "94519                                  HARD SALAMI          56.0   \n",
              "111838                                 PROTEIN BAR          57.0   \n",
              "180076         MILK CHOCOLATE WITH WHOLE HAZELNUTT          38.0   \n",
              "158215                   NUT & CHOCOLATE TRAIL MIX          28.0   \n",
              "87811   ESSENTIAL EVERYDAY, LOW FAT RICOTTA CHEESE          62.0   \n",
              "190237                              MILK CHOCOLATE          40.0   \n",
              "70651                  KARA, ORANGE SLICES GUMMIES          45.0   \n",
              "120274                   MONTEREY JACK GOAT CHEESE          28.0   \n",
              "\n",
              "       Serving_Size_UOM  \n",
              "36239                 g  \n",
              "99969                 g  \n",
              "94519                 g  \n",
              "111838                g  \n",
              "180076                g  \n",
              "158215                g  \n",
              "87811                 g  \n",
              "190237                g  \n",
              "70651                 g  \n",
              "120274                g  "
            ],
            "text/html": [
              "\n",
              "  <div id=\"df-c3e71251-bb53-4b78-b0fd-3db454f6fcff\">\n",
              "    <div class=\"colab-df-container\">\n",
              "      <div>\n",
              "<style scoped>\n",
              "    .dataframe tbody tr th:only-of-type {\n",
              "        vertical-align: middle;\n",
              "    }\n",
              "\n",
              "    .dataframe tbody tr th {\n",
              "        vertical-align: top;\n",
              "    }\n",
              "\n",
              "    .dataframe thead th {\n",
              "        text-align: right;\n",
              "    }\n",
              "</style>\n",
              "<table border=\"1\" class=\"dataframe\">\n",
              "  <thead>\n",
              "    <tr style=\"text-align: right;\">\n",
              "      <th></th>\n",
              "      <th>long_name</th>\n",
              "      <th>Serving_Size</th>\n",
              "      <th>Serving_Size_UOM</th>\n",
              "    </tr>\n",
              "  </thead>\n",
              "  <tbody>\n",
              "    <tr>\n",
              "      <th>36239</th>\n",
              "      <td>PITTED PRUNES, DRIED PLUMS</td>\n",
              "      <td>40.0</td>\n",
              "      <td>g</td>\n",
              "    </tr>\n",
              "    <tr>\n",
              "      <th>99969</th>\n",
              "      <td>HAVARTI</td>\n",
              "      <td>28.0</td>\n",
              "      <td>g</td>\n",
              "    </tr>\n",
              "    <tr>\n",
              "      <th>94519</th>\n",
              "      <td>HARD SALAMI</td>\n",
              "      <td>56.0</td>\n",
              "      <td>g</td>\n",
              "    </tr>\n",
              "    <tr>\n",
              "      <th>111838</th>\n",
              "      <td>PROTEIN BAR</td>\n",
              "      <td>57.0</td>\n",
              "      <td>g</td>\n",
              "    </tr>\n",
              "    <tr>\n",
              "      <th>180076</th>\n",
              "      <td>MILK CHOCOLATE WITH WHOLE HAZELNUTT</td>\n",
              "      <td>38.0</td>\n",
              "      <td>g</td>\n",
              "    </tr>\n",
              "    <tr>\n",
              "      <th>158215</th>\n",
              "      <td>NUT &amp; CHOCOLATE TRAIL MIX</td>\n",
              "      <td>28.0</td>\n",
              "      <td>g</td>\n",
              "    </tr>\n",
              "    <tr>\n",
              "      <th>87811</th>\n",
              "      <td>ESSENTIAL EVERYDAY, LOW FAT RICOTTA CHEESE</td>\n",
              "      <td>62.0</td>\n",
              "      <td>g</td>\n",
              "    </tr>\n",
              "    <tr>\n",
              "      <th>190237</th>\n",
              "      <td>MILK CHOCOLATE</td>\n",
              "      <td>40.0</td>\n",
              "      <td>g</td>\n",
              "    </tr>\n",
              "    <tr>\n",
              "      <th>70651</th>\n",
              "      <td>KARA, ORANGE SLICES GUMMIES</td>\n",
              "      <td>45.0</td>\n",
              "      <td>g</td>\n",
              "    </tr>\n",
              "    <tr>\n",
              "      <th>120274</th>\n",
              "      <td>MONTEREY JACK GOAT CHEESE</td>\n",
              "      <td>28.0</td>\n",
              "      <td>g</td>\n",
              "    </tr>\n",
              "  </tbody>\n",
              "</table>\n",
              "</div>\n",
              "      <button class=\"colab-df-convert\" onclick=\"convertToInteractive('df-c3e71251-bb53-4b78-b0fd-3db454f6fcff')\"\n",
              "              title=\"Convert this dataframe to an interactive table.\"\n",
              "              style=\"display:none;\">\n",
              "        \n",
              "  <svg xmlns=\"http://www.w3.org/2000/svg\" height=\"24px\"viewBox=\"0 0 24 24\"\n",
              "       width=\"24px\">\n",
              "    <path d=\"M0 0h24v24H0V0z\" fill=\"none\"/>\n",
              "    <path d=\"M18.56 5.44l.94 2.06.94-2.06 2.06-.94-2.06-.94-.94-2.06-.94 2.06-2.06.94zm-11 1L8.5 8.5l.94-2.06 2.06-.94-2.06-.94L8.5 2.5l-.94 2.06-2.06.94zm10 10l.94 2.06.94-2.06 2.06-.94-2.06-.94-.94-2.06-.94 2.06-2.06.94z\"/><path d=\"M17.41 7.96l-1.37-1.37c-.4-.4-.92-.59-1.43-.59-.52 0-1.04.2-1.43.59L10.3 9.45l-7.72 7.72c-.78.78-.78 2.05 0 2.83L4 21.41c.39.39.9.59 1.41.59.51 0 1.02-.2 1.41-.59l7.78-7.78 2.81-2.81c.8-.78.8-2.07 0-2.86zM5.41 20L4 18.59l7.72-7.72 1.47 1.35L5.41 20z\"/>\n",
              "  </svg>\n",
              "      </button>\n",
              "      \n",
              "  <style>\n",
              "    .colab-df-container {\n",
              "      display:flex;\n",
              "      flex-wrap:wrap;\n",
              "      gap: 12px;\n",
              "    }\n",
              "\n",
              "    .colab-df-convert {\n",
              "      background-color: #E8F0FE;\n",
              "      border: none;\n",
              "      border-radius: 50%;\n",
              "      cursor: pointer;\n",
              "      display: none;\n",
              "      fill: #1967D2;\n",
              "      height: 32px;\n",
              "      padding: 0 0 0 0;\n",
              "      width: 32px;\n",
              "    }\n",
              "\n",
              "    .colab-df-convert:hover {\n",
              "      background-color: #E2EBFA;\n",
              "      box-shadow: 0px 1px 2px rgba(60, 64, 67, 0.3), 0px 1px 3px 1px rgba(60, 64, 67, 0.15);\n",
              "      fill: #174EA6;\n",
              "    }\n",
              "\n",
              "    [theme=dark] .colab-df-convert {\n",
              "      background-color: #3B4455;\n",
              "      fill: #D2E3FC;\n",
              "    }\n",
              "\n",
              "    [theme=dark] .colab-df-convert:hover {\n",
              "      background-color: #434B5C;\n",
              "      box-shadow: 0px 1px 3px 1px rgba(0, 0, 0, 0.15);\n",
              "      filter: drop-shadow(0px 1px 2px rgba(0, 0, 0, 0.3));\n",
              "      fill: #FFFFFF;\n",
              "    }\n",
              "  </style>\n",
              "\n",
              "      <script>\n",
              "        const buttonEl =\n",
              "          document.querySelector('#df-c3e71251-bb53-4b78-b0fd-3db454f6fcff button.colab-df-convert');\n",
              "        buttonEl.style.display =\n",
              "          google.colab.kernel.accessAllowed ? 'block' : 'none';\n",
              "\n",
              "        async function convertToInteractive(key) {\n",
              "          const element = document.querySelector('#df-c3e71251-bb53-4b78-b0fd-3db454f6fcff');\n",
              "          const dataTable =\n",
              "            await google.colab.kernel.invokeFunction('convertToInteractive',\n",
              "                                                     [key], {});\n",
              "          if (!dataTable) return;\n",
              "\n",
              "          const docLinkHtml = 'Like what you see? Visit the ' +\n",
              "            '<a target=\"_blank\" href=https://colab.research.google.com/notebooks/data_table.ipynb>data table notebook</a>'\n",
              "            + ' to learn more about interactive tables.';\n",
              "          element.innerHTML = '';\n",
              "          dataTable['output_type'] = 'display_data';\n",
              "          await google.colab.output.renderOutput(dataTable, element);\n",
              "          const docLink = document.createElement('div');\n",
              "          docLink.innerHTML = docLinkHtml;\n",
              "          element.appendChild(docLink);\n",
              "        }\n",
              "      </script>\n",
              "    </div>\n",
              "  </div>\n",
              "  "
            ]
          },
          "metadata": {},
          "execution_count": 30
        }
      ]
    },
    {
      "cell_type": "markdown",
      "source": [
        "These all seem reasonable, with a rough benchmark of 1 gram per potato chip for reference."
      ],
      "metadata": {
        "id": "wtMlDR502Sxq"
      }
    },
    {
      "cell_type": "markdown",
      "source": [
        "### Additional EDA and Cleaning\n",
        "\n",
        "#### Extract \"Low Fat\"\n",
        "\n",
        "Technically, the definition for \"Low fat\" depends on whether you're assessing snacks or main dishes/meals. The requirements for a main dish are stricter (max 3 g per 100 g rather than max 3 g per 50 g and a max calorie ratio requirement for other food items.)\n",
        "\n",
        "For this project, since there's no field in the data to indicate whether a food is legally a main course, we will take a simple, relatively strict definition of 3 g of fat per 100 g indicating a low fat product."
      ],
      "metadata": {
        "id": "tU9xsbJm1OYx"
      }
    },
    {
      "cell_type": "code",
      "source": [
        "# Low fat is defined by limiting the fat to 3 g per serving\n",
        "# Nutrition facts are already normalized to 100 gram servings\n",
        "df[\"low_fat\"] = (df[\"Total lipid (fat)\"] < 3)"
      ],
      "metadata": {
        "id": "-h2rKLgg1Xbn"
      },
      "execution_count": 31,
      "outputs": []
    },
    {
      "cell_type": "code",
      "source": [
        "print(\"Low fat foods:\")\n",
        "print(df[df.low_fat == True].long_name.sample(5))\n",
        "\n",
        "print(\"\\nHigh fat foods:\")\n",
        "print(df[df.low_fat == False].long_name.sample(5))"
      ],
      "metadata": {
        "id": "qZ3g3KDG1aQe",
        "outputId": "152f5c99-395b-4b7d-b67e-a2922b8b068e",
        "colab": {
          "base_uri": "https://localhost:8080/"
        }
      },
      "execution_count": 32,
      "outputs": [
        {
          "output_type": "stream",
          "name": "stdout",
          "text": [
            "Low fat foods:\n",
            "182793                     ORGANIC KIDNEY BEANS\n",
            "47600                           OVEN BAKE SAUCE\n",
            "850       COBBLESTONE BREAD CO, WHEAT SUB ROLLS\n",
            "215009             ORGANIC STONE GROUND MUSTARD\n",
            "49891               SPARTAN, PRESERVES, APRICOT\n",
            "Name: long_name, dtype: object\n",
            "\n",
            "High fat foods:\n",
            "195025                          OLD FASHIONED FRANKS\n",
            "73009        CHIVE & GARLIC CREAM CHEESE ALTERNATIVE\n",
            "126140                        YOGURT COVERED RAISINS\n",
            "36287       OASIS NATURALS, ORGANIC HUMMUS, ORIGINAL\n",
            "153440    MANGO MILK MOCHI ROLL (GLUTNOUS RICE CAKE)\n",
            "Name: long_name, dtype: object\n"
          ]
        }
      ]
    },
    {
      "cell_type": "markdown",
      "source": [
        "It's reassuring that most of the low fat foods are clearly low fat, and the high fat foods tend to be obviously less healthy."
      ],
      "metadata": {
        "id": "pDotS6Rf3o_X"
      }
    },
    {
      "cell_type": "markdown",
      "source": [
        "### Extract Calories Per Gram\n",
        "Let's make sure that we can get the target variable (\"Calories Per Gram\") and that it looks reasonable for different products."
      ],
      "metadata": {
        "id": "HbeaReFb6ymz"
      }
    },
    {
      "cell_type": "code",
      "source": [
        "df['calories_per_gram'] = df['Energy'] / 100 # Nutrients file is normalized to 100 gram portions"
      ],
      "metadata": {
        "id": "ETPpwzKG586y"
      },
      "execution_count": 33,
      "outputs": []
    },
    {
      "cell_type": "code",
      "source": [
        "# We can't predict on values that don't have a target variable defined\n",
        "df = df.dropna(subset=['calories_per_gram'])"
      ],
      "metadata": {
        "id": "TDNCO3MpMkFQ"
      },
      "execution_count": 34,
      "outputs": []
    },
    {
      "cell_type": "code",
      "source": [
        "df[['long_name', 'calories_per_gram']].sample(10)"
      ],
      "metadata": {
        "id": "UFtI0p657XSm",
        "outputId": "3b75662f-94f0-49dc-df32-5c0efe6cb87d",
        "colab": {
          "base_uri": "https://localhost:8080/",
          "height": 363
        }
      },
      "execution_count": 35,
      "outputs": [
        {
          "output_type": "execute_result",
          "data": {
            "text/plain": [
              "                                                long_name  calories_per_gram\n",
              "131290                           BELLS CREME FILLED CAKES               4.20\n",
              "180280                                       ONION POWDER               0.00\n",
              "68360                               NATURAL WHOLE ALMONDS               6.07\n",
              "33027                                          NAVY BEANS               2.57\n",
              "45533                               ANCIENT GRAIN GRANOLA               4.64\n",
              "86213         LITTLE DEBBIE, CREME FILLED COSMIC CUPCAKES               4.08\n",
              "108567   ALL NATURAL GREEK STRAINED YOGURT WITH RASPBERRY               1.13\n",
              "208836                     QUINOA & KALE TURKEY MEATBALLS               1.29\n",
              "9611                ROUNDY'S, GELATIN DESSERT, STRAWBERRY               3.81\n",
              "55536   LIPTON, DECAFFEINATED DIET ICED TEA, LEMON NAT...               2.50"
            ],
            "text/html": [
              "\n",
              "  <div id=\"df-c1ee3458-47f9-4b48-bc0d-2c268bf0c8c4\">\n",
              "    <div class=\"colab-df-container\">\n",
              "      <div>\n",
              "<style scoped>\n",
              "    .dataframe tbody tr th:only-of-type {\n",
              "        vertical-align: middle;\n",
              "    }\n",
              "\n",
              "    .dataframe tbody tr th {\n",
              "        vertical-align: top;\n",
              "    }\n",
              "\n",
              "    .dataframe thead th {\n",
              "        text-align: right;\n",
              "    }\n",
              "</style>\n",
              "<table border=\"1\" class=\"dataframe\">\n",
              "  <thead>\n",
              "    <tr style=\"text-align: right;\">\n",
              "      <th></th>\n",
              "      <th>long_name</th>\n",
              "      <th>calories_per_gram</th>\n",
              "    </tr>\n",
              "  </thead>\n",
              "  <tbody>\n",
              "    <tr>\n",
              "      <th>131290</th>\n",
              "      <td>BELLS CREME FILLED CAKES</td>\n",
              "      <td>4.20</td>\n",
              "    </tr>\n",
              "    <tr>\n",
              "      <th>180280</th>\n",
              "      <td>ONION POWDER</td>\n",
              "      <td>0.00</td>\n",
              "    </tr>\n",
              "    <tr>\n",
              "      <th>68360</th>\n",
              "      <td>NATURAL WHOLE ALMONDS</td>\n",
              "      <td>6.07</td>\n",
              "    </tr>\n",
              "    <tr>\n",
              "      <th>33027</th>\n",
              "      <td>NAVY BEANS</td>\n",
              "      <td>2.57</td>\n",
              "    </tr>\n",
              "    <tr>\n",
              "      <th>45533</th>\n",
              "      <td>ANCIENT GRAIN GRANOLA</td>\n",
              "      <td>4.64</td>\n",
              "    </tr>\n",
              "    <tr>\n",
              "      <th>86213</th>\n",
              "      <td>LITTLE DEBBIE, CREME FILLED COSMIC CUPCAKES</td>\n",
              "      <td>4.08</td>\n",
              "    </tr>\n",
              "    <tr>\n",
              "      <th>108567</th>\n",
              "      <td>ALL NATURAL GREEK STRAINED YOGURT WITH RASPBERRY</td>\n",
              "      <td>1.13</td>\n",
              "    </tr>\n",
              "    <tr>\n",
              "      <th>208836</th>\n",
              "      <td>QUINOA &amp; KALE TURKEY MEATBALLS</td>\n",
              "      <td>1.29</td>\n",
              "    </tr>\n",
              "    <tr>\n",
              "      <th>9611</th>\n",
              "      <td>ROUNDY'S, GELATIN DESSERT, STRAWBERRY</td>\n",
              "      <td>3.81</td>\n",
              "    </tr>\n",
              "    <tr>\n",
              "      <th>55536</th>\n",
              "      <td>LIPTON, DECAFFEINATED DIET ICED TEA, LEMON NAT...</td>\n",
              "      <td>2.50</td>\n",
              "    </tr>\n",
              "  </tbody>\n",
              "</table>\n",
              "</div>\n",
              "      <button class=\"colab-df-convert\" onclick=\"convertToInteractive('df-c1ee3458-47f9-4b48-bc0d-2c268bf0c8c4')\"\n",
              "              title=\"Convert this dataframe to an interactive table.\"\n",
              "              style=\"display:none;\">\n",
              "        \n",
              "  <svg xmlns=\"http://www.w3.org/2000/svg\" height=\"24px\"viewBox=\"0 0 24 24\"\n",
              "       width=\"24px\">\n",
              "    <path d=\"M0 0h24v24H0V0z\" fill=\"none\"/>\n",
              "    <path d=\"M18.56 5.44l.94 2.06.94-2.06 2.06-.94-2.06-.94-.94-2.06-.94 2.06-2.06.94zm-11 1L8.5 8.5l.94-2.06 2.06-.94-2.06-.94L8.5 2.5l-.94 2.06-2.06.94zm10 10l.94 2.06.94-2.06 2.06-.94-2.06-.94-.94-2.06-.94 2.06-2.06.94z\"/><path d=\"M17.41 7.96l-1.37-1.37c-.4-.4-.92-.59-1.43-.59-.52 0-1.04.2-1.43.59L10.3 9.45l-7.72 7.72c-.78.78-.78 2.05 0 2.83L4 21.41c.39.39.9.59 1.41.59.51 0 1.02-.2 1.41-.59l7.78-7.78 2.81-2.81c.8-.78.8-2.07 0-2.86zM5.41 20L4 18.59l7.72-7.72 1.47 1.35L5.41 20z\"/>\n",
              "  </svg>\n",
              "      </button>\n",
              "      \n",
              "  <style>\n",
              "    .colab-df-container {\n",
              "      display:flex;\n",
              "      flex-wrap:wrap;\n",
              "      gap: 12px;\n",
              "    }\n",
              "\n",
              "    .colab-df-convert {\n",
              "      background-color: #E8F0FE;\n",
              "      border: none;\n",
              "      border-radius: 50%;\n",
              "      cursor: pointer;\n",
              "      display: none;\n",
              "      fill: #1967D2;\n",
              "      height: 32px;\n",
              "      padding: 0 0 0 0;\n",
              "      width: 32px;\n",
              "    }\n",
              "\n",
              "    .colab-df-convert:hover {\n",
              "      background-color: #E2EBFA;\n",
              "      box-shadow: 0px 1px 2px rgba(60, 64, 67, 0.3), 0px 1px 3px 1px rgba(60, 64, 67, 0.15);\n",
              "      fill: #174EA6;\n",
              "    }\n",
              "\n",
              "    [theme=dark] .colab-df-convert {\n",
              "      background-color: #3B4455;\n",
              "      fill: #D2E3FC;\n",
              "    }\n",
              "\n",
              "    [theme=dark] .colab-df-convert:hover {\n",
              "      background-color: #434B5C;\n",
              "      box-shadow: 0px 1px 3px 1px rgba(0, 0, 0, 0.15);\n",
              "      filter: drop-shadow(0px 1px 2px rgba(0, 0, 0, 0.3));\n",
              "      fill: #FFFFFF;\n",
              "    }\n",
              "  </style>\n",
              "\n",
              "      <script>\n",
              "        const buttonEl =\n",
              "          document.querySelector('#df-c1ee3458-47f9-4b48-bc0d-2c268bf0c8c4 button.colab-df-convert');\n",
              "        buttonEl.style.display =\n",
              "          google.colab.kernel.accessAllowed ? 'block' : 'none';\n",
              "\n",
              "        async function convertToInteractive(key) {\n",
              "          const element = document.querySelector('#df-c1ee3458-47f9-4b48-bc0d-2c268bf0c8c4');\n",
              "          const dataTable =\n",
              "            await google.colab.kernel.invokeFunction('convertToInteractive',\n",
              "                                                     [key], {});\n",
              "          if (!dataTable) return;\n",
              "\n",
              "          const docLinkHtml = 'Like what you see? Visit the ' +\n",
              "            '<a target=\"_blank\" href=https://colab.research.google.com/notebooks/data_table.ipynb>data table notebook</a>'\n",
              "            + ' to learn more about interactive tables.';\n",
              "          element.innerHTML = '';\n",
              "          dataTable['output_type'] = 'display_data';\n",
              "          await google.colab.output.renderOutput(dataTable, element);\n",
              "          const docLink = document.createElement('div');\n",
              "          docLink.innerHTML = docLinkHtml;\n",
              "          element.appendChild(docLink);\n",
              "        }\n",
              "      </script>\n",
              "    </div>\n",
              "  </div>\n",
              "  "
            ]
          },
          "metadata": {},
          "execution_count": 35
        }
      ]
    },
    {
      "cell_type": "markdown",
      "source": [
        "Several of these were also confirmed with external online sources, and these numbers seem consistent with other trusted values."
      ],
      "metadata": {
        "id": "48BWAXxI3cLZ"
      }
    },
    {
      "cell_type": "markdown",
      "source": [
        "#### Deal with Missing Serving Sizes\n",
        "Some serving sizes are missing. Let's figure out how to fix that"
      ],
      "metadata": {
        "id": "IdHt85ke1tjo"
      }
    },
    {
      "cell_type": "code",
      "source": [
        "# Check how many values are missing\n",
        "df.Serving_Size.isna().sum()"
      ],
      "metadata": {
        "id": "deszF2dY2gNi",
        "outputId": "6dc8ae0b-e5c9-4f5c-a1e1-271c5e8c8934",
        "colab": {
          "base_uri": "https://localhost:8080/"
        }
      },
      "execution_count": 36,
      "outputs": [
        {
          "output_type": "execute_result",
          "data": {
            "text/plain": [
              "17"
            ]
          },
          "metadata": {},
          "execution_count": 36
        }
      ]
    },
    {
      "cell_type": "code",
      "source": [
        "df.Serving_Size.plot(kind=\"box\")"
      ],
      "metadata": {
        "id": "z3Ybhq2I138G",
        "outputId": "cc599e76-3924-4963-b6ac-baa17a049398",
        "colab": {
          "base_uri": "https://localhost:8080/",
          "height": 283
        }
      },
      "execution_count": 37,
      "outputs": [
        {
          "output_type": "execute_result",
          "data": {
            "text/plain": [
              "<matplotlib.axes._subplots.AxesSubplot at 0x7f21dfbcbaf0>"
            ]
          },
          "metadata": {},
          "execution_count": 37
        },
        {
          "output_type": "display_data",
          "data": {
            "text/plain": [
              "<Figure size 432x288 with 1 Axes>"
            ],
            "image/png": "[encoded data removed]"
          },
          "metadata": {
            "needs_background": "light"
          }
        }
      ]
    },
    {
      "cell_type": "markdown",
      "source": [
        "There are very few missing serving sizes. The distribution is very uneven, possibly exponentially distributed, so taking a simple mean as an imputation is probably not a good idea. Additionally, there seems to be a pattern where entries with key missing values in these tables are missing other data.\n",
        "\n",
        "Let's examine the cases that have no serving size specified"
      ],
      "metadata": {
        "id": "_XDnBmzp2Xqc"
      }
    },
    {
      "cell_type": "code",
      "source": [
        "df[df.Serving_Size.isna()].head(3)"
      ],
      "metadata": {
        "id": "AiXndEoE2wte",
        "outputId": "1f7bbc86-5c37-471f-dd34-981b71fcacf1",
        "colab": {
          "base_uri": "https://localhost:8080/",
          "height": 549
        }
      },
      "execution_count": 38,
      "outputs": [
        {
          "output_type": "execute_result",
          "data": {
            "text/plain": [
              "        NDB_Number                                          long_name  \\\n",
              "132081    45224108  NATURADE, GRASS FED WHEY PROTEIN BOOSTER, CHOC...   \n",
              "202444    45332332     SUNFOOD, RAW ORGANIC PROTEIN POWDER, CHOCOLATE   \n",
              "202486    45332424         NATURADE, PEA PROTEIN VEGAN SHAKE, VANILLA   \n",
              "\n",
              "       data_source      gtin_upc     manufacturer        date_modified  \\\n",
              "132081          LI  079911030048  Prevention, LLC  2018-06-07 03:03:48   \n",
              "202444          LI  803813100284      Sunfood LLC  2018-06-05 05:34:30   \n",
              "202486          LI  079911026065  Prevention, LLC  2018-06-09 06:04:38   \n",
              "\n",
              "             date_available  \\\n",
              "132081  2018-06-07 03:03:48   \n",
              "202444  2018-06-05 05:34:30   \n",
              "202486  2018-06-09 06:04:38   \n",
              "\n",
              "                                      ingredients_english  Calcium, Ca  \\\n",
              "132081  WHEY PROTEIN CONCENTRATE, CHICORY INULIN, COCO...        238.0   \n",
              "202444  ORGANIC SPROUTED WHOLE GRAIN BROWN RICE PROTEI...        179.0   \n",
              "202486  PEA PROTEIN ISOLATE, ORGANIC CANE SUGAR, INULI...          0.0   \n",
              "\n",
              "        Carbohydrate, by difference  ...  Vitamin C, total ascorbic acid  \\\n",
              "132081                        28.57  ...                             0.0   \n",
              "202444                        21.43  ...                             6.1   \n",
              "202486                        22.22  ...                             0.0   \n",
              "\n",
              "        Vitamin D      NDB_No  Serving_Size  Serving_Size_UOM  \\\n",
              "132081        NaN  45224108.0           NaN                 g   \n",
              "202444        NaN  45332332.0           NaN                 g   \n",
              "202486        NaN  45332424.0           NaN                 g   \n",
              "\n",
              "        Household_Serving_Size  Household_Serving_Size_UOM  Preparation_State  \\\n",
              "132081                     1.0                      PACKET                NaN   \n",
              "202444                     1.0                       SCOOP                NaN   \n",
              "202486                     1.0                      PACKET                NaN   \n",
              "\n",
              "        low_fat  calories_per_gram  \n",
              "132081    False               3.81  \n",
              "202444    False               4.00  \n",
              "202486    False               3.89  \n",
              "\n",
              "[3 rows x 34 columns]"
            ],
            "text/html": [
              "\n",
              "  <div id=\"df-34f9eae6-49f9-4973-8dc9-367bf524687c\">\n",
              "    <div class=\"colab-df-container\">\n",
              "      <div>\n",
              "<style scoped>\n",
              "    .dataframe tbody tr th:only-of-type {\n",
              "        vertical-align: middle;\n",
              "    }\n",
              "\n",
              "    .dataframe tbody tr th {\n",
              "        vertical-align: top;\n",
              "    }\n",
              "\n",
              "    .dataframe thead th {\n",
              "        text-align: right;\n",
              "    }\n",
              "</style>\n",
              "<table border=\"1\" class=\"dataframe\">\n",
              "  <thead>\n",
              "    <tr style=\"text-align: right;\">\n",
              "      <th></th>\n",
              "      <th>NDB_Number</th>\n",
              "      <th>long_name</th>\n",
              "      <th>data_source</th>\n",
              "      <th>gtin_upc</th>\n",
              "      <th>manufacturer</th>\n",
              "      <th>date_modified</th>\n",
              "      <th>date_available</th>\n",
              "      <th>ingredients_english</th>\n",
              "      <th>Calcium, Ca</th>\n",
              "      <th>Carbohydrate, by difference</th>\n",
              "      <th>...</th>\n",
              "      <th>Vitamin C, total ascorbic acid</th>\n",
              "      <th>Vitamin D</th>\n",
              "      <th>NDB_No</th>\n",
              "      <th>Serving_Size</th>\n",
              "      <th>Serving_Size_UOM</th>\n",
              "      <th>Household_Serving_Size</th>\n",
              "      <th>Household_Serving_Size_UOM</th>\n",
              "      <th>Preparation_State</th>\n",
              "      <th>low_fat</th>\n",
              "      <th>calories_per_gram</th>\n",
              "    </tr>\n",
              "  </thead>\n",
              "  <tbody>\n",
              "    <tr>\n",
              "      <th>132081</th>\n",
              "      <td>45224108</td>\n",
              "      <td>NATURADE, GRASS FED WHEY PROTEIN BOOSTER, CHOC...</td>\n",
              "      <td>LI</td>\n",
              "      <td>079911030048</td>\n",
              "      <td>Prevention, LLC</td>\n",
              "      <td>2018-06-07 03:03:48</td>\n",
              "      <td>2018-06-07 03:03:48</td>\n",
              "      <td>WHEY PROTEIN CONCENTRATE, CHICORY INULIN, COCO...</td>\n",
              "      <td>238.0</td>\n",
              "      <td>28.57</td>\n",
              "      <td>...</td>\n",
              "      <td>0.0</td>\n",
              "      <td>NaN</td>\n",
              "      <td>45224108.0</td>\n",
              "      <td>NaN</td>\n",
              "      <td>g</td>\n",
              "      <td>1.0</td>\n",
              "      <td>PACKET</td>\n",
              "      <td>NaN</td>\n",
              "      <td>False</td>\n",
              "      <td>3.81</td>\n",
              "    </tr>\n",
              "    <tr>\n",
              "      <th>202444</th>\n",
              "      <td>45332332</td>\n",
              "      <td>SUNFOOD, RAW ORGANIC PROTEIN POWDER, CHOCOLATE</td>\n",
              "      <td>LI</td>\n",
              "      <td>803813100284</td>\n",
              "      <td>Sunfood LLC</td>\n",
              "      <td>2018-06-05 05:34:30</td>\n",
              "      <td>2018-06-05 05:34:30</td>\n",
              "      <td>ORGANIC SPROUTED WHOLE GRAIN BROWN RICE PROTEI...</td>\n",
              "      <td>179.0</td>\n",
              "      <td>21.43</td>\n",
              "      <td>...</td>\n",
              "      <td>6.1</td>\n",
              "      <td>NaN</td>\n",
              "      <td>45332332.0</td>\n",
              "      <td>NaN</td>\n",
              "      <td>g</td>\n",
              "      <td>1.0</td>\n",
              "      <td>SCOOP</td>\n",
              "      <td>NaN</td>\n",
              "      <td>False</td>\n",
              "      <td>4.00</td>\n",
              "    </tr>\n",
              "    <tr>\n",
              "      <th>202486</th>\n",
              "      <td>45332424</td>\n",
              "      <td>NATURADE, PEA PROTEIN VEGAN SHAKE, VANILLA</td>\n",
              "      <td>LI</td>\n",
              "      <td>079911026065</td>\n",
              "      <td>Prevention, LLC</td>\n",
              "      <td>2018-06-09 06:04:38</td>\n",
              "      <td>2018-06-09 06:04:38</td>\n",
              "      <td>PEA PROTEIN ISOLATE, ORGANIC CANE SUGAR, INULI...</td>\n",
              "      <td>0.0</td>\n",
              "      <td>22.22</td>\n",
              "      <td>...</td>\n",
              "      <td>0.0</td>\n",
              "      <td>NaN</td>\n",
              "      <td>45332424.0</td>\n",
              "      <td>NaN</td>\n",
              "      <td>g</td>\n",
              "      <td>1.0</td>\n",
              "      <td>PACKET</td>\n",
              "      <td>NaN</td>\n",
              "      <td>False</td>\n",
              "      <td>3.89</td>\n",
              "    </tr>\n",
              "  </tbody>\n",
              "</table>\n",
              "<p>3 rows × 34 columns</p>\n",
              "</div>\n",
              "      <button class=\"colab-df-convert\" onclick=\"convertToInteractive('df-34f9eae6-49f9-4973-8dc9-367bf524687c')\"\n",
              "              title=\"Convert this dataframe to an interactive table.\"\n",
              "              style=\"display:none;\">\n",
              "        \n",
              "  <svg xmlns=\"http://www.w3.org/2000/svg\" height=\"24px\"viewBox=\"0 0 24 24\"\n",
              "       width=\"24px\">\n",
              "    <path d=\"M0 0h24v24H0V0z\" fill=\"none\"/>\n",
              "    <path d=\"M18.56 5.44l.94 2.06.94-2.06 2.06-.94-2.06-.94-.94-2.06-.94 2.06-2.06.94zm-11 1L8.5 8.5l.94-2.06 2.06-.94-2.06-.94L8.5 2.5l-.94 2.06-2.06.94zm10 10l.94 2.06.94-2.06 2.06-.94-2.06-.94-.94-2.06-.94 2.06-2.06.94z\"/><path d=\"M17.41 7.96l-1.37-1.37c-.4-.4-.92-.59-1.43-.59-.52 0-1.04.2-1.43.59L10.3 9.45l-7.72 7.72c-.78.78-.78 2.05 0 2.83L4 21.41c.39.39.9.59 1.41.59.51 0 1.02-.2 1.41-.59l7.78-7.78 2.81-2.81c.8-.78.8-2.07 0-2.86zM5.41 20L4 18.59l7.72-7.72 1.47 1.35L5.41 20z\"/>\n",
              "  </svg>\n",
              "      </button>\n",
              "      \n",
              "  <style>\n",
              "    .colab-df-container {\n",
              "      display:flex;\n",
              "      flex-wrap:wrap;\n",
              "      gap: 12px;\n",
              "    }\n",
              "\n",
              "    .colab-df-convert {\n",
              "      background-color: #E8F0FE;\n",
              "      border: none;\n",
              "      border-radius: 50%;\n",
              "      cursor: pointer;\n",
              "      display: none;\n",
              "      fill: #1967D2;\n",
              "      height: 32px;\n",
              "      padding: 0 0 0 0;\n",
              "      width: 32px;\n",
              "    }\n",
              "\n",
              "    .colab-df-convert:hover {\n",
              "      background-color: #E2EBFA;\n",
              "      box-shadow: 0px 1px 2px rgba(60, 64, 67, 0.3), 0px 1px 3px 1px rgba(60, 64, 67, 0.15);\n",
              "      fill: #174EA6;\n",
              "    }\n",
              "\n",
              "    [theme=dark] .colab-df-convert {\n",
              "      background-color: #3B4455;\n",
              "      fill: #D2E3FC;\n",
              "    }\n",
              "\n",
              "    [theme=dark] .colab-df-convert:hover {\n",
              "      background-color: #434B5C;\n",
              "      box-shadow: 0px 1px 3px 1px rgba(0, 0, 0, 0.15);\n",
              "      filter: drop-shadow(0px 1px 2px rgba(0, 0, 0, 0.3));\n",
              "      fill: #FFFFFF;\n",
              "    }\n",
              "  </style>\n",
              "\n",
              "      <script>\n",
              "        const buttonEl =\n",
              "          document.querySelector('#df-34f9eae6-49f9-4973-8dc9-367bf524687c button.colab-df-convert');\n",
              "        buttonEl.style.display =\n",
              "          google.colab.kernel.accessAllowed ? 'block' : 'none';\n",
              "\n",
              "        async function convertToInteractive(key) {\n",
              "          const element = document.querySelector('#df-34f9eae6-49f9-4973-8dc9-367bf524687c');\n",
              "          const dataTable =\n",
              "            await google.colab.kernel.invokeFunction('convertToInteractive',\n",
              "                                                     [key], {});\n",
              "          if (!dataTable) return;\n",
              "\n",
              "          const docLinkHtml = 'Like what you see? Visit the ' +\n",
              "            '<a target=\"_blank\" href=https://colab.research.google.com/notebooks/data_table.ipynb>data table notebook</a>'\n",
              "            + ' to learn more about interactive tables.';\n",
              "          element.innerHTML = '';\n",
              "          dataTable['output_type'] = 'display_data';\n",
              "          await google.colab.output.renderOutput(dataTable, element);\n",
              "          const docLink = document.createElement('div');\n",
              "          docLink.innerHTML = docLinkHtml;\n",
              "          element.appendChild(docLink);\n",
              "        }\n",
              "      </script>\n",
              "    </div>\n",
              "  </div>\n",
              "  "
            ]
          },
          "metadata": {},
          "execution_count": 38
        }
      ]
    },
    {
      "cell_type": "markdown",
      "source": [
        "All cases with missing serving size (subset shown above) seem to be protein powder. This seems sufficiently out of the target of this model (predicting food values) that I'm content to discard these bad entries."
      ],
      "metadata": {
        "id": "0LfbEgyi28z9"
      }
    },
    {
      "cell_type": "code",
      "source": [
        "# Drop protein powders with no serving size since they aren't really food\n",
        "df = df.dropna(subset=[\"Serving_Size\"])"
      ],
      "metadata": {
        "id": "EGBWOS5Q1zi9"
      },
      "execution_count": 39,
      "outputs": []
    },
    {
      "cell_type": "markdown",
      "source": [
        "### EDA Summary\n",
        "* Missing Macronutrients: About 99.2% of the data has complete macronutrients. For simplicity, we will likely discard the remainder of the data, since it seems likely to be incomplete or inaccurate in other ways too.\n",
        "* Unit Standardization: Nutrient information is completely standardized already. Serving size units are standardized by either weight or volume. The majority of the data (87%) is expressed by weight. We could discard the by-volume data: however, intuition and a careful analysis of the liquid data indicates that approximating 1 ml = 1 gram would be appropriate for most products, since food priced by volume is typically water, syrup, or oil based. An analysis of several such products, including extreme examples like cream, salsa, honey and oil, all fell within about 30% of a 1 g/ml density, likely close enough to proceed with assuming this conversion.\n",
        "* Diversity of Manufacturer/Brand Types: The main contributers to the dataset are from US national food retailers (like Walmart and Kroger), food GPOs, and major manufacturers. There seems to be a long tail of smaller brands and manufacturers: additionally, some larger manufacturers seem to be obfuscating their contributions (intentionally or otherwise) by using subbrand names or adding random numbers to their brand names.\n",
        "* Serving size range and outliers: The data ranges between reasonable extremes of food servings: from sub-0.1-gram servings of seasonings and sweeteners to 1-liter servings of water and baby formula. There are a couple obviously bad data points at the extreme high end, with possible explanations enumerated within the analysis above. A cursory overview of the lower extremes, most upper extremes, and a totally random sample of foods all seem reasonable.\n",
        "* Low-fat output: low fat can be easily extracted with a threshold of < 3 grams of fat per 100 grams of food. Results seem consistent with what one would normally expect as low fat.\n",
        "* Calories per gram output: Calories can also be easily extracted directly from nutrition facts. These extracted numbers look consistent with other online sources and make intuitive sense.\n",
        "* Missing serving sizes: The rows with missing serving sizes all seem to correspond to protein powder products. These were omitted from the dataset, since they seem relatively far out of domain for a food classification model."
      ],
      "metadata": {
        "id": "08me6LIOwBC7"
      }
    },
    {
      "cell_type": "markdown",
      "source": [
        "##Feature Engineering\n",
        "### Final Feature List\n",
        "There are 101 final input features used by this model.\n",
        "\n",
        "Features 1-50: Boolean columns indicating whether each of the most common product name tokens occur in this specific product's description. Boolean flags indicating whether the token is present in the description or not.\n",
        "*Examples: 'name_contains_cheese', 'name_contains_chocolate', 'name_contains_organic'*\n",
        "\n",
        "Features 51-100: The ingredient index of the most common tokens in ingredient names (with 0 being the largest ingredient by volume, with higher numbers falling later in the list. -1 indicates the ingredient isn't present) *Examples: 'ingredient_index_natural and artificial flavor', 'ingredient_index_brown sugar', 'ingredient_index_artificial flavor', 'ingredient_index_eggs'*\n",
        "\n",
        "Feature 101: Serving Size, in grams.\n",
        "\n",
        "(Effectively, we build a small-vocabulary bag of words for the name, and create a new feature to interpret ingredients)\n",
        "\n",
        "\n",
        "### Feature Engineering Overview\n",
        "As initally planned, this project will require particularly heavy feature engineering, since the input data is largely unstructured, text based data.\n",
        "\n",
        "The primary goals wil be:\n",
        "* Extract usable features from the ingredients list (likely of binary \"has or doesn't have\" the ingredient, and possibly another encoding that captures how high the ingredient is on the ingredient list (like index on the ingredient list, normalized by number of ingredients.)\n",
        "* Extract usable features from the product name. (similar to the previous with common phrases and key words, like \"Fat Free\", \"Diet\", \"Snack\", etc.)\n",
        "\n",
        "There will also be some light feature engineering to extract calories from each product.\n",
        "\n"
      ],
      "metadata": {
        "id": "YuB4gkJhCQpY"
      }
    },
    {
      "cell_type": "markdown",
      "source": [
        "### Build Features of Common Branding Words"
      ],
      "metadata": {
        "id": "vh9rY3T__2Lc"
      }
    },
    {
      "cell_type": "code",
      "source": [
        "# normalize case and remove special characters\n",
        "clean_product_names = df.long_name.str.replace(\"[^a-zA-Z ]\", \"\", regex=True).str.lower()\n",
        "# collapse multiple spaces\n",
        "clean_product_tokens = clean_product_names.str.replace(\"\\s+\", \" \", regex=True)\n",
        "# split into token lists\n",
        "clean_product_tokens = clean_product_tokens.str.split(' ', expand=True).stack()"
      ],
      "metadata": {
        "id": "CcEND2GU_1T6"
      },
      "execution_count": 40,
      "outputs": []
    },
    {
      "cell_type": "code",
      "source": [
        "stop_words = [\"\", \"in\", \"with\", \"oz\", \"and\"]\n",
        "name_feature_words = [word for word in clean_product_tokens.value_counts().index if word not in stop_words][:50]"
      ],
      "metadata": {
        "id": "5npvjwOSAJej"
      },
      "execution_count": 41,
      "outputs": []
    },
    {
      "cell_type": "code",
      "source": [
        "# Construct a new set of feature columns, \"name_contains_x\" where x is each of the top 50 common product name tokens\n",
        "X = df[[\"Serving_Size\"]].copy()\n",
        "for name_feature in name_feature_words:\n",
        "  X[f\"name_contains_{name_feature}\"] = clean_product_names.str.contains(name_feature)"
      ],
      "metadata": {
        "id": "usjaVmQ_BsMr"
      },
      "execution_count": 42,
      "outputs": []
    },
    {
      "cell_type": "markdown",
      "source": [
        "### Build Features of Common Ingredients"
      ],
      "metadata": {
        "id": "WDQm2ZyoCym7"
      }
    },
    {
      "cell_type": "code",
      "source": [
        "# normalize case and remove special characters\n",
        "clean_ingredients = df['ingredients_english'].str.lower()\n",
        "# remove parentheses with nested ingredient sublists (showing ingredients of ingredients)\n",
        "clean_ingredients = clean_ingredients.str.replace(\"\\(.*?\\)\", \"\", regex=True)\n",
        "# remove unnecessary \"ingredients\" prefix\n",
        "clean_ingredients = clean_ingredients.str.replace(\"^.*?ingredients\\: \", \"\", regex=True)\n",
        "# remove extra suffixes after period ending ingredients section\n",
        "clean_ingredients = clean_ingredients.str.replace(\"\\..*$\", \"\", regex=True)\n",
        "# collapse multiple spaces\n",
        "clean_ingredients = clean_ingredients.str.replace(\"\\s+\", \" \", regex=True)\n",
        "# collapse extra spaces before commas\n",
        "clean_ingredients = clean_ingredients.str.replace(\" ,\", \",\", regex=False)\n",
        "clean_ingredient_tokens = clean_ingredients.str.split(', ', expand=True).stack()"
      ],
      "metadata": {
        "id": "CyYGBueaC2Fo"
      },
      "execution_count": 43,
      "outputs": []
    },
    {
      "cell_type": "code",
      "source": [
        "# Take top 50 most common feature words\n",
        "ingredient_feature_words = clean_ingredient_tokens.value_counts().index[:50]\n",
        "ingredient_lists = clean_ingredients.str.split(', ')"
      ],
      "metadata": {
        "id": "r8Fg5u4eGTB5"
      },
      "execution_count": 44,
      "outputs": []
    },
    {
      "cell_type": "code",
      "source": [
        "# Build columns of common ingredient indices\n",
        "for ingredient in ingredient_feature_words:\n",
        "  ingredient_index = ingredient_lists.apply(lambda x : -1 if (type(x) == float) or ingredient not in x else x.index(ingredient))\n",
        "  X[f\"ingredient_index_{ingredient}\"] = ingredient_index"
      ],
      "metadata": {
        "id": "efCOBosqGXPL",
        "outputId": "9793d6e2-cd30-41e9-e60a-34c96fde251e",
        "colab": {
          "base_uri": "https://localhost:8080/"
        }
      },
      "execution_count": 45,
      "outputs": [
        {
          "output_type": "stream",
          "name": "stderr",
          "text": [
            "<ipython-input-45-7f6d17900050>:4: PerformanceWarning: DataFrame is highly fragmented.  This is usually the result of calling `frame.insert` many times, which has poor performance.  Consider joining all columns at once using pd.concat(axis=1) instead.  To get a de-fragmented frame, use `newframe = frame.copy()`\n",
            "  X[f\"ingredient_index_{ingredient}\"] = ingredient_index\n"
          ]
        }
      ]
    },
    {
      "cell_type": "code",
      "source": [
        "y = df[['low_fat', 'calories_per_gram']]"
      ],
      "metadata": {
        "id": "IqdRZI54LFcm"
      },
      "execution_count": 46,
      "outputs": []
    },
    {
      "cell_type": "markdown",
      "source": [
        "##Train-Test Split\n",
        "We begin with a typical 70-30 train/test split: based on the extremely wide variety of product types and manufacturers, a fairly large test set is needed to be thorough.\n",
        "\n",
        "Because this application will not be used in a production setting, I will not maintain a holdout, although in a real-world setting I'd expect this data to come from new products developed after the project has started. If I later apply heavy hyperparameter tuning, I will establish a 60-30-10 train/val/test split to avoid overfitting via hyperparameter tuning."
      ],
      "metadata": {
        "id": "GqLYVAByPV27"
      }
    },
    {
      "cell_type": "code",
      "source": [
        "from sklearn.model_selection import train_test_split\n",
        "X_train, X_test, y_train, y_test = train_test_split(X, y, test_size=0.30, random_state=42)"
      ],
      "metadata": {
        "id": "VOIWcHjTJ2V6"
      },
      "execution_count": 47,
      "outputs": []
    },
    {
      "cell_type": "markdown",
      "source": [
        "##Initial Pipeline\n",
        "Most feature normalization and extraction was performed above and required custom logic outside of a transformation pipeline. We do apply a `StandardScaler`for the serving size column below."
      ],
      "metadata": {
        "id": "uvVlec_gJ29t"
      }
    },
    {
      "cell_type": "code",
      "source": [
        "from sklearn.preprocessing import StandardScaler\n",
        "scaler = StandardScaler()\n",
        "X_train['Serving_Size'] = scaler.fit_transform(X_train[['Serving_Size']])\n",
        "X_test['Serving_Size'] = scaler.transform(X_test[['Serving_Size']])"
      ],
      "metadata": {
        "id": "2LlOO5E89QD9"
      },
      "execution_count": 48,
      "outputs": []
    },
    {
      "cell_type": "code",
      "source": [
        "y_train['calories_per_gram'] = scaler.fit_transform(y_train[['calories_per_gram']])\n",
        "y_test['calories_per_gram'] = scaler.transform(y_test[['calories_per_gram']])"
      ],
      "metadata": {
        "id": "pMd5nZAzDAcW"
      },
      "execution_count": 49,
      "outputs": []
    },
    {
      "cell_type": "markdown",
      "source": [
        "## Model Fitting and Evaluation\n",
        "Assumptions:\n",
        "* Key terms like \"Diet\" will be the most important feature\n",
        "* Index of common ingredients like \"Sugar\", \"Oil\", \"Corn Syrup\", etc will be highly useful also.\n",
        "* The model will likely not be extremely powerful, at least on the first attempt: this is a challenging problem that requires a lot of careful feature engineering. I would expect 70% accuracy on low-fat prediction and ~200 calorie error on calorie regression."
      ],
      "metadata": {
        "id": "GpuAG8H3J4ee"
      }
    },
    {
      "cell_type": "markdown",
      "source": [
        "### ML Pipeline\n",
        "#### Classification Model: Low Fat Products"
      ],
      "metadata": {
        "id": "JXKRFwSy_U-J"
      }
    },
    {
      "cell_type": "code",
      "source": [
        "from sklearn.ensemble import RandomForestClassifier\n",
        "model = RandomForestClassifier(max_depth=10, random_state=0)\n",
        "model.fit(X_train, y_train.low_fat.astype(bool))"
      ],
      "metadata": {
        "id": "ng705-OEJ4zJ",
        "outputId": "c7c3f788-699b-429a-f2bd-b6c8eb72e591",
        "colab": {
          "base_uri": "https://localhost:8080/"
        }
      },
      "execution_count": 50,
      "outputs": [
        {
          "output_type": "execute_result",
          "data": {
            "text/plain": [
              "RandomForestClassifier(max_depth=10, random_state=0)"
            ]
          },
          "metadata": {},
          "execution_count": 50
        }
      ]
    },
    {
      "cell_type": "code",
      "source": [
        "y_pred = model.predict(X_test)\n",
        "y_true = y_test.low_fat.astype(bool)"
      ],
      "metadata": {
        "id": "DHQQl2VGL3S2"
      },
      "execution_count": 51,
      "outputs": []
    },
    {
      "cell_type": "code",
      "source": [
        "from sklearn.metrics import accuracy_score, f1_score, recall_score, precision_score\n",
        "acc = accuracy_score(y_true, y_pred)\n",
        "print(f'Classification Model Results: {round(acc*100, 2)}% Accuracy')\n",
        "print('F1 score:', f1_score(y_true, y_pred))\n",
        "print('Recall:', recall_score(y_true, y_pred))\n",
        "print('Precision:', precision_score(y_true, y_pred))"
      ],
      "metadata": {
        "id": "tt3s7a5TL7c0",
        "outputId": "bb5331cd-9777-4402-8082-abe499048901",
        "colab": {
          "base_uri": "https://localhost:8080/"
        }
      },
      "execution_count": 52,
      "outputs": [
        {
          "output_type": "stream",
          "name": "stdout",
          "text": [
            "Classification Model Results: 78.95% Accuracy\n",
            "F1 score: 0.7210623985154256\n",
            "Recall: 0.61463173504696\n",
            "Precision: 0.8720718193294992\n"
          ]
        }
      ]
    },
    {
      "cell_type": "code",
      "source": [
        "from sklearn.metrics import confusion_matrix, ConfusionMatrixDisplay\n",
        "cm = confusion_matrix(y_true, y_pred, labels=model.classes_)\n",
        "disp = ConfusionMatrixDisplay(confusion_matrix=cm, display_labels=model.classes_)\n",
        "disp.plot()"
      ],
      "metadata": {
        "id": "uIIufQW8AlSe",
        "outputId": "9eefe15e-6c85-41ec-bd96-2ce9200d34e3",
        "colab": {
          "base_uri": "https://localhost:8080/",
          "height": 297
        }
      },
      "execution_count": 53,
      "outputs": [
        {
          "output_type": "execute_result",
          "data": {
            "text/plain": [
              "<sklearn.metrics._plot.confusion_matrix.ConfusionMatrixDisplay at 0x7f21afea1ee0>"
            ]
          },
          "metadata": {},
          "execution_count": 53
        },
        {
          "output_type": "display_data",
          "data": {
            "text/plain": [
              "<Figure size 432x288 with 2 Axes>"
            ],
            "image/png": "[encoded data removed]"
          },
          "metadata": {
            "needs_background": "light"
          }
        }
      ]
    },
    {
      "cell_type": "code",
      "source": [
        "from sklearn.metrics import RocCurveDisplay\n",
        "RocCurveDisplay.from_estimator(model, X_test, y_test.low_fat.astype(bool))"
      ],
      "metadata": {
        "id": "IUlU3ZRBACwc",
        "outputId": "7927c0a8-523d-4389-cfde-530895c125f4",
        "colab": {
          "base_uri": "https://localhost:8080/",
          "height": 296
        }
      },
      "execution_count": 54,
      "outputs": [
        {
          "output_type": "execute_result",
          "data": {
            "text/plain": [
              "<sklearn.metrics._plot.roc_curve.RocCurveDisplay at 0x7f21b49e1c40>"
            ]
          },
          "metadata": {},
          "execution_count": 54
        },
        {
          "output_type": "display_data",
          "data": {
            "text/plain": [
              "<Figure size 432x288 with 1 Axes>"
            ],
            "image/png": "[encoded data removed]"
          },
          "metadata": {
            "needs_background": "light"
          }
        }
      ]
    },
    {
      "cell_type": "markdown",
      "source": [
        "The classification model outperforms my expectations, with a reasonable (0.9) AUC and 78.98% accuracy. The biggest issue is a relatively large number of false negatives: perhaps better feature engineering will help identify additional factors that help define a low fat product."
      ],
      "metadata": {
        "id": "fb9OsTWnBzoR"
      }
    },
    {
      "cell_type": "markdown",
      "source": [
        "#### Regression Model: Calories per Gram"
      ],
      "metadata": {
        "id": "FqHjR29d_YfY"
      }
    },
    {
      "cell_type": "code",
      "source": [
        "from sklearn.ensemble import RandomForestRegressor\n",
        "model = RandomForestRegressor(max_depth=4, random_state=0)\n",
        "model.fit(X_train, y_train.calories_per_gram.astype(float))"
      ],
      "metadata": {
        "id": "uBiPr8fuOrNf",
        "outputId": "2cb0b3ec-1fd9-4627-ab1a-1bbc1a5da86f",
        "colab": {
          "base_uri": "https://localhost:8080/"
        }
      },
      "execution_count": 55,
      "outputs": [
        {
          "output_type": "execute_result",
          "data": {
            "text/plain": [
              "RandomForestRegressor(max_depth=4, random_state=0)"
            ]
          },
          "metadata": {},
          "execution_count": 55
        }
      ]
    },
    {
      "cell_type": "code",
      "source": [
        "y_pred = model.predict(X_test)\n",
        "y_true = y_test.calories_per_gram.astype(float)"
      ],
      "metadata": {
        "id": "XIztRvmrPAuw"
      },
      "execution_count": 56,
      "outputs": []
    },
    {
      "cell_type": "code",
      "source": [
        "from sklearn.metrics import mean_absolute_error\n",
        "print(f'Average error: {mean_absolute_error(y_true, y_pred)} calories per gram')"
      ],
      "metadata": {
        "id": "G9g1OXkAO8X_",
        "outputId": "6c950c17-2672-4b10-beed-4f3fbf04e4ac",
        "colab": {
          "base_uri": "https://localhost:8080/"
        }
      },
      "execution_count": 57,
      "outputs": [
        {
          "output_type": "stream",
          "name": "stdout",
          "text": [
            "Average error: 0.4966428100883326 calories per gram\n"
          ]
        }
      ]
    },
    {
      "cell_type": "markdown",
      "source": [
        "The current model seems to simply fit to the mean of the training set to minimize loss and doesn't really capture useful signal"
      ],
      "metadata": {
        "id": "uKsi0eXhCkQA"
      }
    },
    {
      "cell_type": "code",
      "source": [
        "# Manually inspect results\n",
        "pd.DataFrame({'Actual': y_true, 'Predicted': y_pred}).sample(10)"
      ],
      "metadata": {
        "id": "qD8VVXD7POIP",
        "outputId": "3a7569c0-8c59-4eac-a5e8-710d31a7679a",
        "colab": {
          "base_uri": "https://localhost:8080/",
          "height": 363
        }
      },
      "execution_count": 58,
      "outputs": [
        {
          "output_type": "execute_result",
          "data": {
            "text/plain": [
              "          Actual  Predicted\n",
              "129509  0.691961   0.579774\n",
              "133368  0.012375  -0.590380\n",
              "69644   1.592808   0.579774\n",
              "130050 -1.120269  -0.539096\n",
              "221004  0.612939   0.579774\n",
              "88070  -1.415284  -0.938635\n",
              "36843   0.407483   0.579774\n",
              "59608  -1.151878  -1.161895\n",
              "124699 -1.088661   0.579774\n",
              "187110  0.112469  -0.877616"
            ],
            "text/html": [
              "\n",
              "  <div id=\"df-d9225ca8-acde-4bd3-9919-068880fa061e\">\n",
              "    <div class=\"colab-df-container\">\n",
              "      <div>\n",
              "<style scoped>\n",
              "    .dataframe tbody tr th:only-of-type {\n",
              "        vertical-align: middle;\n",
              "    }\n",
              "\n",
              "    .dataframe tbody tr th {\n",
              "        vertical-align: top;\n",
              "    }\n",
              "\n",
              "    .dataframe thead th {\n",
              "        text-align: right;\n",
              "    }\n",
              "</style>\n",
              "<table border=\"1\" class=\"dataframe\">\n",
              "  <thead>\n",
              "    <tr style=\"text-align: right;\">\n",
              "      <th></th>\n",
              "      <th>Actual</th>\n",
              "      <th>Predicted</th>\n",
              "    </tr>\n",
              "  </thead>\n",
              "  <tbody>\n",
              "    <tr>\n",
              "      <th>129509</th>\n",
              "      <td>0.691961</td>\n",
              "      <td>0.579774</td>\n",
              "    </tr>\n",
              "    <tr>\n",
              "      <th>133368</th>\n",
              "      <td>0.012375</td>\n",
              "      <td>-0.590380</td>\n",
              "    </tr>\n",
              "    <tr>\n",
              "      <th>69644</th>\n",
              "      <td>1.592808</td>\n",
              "      <td>0.579774</td>\n",
              "    </tr>\n",
              "    <tr>\n",
              "      <th>130050</th>\n",
              "      <td>-1.120269</td>\n",
              "      <td>-0.539096</td>\n",
              "    </tr>\n",
              "    <tr>\n",
              "      <th>221004</th>\n",
              "      <td>0.612939</td>\n",
              "      <td>0.579774</td>\n",
              "    </tr>\n",
              "    <tr>\n",
              "      <th>88070</th>\n",
              "      <td>-1.415284</td>\n",
              "      <td>-0.938635</td>\n",
              "    </tr>\n",
              "    <tr>\n",
              "      <th>36843</th>\n",
              "      <td>0.407483</td>\n",
              "      <td>0.579774</td>\n",
              "    </tr>\n",
              "    <tr>\n",
              "      <th>59608</th>\n",
              "      <td>-1.151878</td>\n",
              "      <td>-1.161895</td>\n",
              "    </tr>\n",
              "    <tr>\n",
              "      <th>124699</th>\n",
              "      <td>-1.088661</td>\n",
              "      <td>0.579774</td>\n",
              "    </tr>\n",
              "    <tr>\n",
              "      <th>187110</th>\n",
              "      <td>0.112469</td>\n",
              "      <td>-0.877616</td>\n",
              "    </tr>\n",
              "  </tbody>\n",
              "</table>\n",
              "</div>\n",
              "      <button class=\"colab-df-convert\" onclick=\"convertToInteractive('df-d9225ca8-acde-4bd3-9919-068880fa061e')\"\n",
              "              title=\"Convert this dataframe to an interactive table.\"\n",
              "              style=\"display:none;\">\n",
              "        \n",
              "  <svg xmlns=\"http://www.w3.org/2000/svg\" height=\"24px\"viewBox=\"0 0 24 24\"\n",
              "       width=\"24px\">\n",
              "    <path d=\"M0 0h24v24H0V0z\" fill=\"none\"/>\n",
              "    <path d=\"M18.56 5.44l.94 2.06.94-2.06 2.06-.94-2.06-.94-.94-2.06-.94 2.06-2.06.94zm-11 1L8.5 8.5l.94-2.06 2.06-.94-2.06-.94L8.5 2.5l-.94 2.06-2.06.94zm10 10l.94 2.06.94-2.06 2.06-.94-2.06-.94-.94-2.06-.94 2.06-2.06.94z\"/><path d=\"M17.41 7.96l-1.37-1.37c-.4-.4-.92-.59-1.43-.59-.52 0-1.04.2-1.43.59L10.3 9.45l-7.72 7.72c-.78.78-.78 2.05 0 2.83L4 21.41c.39.39.9.59 1.41.59.51 0 1.02-.2 1.41-.59l7.78-7.78 2.81-2.81c.8-.78.8-2.07 0-2.86zM5.41 20L4 18.59l7.72-7.72 1.47 1.35L5.41 20z\"/>\n",
              "  </svg>\n",
              "      </button>\n",
              "      \n",
              "  <style>\n",
              "    .colab-df-container {\n",
              "      display:flex;\n",
              "      flex-wrap:wrap;\n",
              "      gap: 12px;\n",
              "    }\n",
              "\n",
              "    .colab-df-convert {\n",
              "      background-color: #E8F0FE;\n",
              "      border: none;\n",
              "      border-radius: 50%;\n",
              "      cursor: pointer;\n",
              "      display: none;\n",
              "      fill: #1967D2;\n",
              "      height: 32px;\n",
              "      padding: 0 0 0 0;\n",
              "      width: 32px;\n",
              "    }\n",
              "\n",
              "    .colab-df-convert:hover {\n",
              "      background-color: #E2EBFA;\n",
              "      box-shadow: 0px 1px 2px rgba(60, 64, 67, 0.3), 0px 1px 3px 1px rgba(60, 64, 67, 0.15);\n",
              "      fill: #174EA6;\n",
              "    }\n",
              "\n",
              "    [theme=dark] .colab-df-convert {\n",
              "      background-color: #3B4455;\n",
              "      fill: #D2E3FC;\n",
              "    }\n",
              "\n",
              "    [theme=dark] .colab-df-convert:hover {\n",
              "      background-color: #434B5C;\n",
              "      box-shadow: 0px 1px 3px 1px rgba(0, 0, 0, 0.15);\n",
              "      filter: drop-shadow(0px 1px 2px rgba(0, 0, 0, 0.3));\n",
              "      fill: #FFFFFF;\n",
              "    }\n",
              "  </style>\n",
              "\n",
              "      <script>\n",
              "        const buttonEl =\n",
              "          document.querySelector('#df-d9225ca8-acde-4bd3-9919-068880fa061e button.colab-df-convert');\n",
              "        buttonEl.style.display =\n",
              "          google.colab.kernel.accessAllowed ? 'block' : 'none';\n",
              "\n",
              "        async function convertToInteractive(key) {\n",
              "          const element = document.querySelector('#df-d9225ca8-acde-4bd3-9919-068880fa061e');\n",
              "          const dataTable =\n",
              "            await google.colab.kernel.invokeFunction('convertToInteractive',\n",
              "                                                     [key], {});\n",
              "          if (!dataTable) return;\n",
              "\n",
              "          const docLinkHtml = 'Like what you see? Visit the ' +\n",
              "            '<a target=\"_blank\" href=https://colab.research.google.com/notebooks/data_table.ipynb>data table notebook</a>'\n",
              "            + ' to learn more about interactive tables.';\n",
              "          element.innerHTML = '';\n",
              "          dataTable['output_type'] = 'display_data';\n",
              "          await google.colab.output.renderOutput(dataTable, element);\n",
              "          const docLink = document.createElement('div');\n",
              "          docLink.innerHTML = docLinkHtml;\n",
              "          element.appendChild(docLink);\n",
              "        }\n",
              "      </script>\n",
              "    </div>\n",
              "  </div>\n",
              "  "
            ]
          },
          "metadata": {},
          "execution_count": 58
        }
      ]
    },
    {
      "cell_type": "markdown",
      "source": [
        "Generally, the model seems to just predict the mean. Usually it will go higher or lower when appropriate, but it usually over or undershoots."
      ],
      "metadata": {
        "id": "S0LIKclwCr5n"
      }
    },
    {
      "cell_type": "code",
      "source": [
        "import numpy as np\n",
        "plt.scatter(y_true, y_pred)\n",
        "plt.xlabel(\"Actual\")\n",
        "plt.ylabel(\"Predicted\")\n",
        "identity = np.linspace(-2, 2, 10)\n",
        "plt.plot(identity, identity)"
      ],
      "metadata": {
        "id": "1P-xWit0-5jP",
        "outputId": "3493039f-4466-4bbb-df00-88a733cf9d39",
        "colab": {
          "base_uri": "https://localhost:8080/",
          "height": 296
        }
      },
      "execution_count": 59,
      "outputs": [
        {
          "output_type": "execute_result",
          "data": {
            "text/plain": [
              "[<matplotlib.lines.Line2D at 0x7f21b03312b0>]"
            ]
          },
          "metadata": {},
          "execution_count": 59
        },
        {
          "output_type": "display_data",
          "data": {
            "text/plain": [
              "<Figure size 432x288 with 1 Axes>"
            ],
            "image/png": "[encoded data removed]"
          },
          "metadata": {
            "needs_background": "light"
          }
        }
      ]
    },
    {
      "cell_type": "markdown",
      "source": [
        "It's clear from this graphic that we're nowhere close to the identity line of perfect regression. Additionally, the model itself (random forest regressor) may just be a bad choice, since it buckets answers into one of a few different possible outputs, which don't capture nearly the whole range of outputs."
      ],
      "metadata": {
        "id": "KSmP20KPCyXv"
      }
    }
  ]
}