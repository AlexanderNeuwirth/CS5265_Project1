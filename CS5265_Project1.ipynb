{
  "nbformat": 4,
  "nbformat_minor": 0,
  "metadata": {
    "colab": {
      "provenance": [],
      "include_colab_link": true
    },
    "kernelspec": {
      "name": "python3",
      "display_name": "Python 3"
    },
    "language_info": {
      "name": "python"
    }
  },
  "cells": [
    {
      "cell_type": "markdown",
      "metadata": {
        "id": "view-in-github",
        "colab_type": "text"
      },
      "source": [
        "<a href=\"https://colab.research.google.com/github/AlexanderNeuwirth/CS5265_Project1/blob/main/CS5265_Project1.ipynb\" target=\"_parent\"><img src=\"https://colab.research.google.com/assets/colab-badge.svg\" alt=\"Open In Colab\"/></a>"
      ]
    },
    {
      "cell_type": "markdown",
      "source": [
        "# Project 1 Definition\n",
        "Created for CS5265 at Vanderbilt University\n",
        "\n",
        "## Background\n",
        "\n",
        "How much can be inferred about a product's nutritional attributes from what you can easily see on the product listing?\n",
        "\n",
        "In other words, can you predict nutritional factors from brand, serving size, key words in the product title, and common ingredients?\n",
        "\n",
        "This type of problem is of particular interest in a healthcare setting, where understanding a product in context of its nutritional components is necessary to make food purchasing decisions that are safe for specific medical needs. I often use similar data in my day-to-day work on healthcare procurement systems. It's interesting and potentially useful to explore possible relationships between different products, ingredients, and brands, and their corresponding nutritional features.\n",
        "\n",
        "Due to wide available of government datasets and recipe sites with easily scraped online datasets, a fair amount of work has been done in this area. \n",
        "\n",
        "Random forest has been successfully applied to [predict processed vs unprocessed food](https://www.medrxiv.org/content/10.1101/2021.05.22.21257615v2.full), primarily from ingredient lists.\n",
        "\n",
        "In Norway, large amounts of missing data in government databases led at least one group to attempt nutrition extraction [purely from natural language product descriptions](https://static1.squarespace.com/static/606f36b890215d7048ddaac0/t/62ed22f1ad65d913278ca3cb/1659708147387/PREDICTING+A+FOOD+PRODUCT%E2%80%99S+MISSING+NUTRITIONAL+VALUES+USING+MACHINE+LEARNING.pdf). Their method suffers in cases with poor quality descriptions, and has no mechanism to weight by token importance, but outperforms simple imputation methods.\n",
        "\n",
        "Even nutrition prediction from raw images has seen [some success](https://arxiv.org/pdf/2011.01082.pdf?from=article_link), with confirmation by at least one [subsquent review experiment](https://www.ncbi.nlm.nih.gov/pmc/articles/PMC8787663/) that prepared new samples with known nutrition details.\n",
        "\n",
        "No published method seems to approach this problem using simple feature engineering on the description and ingredient list, seeking to predict nutrient attributes. That is the gap I seek to investigate in this work.\n",
        "\n",
        "## Project Description\n",
        "\n",
        "This project will attempt to perform binary classification on whether products meet a \"low fat\" dietary classification using only those higher-level features like brand, serving size, key words in the product title, and common ingredients.\n",
        "\n",
        "This project uses the [USDA Branded Food Products Dataset](https://data.nal.usda.gov/dataset/usda-branded-food-products-database). This data contains detailed ingredient listings, serving amounts, and nutrient quantities for about 250,000 branded and private-label food products sold in the United States. All entries are laboratory results with thorough human review and are held to high data quality standards by law, as the precise values inform many clinical and regulatory policy enforcement.\n",
        "\n",
        "Some raw data fields include:\n",
        "* **Product Title**: A text description\n",
        "* **Serving Size**: Continuous-valued numerical usage quantity (normalized to either grams or milliliters)\n",
        "* **Nutritionals**: Continuous-valued numerical nutrient quantities (by weight)\n",
        "* **Ingredients**: A comma-separated list of ingredients (as strings)\n",
        "\n",
        "Some easily derived processed data fields could include:\n",
        "* **Total Calories**: by summing simple benchmark multipliers of carbs, proteins, and fats\n",
        "* **Low Fat**: by thresholding fat total against the conventional threshold of 3 grams per serving\n",
        "* **Binary \"Contains Ingredient\" Features**: by filtering on the presence of common ingredient strings in the string ingredient column\n",
        "\n",
        "If successful in this task and similar binary classification tasks of interest, it may be appropriate to attempt regression on more complex target variables (like calorie count, grams of fat, or grams of fiber).\n",
        "\n",
        "Example Input Features:\n",
        "* Serving size (continuous)\n",
        "* Brand (categorical)\n",
        "* Key terms extracted from description (e.g. \"Healthy\", \"Diet\", \"Organic\") (binary)\n",
        "* Presence of specific ingredient terms, extracted from ingredient list (e.g. \"Butter\", \"Corn Syrup\", \"Sugar\"\n",
        "\n",
        "Example Output Features:\n",
        "* Low-Fat (binary classification)\n",
        "* *(Aspirational)* Calorie count (integer regression)\n",
        "\n",
        "## Performance Metric\n",
        "For the initial goal of binary low-fat classification, an appropriate performance metric is simple percent accuracy.\n",
        "If accuracy is low, precision and recall will be useful metrics to determine any bias in the error. If classes are heavily unbalanced (e.g. there are relatively few low-fat products) it may be appropriate to use an accuracy metric that reflects both precision and recall, like F1 score.\n",
        "\n",
        "Mathematical formulations of all of the above metrics are provided below, where T and F stand for \"True\" and \"False\", and P and N stand for \"Positive\" and \"Negative.\"\n",
        "\n",
        "$$Accuracy = \\frac{TP+TN}{TP+TN+FP+FN}$$\n",
        "$$Precision = \\frac{TP}{TP+FP}$$\n",
        "$$Recall = \\frac{TP}{TP+FN}$$\n",
        "$$F1 = \\frac{2*Precision*Recall}{Precision+Recall} = \\frac{2*TP}{2*TP+FP+FN}$$\n",
        "\n",
        "\n",
        "For the stretch goal of calorie count regression, an appropriate performance metric may be mean squared error (MAE). (Given below where x is the actual value, y is the predicted value, and D is the number of data points being evaluated.)\n",
        "\n",
        "$$\\sum_{i=1}^{D}|x_i-y_i|$$\n",
        "\n",
        "This would be easily interpretable as how far off the model's predictions are from the actual number of calories (as opposed to mean squared error, which would be less readily interpretable.)"
      ],
      "metadata": {
        "id": "TlkqA71qz-NG"
      }
    },
    {
      "cell_type": "markdown",
      "source": [
        "## Basic EDA\n",
        "Key questions:\n",
        "\n",
        "1. Are full macronutrient details available for each product in the data? If not, what % of coverage do we have?\n",
        "2. Are units standardized for both servings and ingredients? If not, how difficult will standardization be?\n",
        "3. How much diversity of manufacturer/brand types exists in the data? Including count, frequent terms, and general recognizability of names in a random sample.\n",
        "4. What range of serving sizes exists in the data? What are the extreme outliers?"
      ],
      "metadata": {
        "id": "MTHed3vQMZ-c"
      }
    },
    {
      "cell_type": "markdown",
      "source": [
        "### Google Drive Connection"
      ],
      "metadata": {
        "id": "y1nnQ2D4uVSZ"
      }
    },
    {
      "cell_type": "code",
      "source": [
        "from google.colab import drive\n",
        "drive.mount('/content/drive')\n",
        "!ls drive/MyDrive/food_nutrition_data/"
      ],
      "metadata": {
        "id": "Pq8bxRt4tIO3",
        "outputId": "5d0949bb-c29b-4182-f1f1-dcb1b66d2176",
        "colab": {
          "base_uri": "https://localhost:8080/"
        }
      },
      "execution_count": 11,
      "outputs": [
        {
          "output_type": "stream",
          "name": "stdout",
          "text": [
            "Drive already mounted at /content/drive; to attempt to forcibly remount, call drive.mount(\"/content/drive\", force_remount=True).\n",
            "BFPD_Doc.pdf\t\t\t Nutrients.csv\tServing_size.csv\n",
            "Derivation_Code_Description.csv  Products.csv\n"
          ]
        }
      ]
    },
    {
      "cell_type": "markdown",
      "source": [
        "### Data Loading"
      ],
      "metadata": {
        "id": "BZNJGik5uYhE"
      }
    },
    {
      "cell_type": "code",
      "source": [
        "import pandas as pd\n",
        "\n",
        "products_df = pd.read_csv(\"drive/MyDrive/food_nutrition_data/Products.csv\")\n",
        "nutrients_df = pd.read_csv(\"drive/MyDrive/food_nutrition_data/Nutrients.csv\")\n",
        "servings_df = pd.read_csv(\"drive/MyDrive/food_nutrition_data/Serving_size.csv\")"
      ],
      "metadata": {
        "id": "vzGTLGkXt-3Z",
        "outputId": "82489d41-46af-4776-bd4a-72e4c0d94a22",
        "colab": {
          "base_uri": "https://localhost:8080/"
        }
      },
      "execution_count": 124,
      "outputs": [
        {
          "output_type": "stream",
          "name": "stderr",
          "text": [
            "/usr/local/lib/python3.8/dist-packages/IPython/core/interactiveshell.py:3326: DtypeWarning: Columns (3) have mixed types.Specify dtype option on import or set low_memory=False.\n",
            "  exec(code_obj, self.user_global_ns, self.user_ns)\n"
          ]
        }
      ]
    },
    {
      "cell_type": "markdown",
      "source": [
        "### Nutrient Joining"
      ],
      "metadata": {
        "id": "RY4AB_7avqVG"
      }
    },
    {
      "cell_type": "code",
      "source": [
        "coverage = products_df.NDB_Number.isin(nutrients_df.NDB_No).value_counts()\n",
        "print(f\"{round(coverage[1]*100/coverage.sum(), 2)}% of products have some nutrient info\")"
      ],
      "metadata": {
        "id": "VJGumpGIu3sj",
        "outputId": "990ba418-882d-45ba-f6ef-e3da9d3b0853",
        "colab": {
          "base_uri": "https://localhost:8080/"
        }
      },
      "execution_count": 125,
      "outputs": [
        {
          "output_type": "stream",
          "name": "stdout",
          "text": [
            "99.48% of products have some nutrient info\n"
          ]
        }
      ]
    },
    {
      "cell_type": "code",
      "source": [
        "# Verify that each nutrient code corresponds to a unique name\n",
        "print(nutrients_df.groupby(\"Nutrient_Code\").Nutrient_name.nunique().value_counts())"
      ],
      "metadata": {
        "id": "U9hkMYpmwm2H",
        "outputId": "81fa97cd-c279-489e-a41f-7756f7a96d9f",
        "colab": {
          "base_uri": "https://localhost:8080/"
        }
      },
      "execution_count": 126,
      "outputs": [
        {
          "output_type": "stream",
          "name": "stdout",
          "text": [
            "1    95\n",
            "Name: Nutrient_name, dtype: int64\n"
          ]
        }
      ]
    },
    {
      "cell_type": "code",
      "source": [
        "# Find nutrients that appear at least ~10% of the time\n",
        "occurence_counts = nutrients_df.Nutrient_name.value_counts()\n",
        "occurence_counts[(occurence_counts > nutrients_df.NDB_No.nunique() * 0.1)]"
      ],
      "metadata": {
        "id": "Vm6QTINvyQHj",
        "outputId": "1c1b82f8-876c-4486-e6a2-6fdcb1a486e2",
        "colab": {
          "base_uri": "https://localhost:8080/"
        }
      },
      "execution_count": 127,
      "outputs": [
        {
          "output_type": "execute_result",
          "data": {
            "text/plain": [
              "Carbohydrate, by difference           237635\n",
              "Total lipid (fat)                     237559\n",
              "Protein                               237432\n",
              "Sodium, Na                            236887\n",
              "Energy                                228500\n",
              "Sugars, total                         223394\n",
              "Fatty acids, total saturated          205694\n",
              "Cholesterol                           202966\n",
              "Fiber, total dietary                  198171\n",
              "Iron, Fe                              196981\n",
              "Calcium, Ca                           196065\n",
              "Fatty acids, total trans              194801\n",
              "Vitamin C, total ascorbic acid        178809\n",
              "Vitamin A, IU                         174501\n",
              "Potassium, K                           53337\n",
              "Fatty acids, total monounsaturated     33822\n",
              "Fatty acids, total polyunsaturated     33799\n",
              "Vitamin D                              27668\n",
              "Name: Nutrient_name, dtype: int64"
            ]
          },
          "metadata": {},
          "execution_count": 127
        }
      ]
    },
    {
      "cell_type": "code",
      "source": [
        "# Drop nutrients that don't occur that often. These seem to be manually entered, and many apply to only a handful of products\n",
        "nutrients_to_drop = occurence_counts[(occurence_counts < len(nutrients_pivot) * 0.1)].index\n",
        "nutrients_df = nutrients_df[~nutrients_df.Nutrient_name.isin(nutrients_to_drop)]"
      ],
      "metadata": {
        "id": "c18ySKQH0AR9"
      },
      "execution_count": 128,
      "outputs": []
    },
    {
      "cell_type": "code",
      "source": [
        "# Verify that we don't really need to normalize output UOMs since they are consistent for a given nutrient (no mixing mg and g)\n",
        "print(f\"Maximium unique units of measure per nutrient: {nutrients_df.groupby('Nutrient_name').Output_uom.nunique().max()}\")"
      ],
      "metadata": {
        "id": "UuLAFSMj1ltO",
        "outputId": "d4b7c0bb-4048-44d6-8156-6d81058e950f",
        "colab": {
          "base_uri": "https://localhost:8080/"
        }
      },
      "execution_count": 129,
      "outputs": [
        {
          "output_type": "stream",
          "name": "stdout",
          "text": [
            "Maximium unique units of measure per nutrient: 1\n"
          ]
        }
      ]
    },
    {
      "cell_type": "code",
      "source": [
        "# Roll up nutrients df of product-nutrient pairs into nutrient feature columns\n",
        "nutrients_pivot = nutrients_df.pivot_table(values='Output_value', index=nutrients_df['NDB_No'], columns='Nutrient_name', aggfunc='first')\n",
        "nutrients_pivot.head()"
      ],
      "metadata": {
        "id": "kQkteWEcxzLu",
        "outputId": "22a0b564-be39-4de2-ab59-532bd0c91efb",
        "colab": {
          "base_uri": "https://localhost:8080/",
          "height": 354
        }
      },
      "execution_count": 130,
      "outputs": [
        {
          "output_type": "execute_result",
          "data": {
            "text/plain": [
              "Nutrient_name  Calcium, Ca  Carbohydrate, by difference  Cholesterol  Energy  \\\n",
              "NDB_No                                                                         \n",
              "45001524              50.0                        35.00         25.0   200.0   \n",
              "45001528               0.0                        43.24          0.0   162.0   \n",
              "45001529               0.0                        41.18          0.0   176.0   \n",
              "45001530               0.0                        34.29          0.0   143.0   \n",
              "45001531               0.0                        45.95          0.0   189.0   \n",
              "\n",
              "Nutrient_name  Fatty acids, total monounsaturated  \\\n",
              "NDB_No                                              \n",
              "45001524                                      NaN   \n",
              "45001528                                      NaN   \n",
              "45001529                                      NaN   \n",
              "45001530                                      NaN   \n",
              "45001531                                      NaN   \n",
              "\n",
              "Nutrient_name  Fatty acids, total polyunsaturated  \\\n",
              "NDB_No                                              \n",
              "45001524                                      NaN   \n",
              "45001528                                      NaN   \n",
              "45001529                                      NaN   \n",
              "45001530                                      NaN   \n",
              "45001531                                      NaN   \n",
              "\n",
              "Nutrient_name  Fatty acids, total saturated  Fatty acids, total trans  \\\n",
              "NDB_No                                                                  \n",
              "45001524                               3.75                       0.0   \n",
              "45001528                               0.00                       0.0   \n",
              "45001529                               0.00                       0.0   \n",
              "45001530                               0.00                       0.0   \n",
              "45001531                               0.00                       0.0   \n",
              "\n",
              "Nutrient_name  Fiber, total dietary  Iron, Fe  Potassium, K  Protein  \\\n",
              "NDB_No                                                                 \n",
              "45001524                        0.0       0.0           NaN      2.5   \n",
              "45001528                        0.0       0.0           NaN      0.0   \n",
              "45001529                        0.0       0.0           NaN      0.0   \n",
              "45001530                        0.0       0.0           NaN      0.0   \n",
              "45001531                        0.0       0.0           NaN      0.0   \n",
              "\n",
              "Nutrient_name  Sodium, Na  Sugars, total  Total lipid (fat)  Vitamin A, IU  \\\n",
              "NDB_No                                                                       \n",
              "45001524             75.0          30.00               6.25            0.0   \n",
              "45001528            703.0          37.84               0.00          270.0   \n",
              "45001529            676.0          35.29               0.00            0.0   \n",
              "45001530            971.0          28.57               0.00            0.0   \n",
              "45001531            757.0          43.24               0.00            0.0   \n",
              "\n",
              "Nutrient_name  Vitamin C, total ascorbic acid  Vitamin D  \n",
              "NDB_No                                                    \n",
              "45001524                                  3.0        NaN  \n",
              "45001528                                  9.7        NaN  \n",
              "45001529                                  0.0        NaN  \n",
              "45001530                                  0.0        NaN  \n",
              "45001531                                  0.0        NaN  "
            ],
            "text/html": [
              "\n",
              "  <div id=\"df-09c3a333-f70d-46c0-9cf2-3935f74802cb\">\n",
              "    <div class=\"colab-df-container\">\n",
              "      <div>\n",
              "<style scoped>\n",
              "    .dataframe tbody tr th:only-of-type {\n",
              "        vertical-align: middle;\n",
              "    }\n",
              "\n",
              "    .dataframe tbody tr th {\n",
              "        vertical-align: top;\n",
              "    }\n",
              "\n",
              "    .dataframe thead th {\n",
              "        text-align: right;\n",
              "    }\n",
              "</style>\n",
              "<table border=\"1\" class=\"dataframe\">\n",
              "  <thead>\n",
              "    <tr style=\"text-align: right;\">\n",
              "      <th>Nutrient_name</th>\n",
              "      <th>Calcium, Ca</th>\n",
              "      <th>Carbohydrate, by difference</th>\n",
              "      <th>Cholesterol</th>\n",
              "      <th>Energy</th>\n",
              "      <th>Fatty acids, total monounsaturated</th>\n",
              "      <th>Fatty acids, total polyunsaturated</th>\n",
              "      <th>Fatty acids, total saturated</th>\n",
              "      <th>Fatty acids, total trans</th>\n",
              "      <th>Fiber, total dietary</th>\n",
              "      <th>Iron, Fe</th>\n",
              "      <th>Potassium, K</th>\n",
              "      <th>Protein</th>\n",
              "      <th>Sodium, Na</th>\n",
              "      <th>Sugars, total</th>\n",
              "      <th>Total lipid (fat)</th>\n",
              "      <th>Vitamin A, IU</th>\n",
              "      <th>Vitamin C, total ascorbic acid</th>\n",
              "      <th>Vitamin D</th>\n",
              "    </tr>\n",
              "    <tr>\n",
              "      <th>NDB_No</th>\n",
              "      <th></th>\n",
              "      <th></th>\n",
              "      <th></th>\n",
              "      <th></th>\n",
              "      <th></th>\n",
              "      <th></th>\n",
              "      <th></th>\n",
              "      <th></th>\n",
              "      <th></th>\n",
              "      <th></th>\n",
              "      <th></th>\n",
              "      <th></th>\n",
              "      <th></th>\n",
              "      <th></th>\n",
              "      <th></th>\n",
              "      <th></th>\n",
              "      <th></th>\n",
              "      <th></th>\n",
              "    </tr>\n",
              "  </thead>\n",
              "  <tbody>\n",
              "    <tr>\n",
              "      <th>45001524</th>\n",
              "      <td>50.0</td>\n",
              "      <td>35.00</td>\n",
              "      <td>25.0</td>\n",
              "      <td>200.0</td>\n",
              "      <td>NaN</td>\n",
              "      <td>NaN</td>\n",
              "      <td>3.75</td>\n",
              "      <td>0.0</td>\n",
              "      <td>0.0</td>\n",
              "      <td>0.0</td>\n",
              "      <td>NaN</td>\n",
              "      <td>2.5</td>\n",
              "      <td>75.0</td>\n",
              "      <td>30.00</td>\n",
              "      <td>6.25</td>\n",
              "      <td>0.0</td>\n",
              "      <td>3.0</td>\n",
              "      <td>NaN</td>\n",
              "    </tr>\n",
              "    <tr>\n",
              "      <th>45001528</th>\n",
              "      <td>0.0</td>\n",
              "      <td>43.24</td>\n",
              "      <td>0.0</td>\n",
              "      <td>162.0</td>\n",
              "      <td>NaN</td>\n",
              "      <td>NaN</td>\n",
              "      <td>0.00</td>\n",
              "      <td>0.0</td>\n",
              "      <td>0.0</td>\n",
              "      <td>0.0</td>\n",
              "      <td>NaN</td>\n",
              "      <td>0.0</td>\n",
              "      <td>703.0</td>\n",
              "      <td>37.84</td>\n",
              "      <td>0.00</td>\n",
              "      <td>270.0</td>\n",
              "      <td>9.7</td>\n",
              "      <td>NaN</td>\n",
              "    </tr>\n",
              "    <tr>\n",
              "      <th>45001529</th>\n",
              "      <td>0.0</td>\n",
              "      <td>41.18</td>\n",
              "      <td>0.0</td>\n",
              "      <td>176.0</td>\n",
              "      <td>NaN</td>\n",
              "      <td>NaN</td>\n",
              "      <td>0.00</td>\n",
              "      <td>0.0</td>\n",
              "      <td>0.0</td>\n",
              "      <td>0.0</td>\n",
              "      <td>NaN</td>\n",
              "      <td>0.0</td>\n",
              "      <td>676.0</td>\n",
              "      <td>35.29</td>\n",
              "      <td>0.00</td>\n",
              "      <td>0.0</td>\n",
              "      <td>0.0</td>\n",
              "      <td>NaN</td>\n",
              "    </tr>\n",
              "    <tr>\n",
              "      <th>45001530</th>\n",
              "      <td>0.0</td>\n",
              "      <td>34.29</td>\n",
              "      <td>0.0</td>\n",
              "      <td>143.0</td>\n",
              "      <td>NaN</td>\n",
              "      <td>NaN</td>\n",
              "      <td>0.00</td>\n",
              "      <td>0.0</td>\n",
              "      <td>0.0</td>\n",
              "      <td>0.0</td>\n",
              "      <td>NaN</td>\n",
              "      <td>0.0</td>\n",
              "      <td>971.0</td>\n",
              "      <td>28.57</td>\n",
              "      <td>0.00</td>\n",
              "      <td>0.0</td>\n",
              "      <td>0.0</td>\n",
              "      <td>NaN</td>\n",
              "    </tr>\n",
              "    <tr>\n",
              "      <th>45001531</th>\n",
              "      <td>0.0</td>\n",
              "      <td>45.95</td>\n",
              "      <td>0.0</td>\n",
              "      <td>189.0</td>\n",
              "      <td>NaN</td>\n",
              "      <td>NaN</td>\n",
              "      <td>0.00</td>\n",
              "      <td>0.0</td>\n",
              "      <td>0.0</td>\n",
              "      <td>0.0</td>\n",
              "      <td>NaN</td>\n",
              "      <td>0.0</td>\n",
              "      <td>757.0</td>\n",
              "      <td>43.24</td>\n",
              "      <td>0.00</td>\n",
              "      <td>0.0</td>\n",
              "      <td>0.0</td>\n",
              "      <td>NaN</td>\n",
              "    </tr>\n",
              "  </tbody>\n",
              "</table>\n",
              "</div>\n",
              "      <button class=\"colab-df-convert\" onclick=\"convertToInteractive('df-09c3a333-f70d-46c0-9cf2-3935f74802cb')\"\n",
              "              title=\"Convert this dataframe to an interactive table.\"\n",
              "              style=\"display:none;\">\n",
              "        \n",
              "  <svg xmlns=\"http://www.w3.org/2000/svg\" height=\"24px\"viewBox=\"0 0 24 24\"\n",
              "       width=\"24px\">\n",
              "    <path d=\"M0 0h24v24H0V0z\" fill=\"none\"/>\n",
              "    <path d=\"M18.56 5.44l.94 2.06.94-2.06 2.06-.94-2.06-.94-.94-2.06-.94 2.06-2.06.94zm-11 1L8.5 8.5l.94-2.06 2.06-.94-2.06-.94L8.5 2.5l-.94 2.06-2.06.94zm10 10l.94 2.06.94-2.06 2.06-.94-2.06-.94-.94-2.06-.94 2.06-2.06.94z\"/><path d=\"M17.41 7.96l-1.37-1.37c-.4-.4-.92-.59-1.43-.59-.52 0-1.04.2-1.43.59L10.3 9.45l-7.72 7.72c-.78.78-.78 2.05 0 2.83L4 21.41c.39.39.9.59 1.41.59.51 0 1.02-.2 1.41-.59l7.78-7.78 2.81-2.81c.8-.78.8-2.07 0-2.86zM5.41 20L4 18.59l7.72-7.72 1.47 1.35L5.41 20z\"/>\n",
              "  </svg>\n",
              "      </button>\n",
              "      \n",
              "  <style>\n",
              "    .colab-df-container {\n",
              "      display:flex;\n",
              "      flex-wrap:wrap;\n",
              "      gap: 12px;\n",
              "    }\n",
              "\n",
              "    .colab-df-convert {\n",
              "      background-color: #E8F0FE;\n",
              "      border: none;\n",
              "      border-radius: 50%;\n",
              "      cursor: pointer;\n",
              "      display: none;\n",
              "      fill: #1967D2;\n",
              "      height: 32px;\n",
              "      padding: 0 0 0 0;\n",
              "      width: 32px;\n",
              "    }\n",
              "\n",
              "    .colab-df-convert:hover {\n",
              "      background-color: #E2EBFA;\n",
              "      box-shadow: 0px 1px 2px rgba(60, 64, 67, 0.3), 0px 1px 3px 1px rgba(60, 64, 67, 0.15);\n",
              "      fill: #174EA6;\n",
              "    }\n",
              "\n",
              "    [theme=dark] .colab-df-convert {\n",
              "      background-color: #3B4455;\n",
              "      fill: #D2E3FC;\n",
              "    }\n",
              "\n",
              "    [theme=dark] .colab-df-convert:hover {\n",
              "      background-color: #434B5C;\n",
              "      box-shadow: 0px 1px 3px 1px rgba(0, 0, 0, 0.15);\n",
              "      filter: drop-shadow(0px 1px 2px rgba(0, 0, 0, 0.3));\n",
              "      fill: #FFFFFF;\n",
              "    }\n",
              "  </style>\n",
              "\n",
              "      <script>\n",
              "        const buttonEl =\n",
              "          document.querySelector('#df-09c3a333-f70d-46c0-9cf2-3935f74802cb button.colab-df-convert');\n",
              "        buttonEl.style.display =\n",
              "          google.colab.kernel.accessAllowed ? 'block' : 'none';\n",
              "\n",
              "        async function convertToInteractive(key) {\n",
              "          const element = document.querySelector('#df-09c3a333-f70d-46c0-9cf2-3935f74802cb');\n",
              "          const dataTable =\n",
              "            await google.colab.kernel.invokeFunction('convertToInteractive',\n",
              "                                                     [key], {});\n",
              "          if (!dataTable) return;\n",
              "\n",
              "          const docLinkHtml = 'Like what you see? Visit the ' +\n",
              "            '<a target=\"_blank\" href=https://colab.research.google.com/notebooks/data_table.ipynb>data table notebook</a>'\n",
              "            + ' to learn more about interactive tables.';\n",
              "          element.innerHTML = '';\n",
              "          dataTable['output_type'] = 'display_data';\n",
              "          await google.colab.output.renderOutput(dataTable, element);\n",
              "          const docLink = document.createElement('div');\n",
              "          docLink.innerHTML = docLinkHtml;\n",
              "          element.appendChild(docLink);\n",
              "        }\n",
              "      </script>\n",
              "    </div>\n",
              "  </div>\n",
              "  "
            ]
          },
          "metadata": {},
          "execution_count": 130
        }
      ]
    },
    {
      "cell_type": "code",
      "source": [
        "# Merge nutrient columns to original product data\n",
        "df = pd.merge(products_df, nutrients_pivot, left_on=\"NDB_Number\", right_on=\"NDB_No\", how=\"left\")"
      ],
      "metadata": {
        "id": "CvRh2bGV2xCf"
      },
      "execution_count": 131,
      "outputs": []
    },
    {
      "cell_type": "code",
      "source": [
        "df[\"Total lipid (fat)\"].isna().sum()"
      ],
      "metadata": {
        "id": "7FkJZqd8x_3S",
        "outputId": "8d95b0a8-d76c-46a8-d729-1ed83d87e0ac",
        "colab": {
          "base_uri": "https://localhost:8080/"
        }
      },
      "execution_count": 133,
      "outputs": [
        {
          "output_type": "execute_result",
          "data": {
            "text/plain": [
              "1530"
            ]
          },
          "metadata": {},
          "execution_count": 133
        }
      ]
    },
    {
      "cell_type": "code",
      "source": [
        "missing_carbs\n",
        "print(f\"{round(df['Total lipid (fat)'].isna().sum()*100/len(df), 2)}% of products are missing total fat\")\n",
        "print(f\"{round(df['Protein'].isna().sum()*100/len(df), 2)}% of products are missing total protein\")\n",
        "print(f\"{round(df['Carbohydrate, by difference'].isna().sum()*100/len(df), 2)}% of products are missing total carbs\")"
      ],
      "metadata": {
        "id": "0tYt78rYyLGH",
        "outputId": "cf9b4791-35de-4521-a659-d5f978502f3c",
        "colab": {
          "base_uri": "https://localhost:8080/"
        }
      },
      "execution_count": 139,
      "outputs": [
        {
          "output_type": "stream",
          "name": "stdout",
          "text": [
            "0.64% of products are missing total fat\n",
            "0.69% of products are missing total protein\n",
            "0.61% of products are missing total carbs\n"
          ]
        }
      ]
    },
    {
      "cell_type": "code",
      "source": [],
      "metadata": {
        "id": "-Ve7IbhawTkc"
      },
      "execution_count": null,
      "outputs": []
    },
    {
      "cell_type": "markdown",
      "source": [
        "##Feature Engineering\n",
        "**based on your findings from Basic EDA, briefly describe your plan for feature engineering\n",
        " \n",
        "(e.g., what transformations do you plan to do on any of the features, do you plan to drop any features, etc). If you have multiple complex features or features that may require trial and error, feel free to create one issue for each one of those features**\n",
        "\n",
        "##Train-Test Split\n",
        "**based on the metadata (such as size\n",
        "and target class distribution) of your dataset, briefly outline your train/test percent split. Include the percentage for your golden holdout set if you plan to leave one out**\n",
        "\n",
        "##Initial Pipeline\n",
        "**briefly describe the\n",
        "types of transformers you may need (such as an imputer, a column transformer, etc)**\n",
        "\n",
        "##Model Fitting and Evaluation\n",
        "**list 1-3 assumptions you have about feature importance or how you anticipate your model’s performance will be**\n"
      ],
      "metadata": {
        "id": "GqLYVAByPV27"
      }
    }
  ]
}